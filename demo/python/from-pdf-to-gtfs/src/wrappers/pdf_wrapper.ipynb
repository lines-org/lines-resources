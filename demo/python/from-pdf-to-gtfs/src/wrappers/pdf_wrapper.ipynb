{
 "cells": [
  {
   "cell_type": "code",
   "execution_count": 23,
   "metadata": {},
   "outputs": [],
   "source": [
    "import fitz\n",
    "import pdfplumber"
   ]
  },
  {
   "cell_type": "code",
   "execution_count": 24,
   "metadata": {},
   "outputs": [],
   "source": [
    "pdf_path = '../resources/aveiro-bus-11.pdf'\n",
    "pdf_rot_path = '../resources/aveiro-bus-11.90.pdf'"
   ]
  },
  {
   "cell_type": "code",
   "execution_count": 25,
   "metadata": {},
   "outputs": [],
   "source": [
    "pdf = fitz.open(pdf_path)\n",
    "for page in pdf:\n",
    "    page.set_rotation(90)\n",
    "pdf.save(pdf_rot_path)\n",
    "pdf.close()"
   ]
  },
  {
   "cell_type": "code",
   "execution_count": 26,
   "metadata": {},
   "outputs": [],
   "source": [
    "pdf = pdfplumber.open(pdf_path)\n",
    "pdf_page = pdf.pages[0]"
   ]
  },
  {
   "cell_type": "code",
   "execution_count": 27,
   "metadata": {},
   "outputs": [
    {
     "data": {
      "text/plain": [
       "(2.8346464646464646, 2.8346464646464646)"
      ]
     },
     "execution_count": 27,
     "metadata": {},
     "output_type": "execute_result"
    }
   ],
   "source": [
    "height_px, width_px = pdf_page.height, pdf_page.width\n",
    "height_mm, width_mm = 297, 297\n",
    "height_scale, width_scale = height_px/height_mm, width_px/width_mm\n",
    "height_scale, width_scale"
   ]
  },
  {
   "cell_type": "code",
   "execution_count": 28,
   "metadata": {},
   "outputs": [
    {
     "data": {
      "image/png": "[encoded data removed]",
      "text/plain": [
       "<pdfplumber.display.PageImage at 0x7fa1f2bd5540>"
      ]
     },
     "execution_count": 28,
     "metadata": {},
     "output_type": "execute_result"
    }
   ],
   "source": [
    "crop_bbox = (\n",
    "    width_scale * 40,\n",
    "    height_scale * 50,\n",
    "    width_scale * (width_mm - 40),\n",
    "    height_scale * (height_mm - 130),\n",
    ")\n",
    "table_settings = {\n",
    "    \"horizontal_strategy\": \"lines\",\n",
    "    \"vertical_strategy\": \"lines\",\n",
    "    \"intersection_x_tolerance\": 1_000,\n",
    "    \"intersection_y_tolerance\": 10,    \n",
    "    \"snap_tolerance\": 5,\n",
    "}\n",
    "pdf_tables = pdf_page.crop(crop_bbox)\n",
    "pdf_tables.to_image().debug_tablefinder(table_settings)"
   ]
  },
  {
   "cell_type": "code",
   "execution_count": 29,
   "metadata": {},
   "outputs": [
    {
     "name": "stdout",
     "output_type": "stream",
     "text": [
      "[[None, '', None, 'DIAS ÚTEIS - exceto agosto*', None, None, None, None, None, None, None, None, None, None, None, None, None, None], ['', 'Estação de Aveiro', '▼', '07:55', '08:20', '08:25', '08:50', '08:57', '09:20', '09:55', '10:20', '12:20', '13:20', '15:40', '16:40', '17:30', '18:00', '18:40'], ['', 'Av. Dr. Lourenço Peixinho - CTT B', '▼', '07:56', '08:21', '08:26', '08:51', '08:58', '09:21', '09:56', '10:21', '12:21', '13:21', '15:41', '16:41', '17:31', '18:01', '18:41'], ['', 'Av. Dr. Lourenço Peixinho - Capitania B', '▼', '08:00', '08:25', '08:30', '08:55', '09:02', '09:25', '10:00', '10:25', '12:25', '13:25', '15:45', '16:45', '17:35', '18:05', '18:45'], ['1', 'Caçadores 10 - Misericórdia', '▼', '08:01', '08:26', '08:31', '08:56', '09:03', '09:26', '10:01', '10:26', '12:26', '13:26', '15:46', '16:46', '17:36', '18:06', '18:46'], ['Z', 'Universidade - Antiga Reitoria A', '▼', '08:05', '08:30', '08:35', '09:00', '09:07', '09:30', '10:05', '10:30', '12:30', '13:30', '15:50', '16:50', '17:40', '18:10', '18:50'], ['', 'Universidade Crasto', '▼', '08:11', '08:36', '08:41', '09:06', '09:13', '09:36', '10:11', '10:36', '12:36', '13:36', '15:56', '16:56', '17:46', '18:16', '18:56'], ['', 'Universidade - Antiga Reitoria B', '▼', '08:18', '08:43', '08:48', '09:13', '09:20', '09:43', '10:18', '10:43', '12:43', '13:43', '16:03', '17:03', '17:53', '18:23', '19:03'], ['', 'Estação de Aveiro', '▼', '08:23', '08:48', '08:53', '09:18', '09:25', '09:48', '10:23', '10:48', '12:48', '13:48', '16:08', '17:08', '17:58', '18:28', '19:08']]\n",
      "[[None, None, None, 'Domingos', None, None, None, None, None, None, None, None], ['', 'Estação de Aveiro', '▼', '17:20', '18:20', '19:20', '19:55', '20:30', '21:00', '21:30', '22:20', '23:20'], ['', 'Av. Dr. Lourenço Peixinho - CTT B', '▼', '17:21', '18:21', '19:21', '19:56', '20:31', '21:01', '21:31', '22:21', '23:21'], ['', 'Av. Dr. Lourenço Peixinho - Capitania B', '▼', '17:23', '18:23', '19:23', '19:58', '20:33', '21:03', '21:33', '22:23', '23:23'], ['', 'Caçadores 10 - Misericórdia', '▼', '17:24', '18:24', '19:24', '19:59', '20:34', '21:04', '21:34', '22:24', '23:24'], ['1Z', 'Universidade - Antiga Reitoria A', '▼', '17:27', '18:27', '19:27', '20:02', '20:37', '21:07', '21:37', '22:27', '23:27'], ['', 'Universidade Crasto', '▼', '17:29', '18:29', '19:29', '20:04', '20:39', '21:09', '21:39', '22:29', '23:29'], ['', 'ISCAUA A', '▼', '17:34', '18:34', '19:34', '20:09', '20:44', '21:14', '21:44', '22:34', '23:34'], ['', 'R. Dr. Mário Sacramento A', '▼', '17:40', '18:40', '19:40', '20:15', '20:50', '21:20', '21:50', '22:40', '23:40'], ['', 'Estação de Aveiro', '▼', '17:47', '18:47', '19:47', '20:22', '20:57', '21:27', '21:57', '22:47', '23:47']]\n",
      "[['* Não se realizam no mês de agosto'], ['Inverno - do início da época escolar até 30 de junho']]\n"
     ]
    }
   ],
   "source": [
    "tables = pdf_tables.extract_tables(table_settings)\n",
    "for table in tables:\n",
    "    print(table)"
   ]
  },
  {
   "cell_type": "code",
   "execution_count": 30,
   "metadata": {},
   "outputs": [],
   "source": [
    "pdf_rot = pdfplumber.open(pdf_rot_path)\n",
    "pdf_rot_page = pdf_rot.pages[0]"
   ]
  },
  {
   "cell_type": "code",
   "execution_count": 31,
   "metadata": {},
   "outputs": [
    {
     "data": {
      "text/plain": [
       "(2.8346464646464646, 2.8346464646464646)"
      ]
     },
     "execution_count": 31,
     "metadata": {},
     "output_type": "execute_result"
    }
   ],
   "source": [
    "height_px, width_px = pdf_rot_page.height, pdf_rot_page.width\n",
    "height_mm, width_mm = 297, 297\n",
    "height_scale, width_scale = height_px/height_mm, width_px/width_mm\n",
    "height_scale, width_scale"
   ]
  },
  {
   "cell_type": "code",
   "execution_count": 32,
   "metadata": {},
   "outputs": [
    {
     "data": {
      "image/png": "[encoded data removed]",
      "text/plain": [
       "<pdfplumber.display.PageImage at 0x7fa1f38b7fd0>"
      ]
     },
     "execution_count": 32,
     "metadata": {},
     "output_type": "execute_result"
    }
   ],
   "source": [
    "crop_bbox = (\n",
    "    width_scale * 50,\n",
    "    height_scale * 50,\n",
    "    width_scale * (width_mm - 164),\n",
    "    height_scale * (height_mm - 50),\n",
    ")\n",
    "table_settings = {\n",
    "    \"horizontal_strategy\": \"text\",\n",
    "    \"vertical_strategy\": \"lines\",\n",
    "    \"intersection_x_tolerance\": 100,\n",
    "    \"intersection_y_tolerance\": 1_000,    \n",
    "    \"snap_tolerance\": 5,\n",
    "}\n",
    "pdf_rot_table = pdf_rot_page.crop(crop_bbox)\n",
    "pdf_rot_table.to_image().debug_tablefinder(table_settings)"
   ]
  },
  {
   "cell_type": "code",
   "execution_count": 33,
   "metadata": {},
   "outputs": [
    {
     "name": "stdout",
     "output_type": "stream",
     "text": [
      "[['DOMINGOS', 'DIAS ÚTEIS'], ['Estação de Aveiro Z1', 'Estação de Aveiro'], ['', ''], ['Av. Dr. Lourenço Peixinho - CTT B', 'Av. Dr. Lourenço Peixinho - CTT B'], ['Av. Dr. Lourenço Peixinho - Oita B', ''], ['', 'Av. Dr. Lourenço Peixinho - Oita B'], ['Av. Dr. Lourenço Peixinho - Capitania B', ''], ['', 'Av. Dr. L. Peixinho - Capitania B'], ['', ''], ['Caçadores 10 - Misericórdia', ''], ['', 'Caçadores 10 - Misericórdia'], ['Conservatório B', ''], ['', ''], ['Universidade - Antiga Reitoria A', 'Av. Santa Joana B'], ['', ''], ['Universidade - Reitoria B', 'Conservatório B'], ['Universidade - Pavilhão A', ''], ['', 'Universidade - Antiga Reitoria A'], ['Universidade - Santiago A', ''], ['', 'Universidade - Reitoria A'], ['', ''], ['Universidade Crasto', ''], ['', ''], ['', 'Universidade - Pavilhão A'], ['', ''], ['Universidade - Santiago B', ''], ['', ''], ['', 'Universidade - Santiago A'], ['ISCAUA A', ''], ['', 'Universidade Crasto'], ['R. Nova de Santiago A', ''], ['Escolas de Santiago', 'Universidade - Santiago B'], ['R. Dr. Mário Sacramento A', ''], ['', 'Universidade - Pavilhão B'], ['Av. Dr. Mário Sacramento - Centro Saúde A', ''], ['', 'Reitoria'], ['', ''], ['Av. da Oita A', ''], ['', ''], ['', 'Universidade - Antiga Reitoria B'], ['', ''], ['Av. 25 de Abril - Escola Mário Sacramento A', ''], ['', ''], ['', 'Conservatório A'], ['Av. 25 de Abril - Escola José Estevão A', ''], ['', 'Av. 5 de Outubro'], ['Av. 5 de Outubro', ''], ['Estação de Aveiro Z1', 'Estação de Aveiro']]\n"
     ]
    }
   ],
   "source": [
    "table = pdf_rot_table.extract_table(table_settings)\n",
    "print(table)"
   ]
  }
 ],
 "metadata": {
  "kernelspec": {
   "display_name": "venv",
   "language": "python",
   "name": "python3"
  },
  "language_info": {
   "codemirror_mode": {
    "name": "ipython",
    "version": 3
   },
   "file_extension": ".py",
   "mimetype": "text/x-python",
   "name": "python",
   "nbconvert_exporter": "python",
   "pygments_lexer": "ipython3",
   "version": "3.10.12"
  }
 },
 "nbformat": 4,
 "nbformat_minor": 2
}
