{
 "cells": [
  {
   "cell_type": "markdown",
   "metadata": {},
   "source": [
    "# From PDF to GTFS - Demo for Aveiro Bus line 11\n",
    "\n",
    "This notebook demonstrates how to create a GTFS Schedule feed for Aveiro Bus line 11. The main source of data is the line's PDF file with the complete schedule. Its information is complemented with data from the STePP database, namely to search the location of some stops.\n",
    "\n",
    "> The PDF file is used by the Aveiro Bus operator to communicate the most up-to-date schedule. It is the most reliable source of information for the schedule of line 11 available to the public.\n",
    "\n",
    "> The most recent version of the STePP database from Aveiro Bus available to the public is old (released in 2023, but refers to 2017). ALthough some stop names are slightly different, stops were possible to match automatically between the PDF file and the STePP database based on similarity scores. However, 3 missing stops (newer) had to be added manually.\n",
    "\n",
    "To assist in the process, wrapper classes for the STePP database (`SteppWrapper`) and the PDF file (`PdfWrapper`) were created, as well as data classes to represent the required GTFS entities (`agency.txt`, `routes.txt`, `trips.txt`, `stops.txt`, `stop_times.txt`, `calendar.txt`, `calendar_dates.txt`). In the end, the GTFS feed is validated using the Canonical GTFS Feed Validator.\n",
    "\n",
    "The main steps in this demonstration are as follows:\n",
    "\n",
    "1. Extract data from STePP database (from Aveiro Bus operator).\n",
    "2. Extract data from PDF file (schedule for line 11).\n",
    "3. Create required entities for a valid GTFS Schedule feed (using STePP and PDF data).\n",
    "4. Validate the GTFS feed using the Canonical GTFS Feed Validator."
   ]
  },
  {
   "cell_type": "code",
   "execution_count": 1,
   "metadata": {},
   "outputs": [],
   "source": [
    "import os\n",
    "import re\n",
    "import zipfile\n",
    "\n",
    "from datetime import datetime, timedelta\n",
    "from rapidfuzz import process, fuzz\n",
    "from wrappers import PdfWrapper, SteppWrapper\n",
    "\n",
    "from gtfs import (\n",
    "    GtfsAgency,\n",
    "    GtfsCalendarDate,\n",
    "    GtfsCalendar,\n",
    "    GtfsCsvWriter,\n",
    "    GtfsRoute,\n",
    "    GtfsStopTime,\n",
    "    GtfsStop,\n",
    "    GtfsTrip,\n",
    ")\n",
    "from gtfs import (\n",
    "    GtfsExceptionType,\n",
    "    GtfsServiceAvailability,\n",
    "    GtfsRouteType,\n",
    "    GtfsLocationType,\n",
    ")"
   ]
  },
  {
   "cell_type": "markdown",
   "metadata": {},
   "source": [
    "## 1. Extract data from STePP database (from Aveiro Bus operator)"
   ]
  },
  {
   "cell_type": "code",
   "execution_count": 2,
   "metadata": {},
   "outputs": [
    {
     "name": "stdout",
     "output_type": "stream",
     "text": [
      "Table           Cols  Rows  Type                                              \n",
      "--------------- ----- ----- --------------------------------------------------\n",
      "circulacoes     13    1954  <class 'pandas.core.frame.DataFrame'>             \n",
      "paragens        24    9005  <class 'geopandas.geodataframe.GeoDataFrame'>     \n",
      "segmentos       17    8548  <class 'geopandas.geodataframe.GeoDataFrame'>     \n",
      "servicos        41    264   <class 'pandas.core.frame.DataFrame'>             \n"
     ]
    }
   ],
   "source": [
    "stepp_wrapper = SteppWrapper(file_path='../resources/aveiro-bus.stepp.zip')\n",
    "stepp_data = stepp_wrapper.get_data()\n",
    "\n",
    "print(f'{\"Table\":<15} {\"Cols\":<5} {\"Rows\":<5} {\"Type\":<50}')\n",
    "print(f'{\"-\" * 15} {\"-\" * 5} {\"-\" * 5} {\"-\" * 50}')\n",
    "for k, v in stepp_data.items():\n",
    "    print(f'{k:<15} {len(v.columns):<5} {len(v):<5} {str(type(v)):<50}')"
   ]
  },
  {
   "cell_type": "markdown",
   "metadata": {},
   "source": [
    "## 2. Extract data from PDF file (schedule for line 11)."
   ]
  },
  {
   "cell_type": "code",
   "execution_count": 3,
   "metadata": {},
   "outputs": [],
   "source": [
    "pdf_wrapper = PdfWrapper(file_path='../resources/aveiro-bus-11.pdf')"
   ]
  },
  {
   "cell_type": "markdown",
   "metadata": {},
   "source": [
    "Name of the route (`pdf_route_name`)"
   ]
  },
  {
   "cell_type": "code",
   "execution_count": 4,
   "metadata": {},
   "outputs": [
    {
     "data": {
      "image/png": "[encoded data removed]",
      "text/plain": [
       "<pdfplumber.display.PageImage at 0x7f9a9c176470>"
      ]
     },
     "execution_count": 4,
     "metadata": {},
     "output_type": "execute_result"
    }
   ],
   "source": [
    "page_index = 0\n",
    "page_rotation = 0\n",
    "bbox = {\n",
    "    'left': 40,\n",
    "    'top': 40,\n",
    "    'right': 40,\n",
    "    'bottom': 250,\n",
    "}\n",
    "bbox_units = 'mm'\n",
    "table_settings = {\n",
    "    'horizontal_strategy': 'text',\n",
    "    'vertical_strategy': 'text',\n",
    "    'min_words_vertical': 1,\n",
    "}\n",
    "pdf_wrapper.debug_table_detection(\n",
    "    page_index=page_index,\n",
    "    page_rotation=page_rotation,\n",
    "    bbox=bbox,\n",
    "    bbox_units=bbox_units,\n",
    "    table_settings=table_settings,\n",
    ")"
   ]
  },
  {
   "cell_type": "code",
   "execution_count": 5,
   "metadata": {},
   "outputs": [
    {
     "name": "stdout",
     "output_type": "stream",
     "text": [
      "[['AVEIRO', 'ESTAÇÃO', '|', 'AVEIRO', '(UA)']]\n"
     ]
    }
   ],
   "source": [
    "pdf_route_name = pdf_wrapper.get_tables(\n",
    "    page_index=page_index,\n",
    "    page_rotation=page_rotation,\n",
    "    bbox=bbox,\n",
    "    bbox_units=bbox_units,\n",
    "    table_settings=table_settings,\n",
    ")\n",
    "for table in pdf_route_name:\n",
    "    print(table)"
   ]
  },
  {
   "cell_type": "markdown",
   "metadata": {},
   "source": [
    "### Timetable schedules (`pdf_schedules`)"
   ]
  },
  {
   "cell_type": "code",
   "execution_count": 6,
   "metadata": {},
   "outputs": [
    {
     "data": {
      "image/png": "[encoded data removed]",
      "text/plain": [
       "<pdfplumber.display.PageImage at 0x7f9a5cefc1c0>"
      ]
     },
     "execution_count": 6,
     "metadata": {},
     "output_type": "execute_result"
    }
   ],
   "source": [
    "page_index = 0\n",
    "page_rotation = 0\n",
    "bbox = {\n",
    "    'left': 40,\n",
    "    'top': 50,\n",
    "    'right': 40,\n",
    "    'bottom': 130,\n",
    "}\n",
    "bbox_units = 'mm'\n",
    "table_settings = {\n",
    "    'horizontal_strategy': 'lines',\n",
    "    'vertical_strategy': 'lines',\n",
    "    'intersection_x_tolerance': 1_000,\n",
    "    'intersection_y_tolerance': 10,\n",
    "    'snap_tolerance': 5,\n",
    "}\n",
    "pdf_wrapper.debug_table_detection(\n",
    "    page_index=page_index,\n",
    "    page_rotation=page_rotation,\n",
    "    bbox=bbox,\n",
    "    bbox_units=bbox_units,\n",
    "    table_settings=table_settings,\n",
    ")"
   ]
  },
  {
   "cell_type": "code",
   "execution_count": 7,
   "metadata": {},
   "outputs": [
    {
     "name": "stdout",
     "output_type": "stream",
     "text": [
      "[[None, '', None, 'DIAS ÚTEIS - exceto agosto*', None, None, None, None, None, None, None, None, None, None, None, None, None, None], ['', 'Estação de Aveiro', '▼', '07:55', '08:20', '08:25', '08:50', '08:57', '09:20', '09:55', '10:20', '12:20', '13:20', '15:40', '16:40', '17:30', '18:00', '18:40'], ['', 'Av. Dr. Lourenço Peixinho - CTT B', '▼', '07:56', '08:21', '08:26', '08:51', '08:58', '09:21', '09:56', '10:21', '12:21', '13:21', '15:41', '16:41', '17:31', '18:01', '18:41'], ['', 'Av. Dr. Lourenço Peixinho - Capitania B', '▼', '08:00', '08:25', '08:30', '08:55', '09:02', '09:25', '10:00', '10:25', '12:25', '13:25', '15:45', '16:45', '17:35', '18:05', '18:45'], ['1', 'Caçadores 10 - Misericórdia', '▼', '08:01', '08:26', '08:31', '08:56', '09:03', '09:26', '10:01', '10:26', '12:26', '13:26', '15:46', '16:46', '17:36', '18:06', '18:46'], ['Z', 'Universidade - Antiga Reitoria A', '▼', '08:05', '08:30', '08:35', '09:00', '09:07', '09:30', '10:05', '10:30', '12:30', '13:30', '15:50', '16:50', '17:40', '18:10', '18:50'], ['', 'Universidade Crasto', '▼', '08:11', '08:36', '08:41', '09:06', '09:13', '09:36', '10:11', '10:36', '12:36', '13:36', '15:56', '16:56', '17:46', '18:16', '18:56'], ['', 'Universidade - Antiga Reitoria B', '▼', '08:18', '08:43', '08:48', '09:13', '09:20', '09:43', '10:18', '10:43', '12:43', '13:43', '16:03', '17:03', '17:53', '18:23', '19:03'], ['', 'Estação de Aveiro', '▼', '08:23', '08:48', '08:53', '09:18', '09:25', '09:48', '10:23', '10:48', '12:48', '13:48', '16:08', '17:08', '17:58', '18:28', '19:08']]\n",
      "[[None, None, None, 'Domingos', None, None, None, None, None, None, None, None], ['', 'Estação de Aveiro', '▼', '17:20', '18:20', '19:20', '19:55', '20:30', '21:00', '21:30', '22:20', '23:20'], ['', 'Av. Dr. Lourenço Peixinho - CTT B', '▼', '17:21', '18:21', '19:21', '19:56', '20:31', '21:01', '21:31', '22:21', '23:21'], ['', 'Av. Dr. Lourenço Peixinho - Capitania B', '▼', '17:23', '18:23', '19:23', '19:58', '20:33', '21:03', '21:33', '22:23', '23:23'], ['', 'Caçadores 10 - Misericórdia', '▼', '17:24', '18:24', '19:24', '19:59', '20:34', '21:04', '21:34', '22:24', '23:24'], ['1Z', 'Universidade - Antiga Reitoria A', '▼', '17:27', '18:27', '19:27', '20:02', '20:37', '21:07', '21:37', '22:27', '23:27'], ['', 'Universidade Crasto', '▼', '17:29', '18:29', '19:29', '20:04', '20:39', '21:09', '21:39', '22:29', '23:29'], ['', 'ISCAUA A', '▼', '17:34', '18:34', '19:34', '20:09', '20:44', '21:14', '21:44', '22:34', '23:34'], ['', 'R. Dr. Mário Sacramento A', '▼', '17:40', '18:40', '19:40', '20:15', '20:50', '21:20', '21:50', '22:40', '23:40'], ['', 'Estação de Aveiro', '▼', '17:47', '18:47', '19:47', '20:22', '20:57', '21:27', '21:57', '22:47', '23:47']]\n",
      "[['* Não se realizam no mês de agosto'], ['Inverno - do início da época escolar até 30 de junho']]\n"
     ]
    }
   ],
   "source": [
    "pdf_schedules = pdf_wrapper.get_tables(\n",
    "    page_index=page_index,\n",
    "    page_rotation=page_rotation,\n",
    "    bbox=bbox,\n",
    "    bbox_units=bbox_units,\n",
    "    table_settings=table_settings,\n",
    ")\n",
    "for table in pdf_schedules:\n",
    "    print(table)"
   ]
  },
  {
   "cell_type": "markdown",
   "metadata": {},
   "source": [
    "### Covered stops (`pdf_stops`)"
   ]
  },
  {
   "cell_type": "code",
   "execution_count": 8,
   "metadata": {},
   "outputs": [
    {
     "data": {
      "image/png": "[encoded data removed]",
      "text/plain": [
       "<pdfplumber.display.PageImage at 0x7f9a584c9b70>"
      ]
     },
     "execution_count": 8,
     "metadata": {},
     "output_type": "execute_result"
    }
   ],
   "source": [
    "page_index = 0\n",
    "page_rotation = 90\n",
    "bbox = {\n",
    "    'left': 50,\n",
    "    'top': 50,\n",
    "    'right': 164,\n",
    "    'bottom': 50,\n",
    "}\n",
    "bbox_units = 'mm'\n",
    "table_settings = {\n",
    "    'horizontal_strategy': 'text',\n",
    "    'vertical_strategy': 'lines',\n",
    "    'intersection_x_tolerance': 100,\n",
    "    'intersection_y_tolerance': 1_000,\n",
    "    'snap_tolerance': 5,\n",
    "}\n",
    "pdf_wrapper.debug_table_detection(\n",
    "    page_index=page_index,\n",
    "    page_rotation=page_rotation,\n",
    "    bbox=bbox,\n",
    "    bbox_units=bbox_units,\n",
    "    table_settings=table_settings,\n",
    ")"
   ]
  },
  {
   "cell_type": "code",
   "execution_count": 9,
   "metadata": {},
   "outputs": [
    {
     "name": "stdout",
     "output_type": "stream",
     "text": [
      "[['DOMINGOS', 'DIAS ÚTEIS'], ['Estação de Aveiro Z1', 'Estação de Aveiro'], ['', ''], ['Av. Dr. Lourenço Peixinho - CTT B', 'Av. Dr. Lourenço Peixinho - CTT B'], ['Av. Dr. Lourenço Peixinho - Oita B', ''], ['', 'Av. Dr. Lourenço Peixinho - Oita B'], ['Av. Dr. Lourenço Peixinho - Capitania B', ''], ['', 'Av. Dr. L. Peixinho - Capitania B'], ['', ''], ['Caçadores 10 - Misericórdia', ''], ['', 'Caçadores 10 - Misericórdia'], ['Conservatório B', ''], ['', ''], ['Universidade - Antiga Reitoria A', 'Av. Santa Joana B'], ['', ''], ['Universidade - Reitoria B', 'Conservatório B'], ['Universidade - Pavilhão A', ''], ['', 'Universidade - Antiga Reitoria A'], ['Universidade - Santiago A', ''], ['', 'Universidade - Reitoria A'], ['', ''], ['Universidade Crasto', ''], ['', ''], ['', 'Universidade - Pavilhão A'], ['', ''], ['Universidade - Santiago B', ''], ['', ''], ['', 'Universidade - Santiago A'], ['ISCAUA A', ''], ['', 'Universidade Crasto'], ['R. Nova de Santiago A', ''], ['Escolas de Santiago', 'Universidade - Santiago B'], ['R. Dr. Mário Sacramento A', ''], ['', 'Universidade - Pavilhão B'], ['Av. Dr. Mário Sacramento - Centro Saúde A', ''], ['', 'Reitoria'], ['', ''], ['Av. da Oita A', ''], ['', ''], ['', 'Universidade - Antiga Reitoria B'], ['', ''], ['Av. 25 de Abril - Escola Mário Sacramento A', ''], ['', ''], ['', 'Conservatório A'], ['Av. 25 de Abril - Escola José Estevão A', ''], ['', 'Av. 5 de Outubro'], ['Av. 5 de Outubro', ''], ['Estação de Aveiro Z1', 'Estação de Aveiro']]\n"
     ]
    }
   ],
   "source": [
    "pdf_stops = pdf_wrapper.get_tables(\n",
    "    page_index=page_index,\n",
    "    page_rotation=page_rotation,\n",
    "    bbox=bbox,\n",
    "    bbox_units=bbox_units,\n",
    "    table_settings=table_settings,\n",
    ")\n",
    "for table in pdf_stops:\n",
    "    print(table)"
   ]
  },
  {
   "cell_type": "markdown",
   "metadata": {},
   "source": [
    "## 3. Create required entities for a valid GTFS Schedule feed (using STePP and PDF data).\n",
    "\n",
    "The most basic GTFS Schedule feed is composed of 7 files:\n",
    "- `agency.txt`\n",
    "- `routes.txt`\n",
    "- `trips.txt`\n",
    "- `stops.txt`\n",
    "- `stop_times.txt`\n",
    "- `calendar.txt`\n",
    "- `calendar_dates.txt`\n",
    "\n",
    "The creation of the feed followed the official [GTFS Schedule Reference](https://gtfs.org/documentation/schedule/reference/)."
   ]
  },
  {
   "cell_type": "markdown",
   "metadata": {},
   "source": [
    "### Construction of `agency.txt`"
   ]
  },
  {
   "cell_type": "code",
   "execution_count": 10,
   "metadata": {},
   "outputs": [
    {
     "data": {
      "text/plain": [
       "GtfsAgency(agency_id='AVEIRO_BUS', agency_name='Aveiro Bus', agency_url='http://www.aveirobus.pt/', agency_timezone='Europe/Lisbon', agency_lang='pt')"
      ]
     },
     "execution_count": 10,
     "metadata": {},
     "output_type": "execute_result"
    }
   ],
   "source": [
    "gtfs_agency = GtfsAgency(\n",
    "    agency_id='AVEIRO_BUS',\n",
    "    agency_name='Aveiro Bus',\n",
    "    agency_url='http://www.aveirobus.pt/',\n",
    "    agency_timezone='Europe/Lisbon',\n",
    "    agency_lang='pt',\n",
    ")\n",
    "gtfs_agency"
   ]
  },
  {
   "cell_type": "markdown",
   "metadata": {},
   "source": [
    "### Construction of `stops.txt`"
   ]
  },
  {
   "cell_type": "markdown",
   "metadata": {},
   "source": [
    "1. Transform all stops from STePP database into GTFS stops"
   ]
  },
  {
   "cell_type": "code",
   "execution_count": 11,
   "metadata": {},
   "outputs": [
    {
     "name": "stdout",
     "output_type": "stream",
     "text": [
      "Number of stops: 9005\n",
      "GtfsStop(stop_id='-7978747450465050333', stop_name='Estação de Aveiro', stop_lat=40.6435094466338, stop_lon=-8.641563019256438, stop_code=None, zone_id=None, stop_url=None, location_type=<GtfsLocationType.STOP: 0>)\n"
     ]
    }
   ],
   "source": [
    "all_gtfs_stops = []\n",
    "all_gtfs_stops_dict = {}\n",
    "\n",
    "for _, stepp_stop in stepp_data['paragens'].iterrows():\n",
    "    stop_lat = stepp_stop['geometry'].y\n",
    "    stop_lon = stepp_stop['geometry'].x\n",
    "    stop_name = stepp_stop['designacao']\n",
    "    stop_id = str(hash(f'{stop_lat}{stop_lon}{stop_name}'))\n",
    "\n",
    "    gtfs_stop = GtfsStop(\n",
    "        stop_id=stop_id,\n",
    "        # stop_code=None,\n",
    "        stop_name=stop_name,\n",
    "        stop_lat=stop_lat,\n",
    "        stop_lon=stop_lon,\n",
    "        # zone_id=None,\n",
    "        # stop_url=None,\n",
    "        location_type=GtfsLocationType.STOP,\n",
    "    )\n",
    "    all_gtfs_stops.append(gtfs_stop)\n",
    "    all_gtfs_stops_dict[stop_name] = gtfs_stop\n",
    "\n",
    "print('Number of stops:', len(all_gtfs_stops))\n",
    "print(all_gtfs_stops_dict['Estação de Aveiro'])"
   ]
  },
  {
   "cell_type": "markdown",
   "metadata": {},
   "source": [
    "2. Clean stop names from PDF file"
   ]
  },
  {
   "cell_type": "code",
   "execution_count": 12,
   "metadata": {},
   "outputs": [
    {
     "data": {
      "text/plain": [
       "{'Av. 25 de Abril - Escola José Estevão A',\n",
       " 'Av. 25 de Abril - Escola Mário Sacramento A',\n",
       " 'Av. 5 de Outubro',\n",
       " 'Av. Dr. L. Peixinho - Capitania B',\n",
       " 'Av. Dr. Lourenço Peixinho - CTT B',\n",
       " 'Av. Dr. Lourenço Peixinho - Capitania B',\n",
       " 'Av. Dr. Lourenço Peixinho - Oita B',\n",
       " 'Av. Dr. Mário Sacramento - Centro Saúde A',\n",
       " 'Av. Santa Joana B',\n",
       " 'Av. da Oita A',\n",
       " 'Caçadores 10 - Misericórdia',\n",
       " 'Conservatório A',\n",
       " 'Conservatório B',\n",
       " 'Escolas de Santiago',\n",
       " 'Estação de Aveiro',\n",
       " 'ISCAUA A',\n",
       " 'R. Dr. Mário Sacramento A',\n",
       " 'R. Nova de Santiago A',\n",
       " 'Reitoria',\n",
       " 'Universidade - Antiga Reitoria A',\n",
       " 'Universidade - Antiga Reitoria B',\n",
       " 'Universidade - Pavilhão A',\n",
       " 'Universidade - Pavilhão B',\n",
       " 'Universidade - Reitoria A',\n",
       " 'Universidade - Reitoria B',\n",
       " 'Universidade - Santiago A',\n",
       " 'Universidade - Santiago B',\n",
       " 'Universidade Crasto'}"
      ]
     },
     "execution_count": 12,
     "metadata": {},
     "output_type": "execute_result"
    }
   ],
   "source": [
    "stop_names = set()\n",
    "\n",
    "for sub_list in pdf_stops[0][1:]:  # Skip headers\n",
    "    for stop_name in sub_list:\n",
    "        if stop_name == '':\n",
    "            continue\n",
    "        if re.match(r'.*Z\\d+.*', stop_name):  # Detect stop_name with Z\\d+ pattern\n",
    "            stop_name = re.sub(r'\\s*Z\\d+\\s*', '', stop_name)  # Remove Z\\d+ pattern\n",
    "        stop_names.add(stop_name)\n",
    "\n",
    "stop_names"
   ]
  },
  {
   "cell_type": "markdown",
   "metadata": {},
   "source": [
    "3. Find stops from PDF file that are not found in STePP database through their names"
   ]
  },
  {
   "cell_type": "code",
   "execution_count": 13,
   "metadata": {},
   "outputs": [
    {
     "data": {
      "text/plain": [
       "{'Av. 25 de Abril - Escola José Estevão A',\n",
       " 'Av. 25 de Abril - Escola Mário Sacramento A',\n",
       " 'Av. 5 de Outubro',\n",
       " 'Av. Dr. L. Peixinho - Capitania B',\n",
       " 'Av. Dr. Mário Sacramento - Centro Saúde A',\n",
       " 'Av. da Oita A',\n",
       " 'Conservatório A',\n",
       " 'Conservatório B',\n",
       " 'R. Dr. Mário Sacramento A',\n",
       " 'R. Nova de Santiago A',\n",
       " 'Reitoria',\n",
       " 'Universidade - Antiga Reitoria A',\n",
       " 'Universidade - Antiga Reitoria B',\n",
       " 'Universidade - Pavilhão A',\n",
       " 'Universidade - Pavilhão B',\n",
       " 'Universidade - Reitoria A',\n",
       " 'Universidade - Reitoria B',\n",
       " 'Universidade - Santiago A',\n",
       " 'Universidade - Santiago B',\n",
       " 'Universidade Crasto'}"
      ]
     },
     "execution_count": 13,
     "metadata": {},
     "output_type": "execute_result"
    }
   ],
   "source": [
    "unmatched_stop_names = set()\n",
    "for stop_name in stop_names:\n",
    "    if stop_name not in all_gtfs_stops_dict.keys():\n",
    "        unmatched_stop_names.add(stop_name)\n",
    "unmatched_stop_names"
   ]
  },
  {
   "cell_type": "markdown",
   "metadata": {},
   "source": [
    "4. Find stops in STePP database with similar names to unmatched stops from PDF file"
   ]
  },
  {
   "cell_type": "code",
   "execution_count": 14,
   "metadata": {},
   "outputs": [],
   "source": [
    "def weighted_fuzzy_match(query, choices):\n",
    "    # Get the top 5 fuzzy matches\n",
    "    results = process.extract(query, choices, scorer=fuzz.token_sort_ratio, limit=5)\n",
    "    \n",
    "    # Prioritize exact word matches\n",
    "    query_words = set(query.lower().split())\n",
    "\n",
    "    best_match = None\n",
    "    best_score = 0\n",
    "\n",
    "    for match, score, _ in results:\n",
    "        match_words = set(match.lower().split())\n",
    "\n",
    "        # Boost score if the query word is fully contained in the match\n",
    "        if query_words.issubset(match_words):\n",
    "            score += 100  # Increase weight for exact word presence\n",
    "\n",
    "        # Select the best-scoring result\n",
    "        if score > best_score:\n",
    "            best_score = score\n",
    "            best_match = match\n",
    "\n",
    "    return best_match, score"
   ]
  },
  {
   "cell_type": "code",
   "execution_count": 15,
   "metadata": {},
   "outputs": [
    {
     "name": "stdout",
     "output_type": "stream",
     "text": [
      "Stop Name                                          Best Match                                         Score \n",
      "-------------------------------------------------- -------------------------------------------------- ------\n",
      "R. Dr. Mário Sacramento A                          Rua Dr. Mário Sacramento A                          57.14 \n",
      "Universidade - Reitoria A                          Universidade - Reitoria                             73.91 \n",
      "Universidade - Pavilhão B                          Universidade - Pavilhão                             70.83 \n",
      "Av. da Oita A                                      Avenida da Oita A                                   50.00 \n",
      "Universidade - Reitoria B                          Universidade - Reitoria                             73.91 \n",
      "Conservatório A                                    Aradas - Correios                                   45.71 <\n",
      "Reitoria                                           Universidade - Reitoria                            151.61 \n",
      "Av. 5 de Outubro                                   Estação de Aveiro                                   45.16 <\n",
      "Universidade - Santiago A                          Universidade - Santiago                             75.00 \n",
      "Conservatório B                                    Carritos 2                                          45.71 <\n",
      "Av. Dr. L. Peixinho - Capitania B                  Av. Dr. Lourenço Peixinho - Capitania B             66.67 \n",
      "R. Nova de Santiago A                              Rua Nova de Santiago (A/B)                          58.54 \n",
      "Universidade - Santiago B                          Universidade - Santiago                             72.73 \n",
      "Universidade - Antiga Reitoria B                   Universidade - Antiga Reitoria                      66.67 \n",
      "Av. 25 de Abril - Escola José Estevão A            Avenida 25 de Abril - Escola José Estevão A         57.14 \n",
      "Universidade Crasto                                Universidade - Crasto                               68.18 \n",
      "Av. 25 de Abril - Escola Mário Sacramento A        Av. 25 de Abril - Esc. M. Sacramento A              62.07 \n",
      "Av. Dr. Mário Sacramento - Centro Saúde A          Rua Dr. Mário Sacramento - Centro de Saúde A        63.29 \n",
      "Universidade - Pavilhão A                          Universidade - Pavilhão                             70.83 \n",
      "Universidade - Antiga Reitoria A                   Universidade - Antiga Reitoria                      66.67 \n"
     ]
    }
   ],
   "source": [
    "matched_stop_names_with_score = {}\n",
    "print(f'{\"Stop Name\":<50} {\"Best Match\":<50} {\"Score\":<6}') \n",
    "print(f'{\"-\" * 50} {\"-\" * 50} {\"-\" * 6}')\n",
    "for stop_name in unmatched_stop_names:\n",
    "    if stop_name not in all_gtfs_stops_dict.keys():\n",
    "        best_match, score = weighted_fuzzy_match(stop_name, all_gtfs_stops_dict.keys())\n",
    "        matched_stop_names_with_score[stop_name] = best_match, score\n",
    "        print(f'{stop_name:<50} {best_match:<50} {score:>6.2f} {\"<\" if score < 50 else \"\"}')"
   ]
  },
  {
   "cell_type": "markdown",
   "metadata": {},
   "source": [
    "5. Exclude stops with low similarity score and manually add them"
   ]
  },
  {
   "cell_type": "code",
   "execution_count": 16,
   "metadata": {},
   "outputs": [
    {
     "data": {
      "text/plain": [
       "{'Av. 5 de Outubro', 'Conservatório A', 'Conservatório B'}"
      ]
     },
     "execution_count": 16,
     "metadata": {},
     "output_type": "execute_result"
    }
   ],
   "source": [
    "unmatched_stop_names = set()\n",
    "for stop_name, (best_match, score) in matched_stop_names_with_score.items():\n",
    "    if score < 50:\n",
    "        unmatched_stop_names.add(stop_name)\n",
    "        continue\n",
    "    all_gtfs_stops_dict[stop_name] = all_gtfs_stops_dict[best_match]\n",
    "unmatched_stop_names"
   ]
  },
  {
   "cell_type": "code",
   "execution_count": 17,
   "metadata": {},
   "outputs": [],
   "source": [
    "for stop_data in [\n",
    "    {'stop_name': 'Conservatório A', 'stop_lat': 40.6364063, 'stop_lon': -8.6543704},\n",
    "    {'stop_name': 'Conservatório B', 'stop_lat': 40.636500, 'stop_lon': -8.653962},\n",
    "    {'stop_name': 'Av. 5 de Outubro', 'stop_lat': 40.641892, 'stop_lon': -8.646715},\n",
    "]:\n",
    "    stop_id = str(\n",
    "        hash(f\"{stop_data['stop_lat']}{stop_data['stop_lon']}{stop_data['stop_name']}\")\n",
    "    )\n",
    "    gtfs_stop = GtfsStop(\n",
    "        stop_id=stop_id,\n",
    "        stop_name=stop_data['stop_name'],\n",
    "        stop_lat=stop_data['stop_lat'],\n",
    "        stop_lon=stop_data['stop_lon'],\n",
    "        location_type=GtfsLocationType.STOP,\n",
    "    )\n",
    "    all_gtfs_stops.append(gtfs_stop)\n",
    "    all_gtfs_stops_dict[stop_data['stop_name']] = gtfs_stop"
   ]
  },
  {
   "cell_type": "markdown",
   "metadata": {},
   "source": [
    "5. Verify that all stops from PDF file are associated with a stop from STePP database"
   ]
  },
  {
   "cell_type": "code",
   "execution_count": 18,
   "metadata": {},
   "outputs": [
    {
     "data": {
      "text/plain": [
       "True"
      ]
     },
     "execution_count": 18,
     "metadata": {},
     "output_type": "execute_result"
    }
   ],
   "source": [
    "all(stop_name in all_gtfs_stops_dict.keys() for stop_name in stop_names)"
   ]
  },
  {
   "cell_type": "markdown",
   "metadata": {},
   "source": [
    "6. Remove duplicate stops after association"
   ]
  },
  {
   "cell_type": "code",
   "execution_count": 19,
   "metadata": {},
   "outputs": [
    {
     "data": {
      "text/plain": [
       "[GtfsStop(stop_id='-7416044751956061976', stop_name='Rua Dr. Mário Sacramento - Centro de Saúde A', stop_lat=40.63186828879385, stop_lon=-8.648376613417811, stop_code=None, zone_id=None, stop_url=None, location_type=<GtfsLocationType.STOP: 0>),\n",
       " GtfsStop(stop_id='1296326338167383190', stop_name='Av. 5 de Outubro', stop_lat=40.641892, stop_lon=-8.646715, stop_code=None, zone_id=None, stop_url=None, location_type=<GtfsLocationType.STOP: 0>),\n",
       " GtfsStop(stop_id='-4437974693873153127', stop_name='Universidade - Antiga Reitoria', stop_lat=40.634505014643544, stop_lon=-8.6574848781651, stop_code=None, zone_id=None, stop_url=None, location_type=<GtfsLocationType.STOP: 0>),\n",
       " GtfsStop(stop_id='1404690494610635814', stop_name='Universidade - Reitoria', stop_lat=40.631710762750345, stop_lon=-8.657486663129179, stop_code=None, zone_id=None, stop_url=None, location_type=<GtfsLocationType.STOP: 0>),\n",
       " GtfsStop(stop_id='3669347682309318554', stop_name='Universidade - Crasto', stop_lat=40.62339095371233, stop_lon=-8.6576915216687, stop_code=None, zone_id=None, stop_url=None, location_type=<GtfsLocationType.STOP: 0>),\n",
       " GtfsStop(stop_id='-6125832270136671136', stop_name='Conservatório A', stop_lat=40.6364063, stop_lon=-8.6543704, stop_code=None, zone_id=None, stop_url=None, location_type=<GtfsLocationType.STOP: 0>),\n",
       " GtfsStop(stop_id='-7978747450465050333', stop_name='Estação de Aveiro', stop_lat=40.6435094466338, stop_lon=-8.641563019256438, stop_code=None, zone_id=None, stop_url=None, location_type=<GtfsLocationType.STOP: 0>),\n",
       " GtfsStop(stop_id='3449979680681364563', stop_name='Caçadores 10 - Misericórdia', stop_lat=40.64083420653954, stop_lon=-8.652939715527888, stop_code=None, zone_id=None, stop_url=None, location_type=<GtfsLocationType.STOP: 0>),\n",
       " GtfsStop(stop_id='3296271802036003081', stop_name='Av. Dr. Lourenço Peixinho - CTT B', stop_lat=40.6433560964379, stop_lon=-8.645108300174428, stop_code=None, zone_id=None, stop_url=None, location_type=<GtfsLocationType.STOP: 0>),\n",
       " GtfsStop(stop_id='6155560499219983615', stop_name='Avenida da Oita A', stop_lat=40.63477157169873, stop_lon=-8.64852500349131, stop_code=None, zone_id=None, stop_url=None, location_type=<GtfsLocationType.STOP: 0>),\n",
       " GtfsStop(stop_id='7365573631076063212', stop_name='Conservatório B', stop_lat=40.6365, stop_lon=-8.653962, stop_code=None, zone_id=None, stop_url=None, location_type=<GtfsLocationType.STOP: 0>),\n",
       " GtfsStop(stop_id='5163297973265390477', stop_name='Rua Nova de Santiago (A/B)', stop_lat=40.62928330544863, stop_lon=-8.651773248240756, stop_code=None, zone_id=None, stop_url=None, location_type=<GtfsLocationType.STOP: 0>),\n",
       " GtfsStop(stop_id='-2988706951121556919', stop_name='Av. 25 de Abril - Esc. M. Sacramento A', stop_lat=40.636517673416925, stop_lon=-8.647318452217203, stop_code=None, zone_id=None, stop_url=None, location_type=<GtfsLocationType.STOP: 0>),\n",
       " GtfsStop(stop_id='-2964692957099076441', stop_name='ISCAUA A', stop_lat=40.630718025091525, stop_lon=-8.653564894030664, stop_code=None, zone_id=None, stop_url=None, location_type=<GtfsLocationType.STOP: 0>),\n",
       " GtfsStop(stop_id='4493647475016865041', stop_name='Rua Dr. Mário Sacramento A', stop_lat=40.62925257258729, stop_lon=-8.648014616953665, stop_code=None, zone_id=None, stop_url=None, location_type=<GtfsLocationType.STOP: 0>),\n",
       " GtfsStop(stop_id='157321904888292943', stop_name='Universidade - Santiago', stop_lat=40.6298708295708, stop_lon=-8.659461667939091, stop_code=None, zone_id=None, stop_url=None, location_type=<GtfsLocationType.STOP: 0>),\n",
       " GtfsStop(stop_id='1049215841727389041', stop_name='Av. Dr. Lourenço Peixinho - Oita B', stop_lat=40.642922319947, stop_lon=-8.647202011832857, stop_code=None, zone_id=None, stop_url=None, location_type=<GtfsLocationType.STOP: 0>),\n",
       " GtfsStop(stop_id='-2301726101652392779', stop_name='Avenida 25 de Abril - Escola José Estevão A', stop_lat=40.63849149367525, stop_lon=-8.649784312266835, stop_code=None, zone_id=None, stop_url=None, location_type=<GtfsLocationType.STOP: 0>),\n",
       " GtfsStop(stop_id='4633092720674564125', stop_name='Av. Santa Joana B', stop_lat=40.63872345076467, stop_lon=-8.651236925375551, stop_code=None, zone_id=None, stop_url=None, location_type=<GtfsLocationType.STOP: 0>),\n",
       " GtfsStop(stop_id='-2437510910615000085', stop_name='Escolas de Santiago', stop_lat=40.62709113706664, stop_lon=-8.649354010159245, stop_code=None, zone_id=None, stop_url=None, location_type=<GtfsLocationType.STOP: 0>),\n",
       " GtfsStop(stop_id='6648252636946330296', stop_name='Universidade - Pavilhão', stop_lat=40.63068147887299, stop_lon=-8.655589442148962, stop_code=None, zone_id=None, stop_url=None, location_type=<GtfsLocationType.STOP: 0>),\n",
       " GtfsStop(stop_id='-5726904257136342933', stop_name='Av. Dr. Lourenço Peixinho - Capitania B', stop_lat=40.64191642903394, stop_lon=-8.65234293475258, stop_code=None, zone_id=None, stop_url=None, location_type=<GtfsLocationType.STOP: 0>)]"
      ]
     },
     "execution_count": 19,
     "metadata": {},
     "output_type": "execute_result"
    }
   ],
   "source": [
    "gtfs_stops = list(set([all_gtfs_stops_dict[stop_name] for stop_name in stop_names]))\n",
    "gtfs_stops_dict = {gtfs_stop.stop_name: gtfs_stop for gtfs_stop in gtfs_stops}\n",
    "gtfs_stops"
   ]
  },
  {
   "cell_type": "markdown",
   "metadata": {},
   "source": [
    "### Construction of `routes.txt`"
   ]
  },
  {
   "cell_type": "code",
   "execution_count": 20,
   "metadata": {},
   "outputs": [
    {
     "data": {
      "text/plain": [
       "[GtfsRoute(route_id='11_UTEIS', agency_id='AVEIRO_BUS', route_short_name='L11', route_long_name='AVEIRO ESTAÇÃO | AVEIRO (UA)', route_type=<GtfsRouteType.BUS: 3>, route_desc='DIAS ÚTEIS - exceto agosto* (* Não se realizam no mês de agosto)', route_url=None, route_color=None, route_text_color=None),\n",
       " GtfsRoute(route_id='11_DOMINGOS', agency_id='AVEIRO_BUS', route_short_name='L11', route_long_name='AVEIRO ESTAÇÃO | AVEIRO (UA)', route_type=<GtfsRouteType.BUS: 3>, route_desc='Domingos (Inverno - do início da época escolar até 30 de junho)', route_url=None, route_color=None, route_text_color=None)]"
      ]
     },
     "execution_count": 20,
     "metadata": {},
     "output_type": "execute_result"
    }
   ],
   "source": [
    "gtfs_routes = [\n",
    "    GtfsRoute(\n",
    "        route_id='11_UTEIS',\n",
    "        agency_id=gtfs_agency.agency_id,\n",
    "        route_short_name='L11',\n",
    "        route_long_name=' '.join(pdf_route_name[0][0]),\n",
    "        route_type=GtfsRouteType.BUS,\n",
    "        route_desc=f'{pdf_schedules[0][0][3]} ({pdf_schedules[2][0][0]})',\n",
    "        # route_url=None,\n",
    "        # route_color=None,\n",
    "        # route_text_color=None,\n",
    "    ),\n",
    "    GtfsRoute(\n",
    "        route_id='11_DOMINGOS',\n",
    "        agency_id=gtfs_agency.agency_id,\n",
    "        route_short_name='L11',\n",
    "        route_long_name=' '.join(pdf_route_name[0][0]),\n",
    "        route_type=GtfsRouteType.BUS,\n",
    "        route_desc=f'{pdf_schedules[1][0][3]} ({pdf_schedules[2][1][0]})',\n",
    "        # route_url=None,\n",
    "        # route_color=None,\n",
    "        # route_text_color=None,\n",
    "    ),\n",
    "]\n",
    "gtfs_routes_dict = {gtfs_route.route_id: gtfs_route for gtfs_route in gtfs_routes}\n",
    "gtfs_routes"
   ]
  },
  {
   "cell_type": "markdown",
   "metadata": {},
   "source": [
    "### Construction of `calendar.txt`"
   ]
  },
  {
   "cell_type": "code",
   "execution_count": 21,
   "metadata": {},
   "outputs": [
    {
     "data": {
      "text/plain": [
       "[GtfsCalendar(service_id='UTEIS_NO_AUG', monday=<GtfsServiceAvailability.YES: 1>, tuesday=<GtfsServiceAvailability.YES: 1>, wednesday=<GtfsServiceAvailability.YES: 1>, thursday=<GtfsServiceAvailability.YES: 1>, friday=<GtfsServiceAvailability.YES: 1>, saturday=<GtfsServiceAvailability.NO: 0>, sunday=<GtfsServiceAvailability.NO: 0>, start_date=datetime.datetime(2025, 1, 1, 0, 0), end_date=datetime.datetime(2025, 12, 31, 0, 0)),\n",
       " GtfsCalendar(service_id='DOMINGOS_NO_JUL_AUG', monday=<GtfsServiceAvailability.NO: 0>, tuesday=<GtfsServiceAvailability.NO: 0>, wednesday=<GtfsServiceAvailability.NO: 0>, thursday=<GtfsServiceAvailability.NO: 0>, friday=<GtfsServiceAvailability.NO: 0>, saturday=<GtfsServiceAvailability.NO: 0>, sunday=<GtfsServiceAvailability.YES: 1>, start_date=datetime.datetime(2025, 1, 1, 0, 0), end_date=datetime.datetime(2025, 12, 31, 0, 0))]"
      ]
     },
     "execution_count": 21,
     "metadata": {},
     "output_type": "execute_result"
    }
   ],
   "source": [
    "gtfs_calendars = [\n",
    "    GtfsCalendar(\n",
    "        service_id='UTEIS_NO_AUG',\n",
    "        monday=GtfsServiceAvailability.YES,\n",
    "        tuesday=GtfsServiceAvailability.YES,\n",
    "        wednesday=GtfsServiceAvailability.YES,\n",
    "        thursday=GtfsServiceAvailability.YES,\n",
    "        friday=GtfsServiceAvailability.YES,\n",
    "        saturday=GtfsServiceAvailability.NO,\n",
    "        sunday=GtfsServiceAvailability.NO,\n",
    "        start_date=datetime(year=2025, month=1, day=1),\n",
    "        end_date=datetime(year=2025, month=12, day=31),\n",
    "    ),\n",
    "    GtfsCalendar(\n",
    "        service_id='DOMINGOS_NO_JUL_AUG',\n",
    "        monday=GtfsServiceAvailability.NO,\n",
    "        tuesday=GtfsServiceAvailability.NO,\n",
    "        wednesday=GtfsServiceAvailability.NO,\n",
    "        thursday=GtfsServiceAvailability.NO,\n",
    "        friday=GtfsServiceAvailability.NO,\n",
    "        saturday=GtfsServiceAvailability.NO,\n",
    "        sunday=GtfsServiceAvailability.YES,\n",
    "        start_date=datetime(year=2025, month=1, day=1),\n",
    "        end_date=datetime(year=2025, month=12, day=31),\n",
    "    ),\n",
    "]\n",
    "gtfs_calendars_dict = {\n",
    "    gtfs_calendar.service_id: gtfs_calendar for gtfs_calendar in gtfs_calendars\n",
    "}\n",
    "gtfs_calendars"
   ]
  },
  {
   "cell_type": "markdown",
   "metadata": {},
   "source": [
    "### Construction of `calendar_dates.txt`"
   ]
  },
  {
   "cell_type": "code",
   "execution_count": 22,
   "metadata": {},
   "outputs": [
    {
     "data": {
      "text/plain": [
       "[GtfsCalendarDate(service_id='UTEIS_NO_AUG', date='20250801', exception_type=<GtfsExceptionType.REMOVED: 2>),\n",
       " GtfsCalendarDate(service_id='UTEIS_NO_AUG', date='20250802', exception_type=<GtfsExceptionType.REMOVED: 2>),\n",
       " GtfsCalendarDate(service_id='UTEIS_NO_AUG', date='20250803', exception_type=<GtfsExceptionType.REMOVED: 2>),\n",
       " GtfsCalendarDate(service_id='UTEIS_NO_AUG', date='20250804', exception_type=<GtfsExceptionType.REMOVED: 2>),\n",
       " GtfsCalendarDate(service_id='UTEIS_NO_AUG', date='20250805', exception_type=<GtfsExceptionType.REMOVED: 2>),\n",
       " GtfsCalendarDate(service_id='UTEIS_NO_AUG', date='20250806', exception_type=<GtfsExceptionType.REMOVED: 2>),\n",
       " GtfsCalendarDate(service_id='UTEIS_NO_AUG', date='20250807', exception_type=<GtfsExceptionType.REMOVED: 2>),\n",
       " GtfsCalendarDate(service_id='UTEIS_NO_AUG', date='20250808', exception_type=<GtfsExceptionType.REMOVED: 2>),\n",
       " GtfsCalendarDate(service_id='UTEIS_NO_AUG', date='20250809', exception_type=<GtfsExceptionType.REMOVED: 2>),\n",
       " GtfsCalendarDate(service_id='UTEIS_NO_AUG', date='20250810', exception_type=<GtfsExceptionType.REMOVED: 2>),\n",
       " GtfsCalendarDate(service_id='UTEIS_NO_AUG', date='20250811', exception_type=<GtfsExceptionType.REMOVED: 2>),\n",
       " GtfsCalendarDate(service_id='UTEIS_NO_AUG', date='20250812', exception_type=<GtfsExceptionType.REMOVED: 2>),\n",
       " GtfsCalendarDate(service_id='UTEIS_NO_AUG', date='20250813', exception_type=<GtfsExceptionType.REMOVED: 2>),\n",
       " GtfsCalendarDate(service_id='UTEIS_NO_AUG', date='20250814', exception_type=<GtfsExceptionType.REMOVED: 2>),\n",
       " GtfsCalendarDate(service_id='UTEIS_NO_AUG', date='20250815', exception_type=<GtfsExceptionType.REMOVED: 2>),\n",
       " GtfsCalendarDate(service_id='UTEIS_NO_AUG', date='20250816', exception_type=<GtfsExceptionType.REMOVED: 2>),\n",
       " GtfsCalendarDate(service_id='UTEIS_NO_AUG', date='20250817', exception_type=<GtfsExceptionType.REMOVED: 2>),\n",
       " GtfsCalendarDate(service_id='UTEIS_NO_AUG', date='20250818', exception_type=<GtfsExceptionType.REMOVED: 2>),\n",
       " GtfsCalendarDate(service_id='UTEIS_NO_AUG', date='20250819', exception_type=<GtfsExceptionType.REMOVED: 2>),\n",
       " GtfsCalendarDate(service_id='UTEIS_NO_AUG', date='20250820', exception_type=<GtfsExceptionType.REMOVED: 2>),\n",
       " GtfsCalendarDate(service_id='UTEIS_NO_AUG', date='20250821', exception_type=<GtfsExceptionType.REMOVED: 2>),\n",
       " GtfsCalendarDate(service_id='UTEIS_NO_AUG', date='20250822', exception_type=<GtfsExceptionType.REMOVED: 2>),\n",
       " GtfsCalendarDate(service_id='UTEIS_NO_AUG', date='20250823', exception_type=<GtfsExceptionType.REMOVED: 2>),\n",
       " GtfsCalendarDate(service_id='UTEIS_NO_AUG', date='20250824', exception_type=<GtfsExceptionType.REMOVED: 2>),\n",
       " GtfsCalendarDate(service_id='UTEIS_NO_AUG', date='20250825', exception_type=<GtfsExceptionType.REMOVED: 2>),\n",
       " GtfsCalendarDate(service_id='UTEIS_NO_AUG', date='20250826', exception_type=<GtfsExceptionType.REMOVED: 2>),\n",
       " GtfsCalendarDate(service_id='UTEIS_NO_AUG', date='20250827', exception_type=<GtfsExceptionType.REMOVED: 2>),\n",
       " GtfsCalendarDate(service_id='UTEIS_NO_AUG', date='20250828', exception_type=<GtfsExceptionType.REMOVED: 2>),\n",
       " GtfsCalendarDate(service_id='UTEIS_NO_AUG', date='20250829', exception_type=<GtfsExceptionType.REMOVED: 2>),\n",
       " GtfsCalendarDate(service_id='UTEIS_NO_AUG', date='20250830', exception_type=<GtfsExceptionType.REMOVED: 2>),\n",
       " GtfsCalendarDate(service_id='UTEIS_NO_AUG', date='20250831', exception_type=<GtfsExceptionType.REMOVED: 2>),\n",
       " GtfsCalendarDate(service_id='DOMINGOS_NO_JUL_AUG', date='20250701', exception_type=<GtfsExceptionType.REMOVED: 2>),\n",
       " GtfsCalendarDate(service_id='DOMINGOS_NO_JUL_AUG', date='20250702', exception_type=<GtfsExceptionType.REMOVED: 2>),\n",
       " GtfsCalendarDate(service_id='DOMINGOS_NO_JUL_AUG', date='20250703', exception_type=<GtfsExceptionType.REMOVED: 2>),\n",
       " GtfsCalendarDate(service_id='DOMINGOS_NO_JUL_AUG', date='20250704', exception_type=<GtfsExceptionType.REMOVED: 2>),\n",
       " GtfsCalendarDate(service_id='DOMINGOS_NO_JUL_AUG', date='20250705', exception_type=<GtfsExceptionType.REMOVED: 2>),\n",
       " GtfsCalendarDate(service_id='DOMINGOS_NO_JUL_AUG', date='20250706', exception_type=<GtfsExceptionType.REMOVED: 2>),\n",
       " GtfsCalendarDate(service_id='DOMINGOS_NO_JUL_AUG', date='20250707', exception_type=<GtfsExceptionType.REMOVED: 2>),\n",
       " GtfsCalendarDate(service_id='DOMINGOS_NO_JUL_AUG', date='20250708', exception_type=<GtfsExceptionType.REMOVED: 2>),\n",
       " GtfsCalendarDate(service_id='DOMINGOS_NO_JUL_AUG', date='20250709', exception_type=<GtfsExceptionType.REMOVED: 2>),\n",
       " GtfsCalendarDate(service_id='DOMINGOS_NO_JUL_AUG', date='20250710', exception_type=<GtfsExceptionType.REMOVED: 2>),\n",
       " GtfsCalendarDate(service_id='DOMINGOS_NO_JUL_AUG', date='20250711', exception_type=<GtfsExceptionType.REMOVED: 2>),\n",
       " GtfsCalendarDate(service_id='DOMINGOS_NO_JUL_AUG', date='20250712', exception_type=<GtfsExceptionType.REMOVED: 2>),\n",
       " GtfsCalendarDate(service_id='DOMINGOS_NO_JUL_AUG', date='20250713', exception_type=<GtfsExceptionType.REMOVED: 2>),\n",
       " GtfsCalendarDate(service_id='DOMINGOS_NO_JUL_AUG', date='20250714', exception_type=<GtfsExceptionType.REMOVED: 2>),\n",
       " GtfsCalendarDate(service_id='DOMINGOS_NO_JUL_AUG', date='20250715', exception_type=<GtfsExceptionType.REMOVED: 2>),\n",
       " GtfsCalendarDate(service_id='DOMINGOS_NO_JUL_AUG', date='20250716', exception_type=<GtfsExceptionType.REMOVED: 2>),\n",
       " GtfsCalendarDate(service_id='DOMINGOS_NO_JUL_AUG', date='20250717', exception_type=<GtfsExceptionType.REMOVED: 2>),\n",
       " GtfsCalendarDate(service_id='DOMINGOS_NO_JUL_AUG', date='20250718', exception_type=<GtfsExceptionType.REMOVED: 2>),\n",
       " GtfsCalendarDate(service_id='DOMINGOS_NO_JUL_AUG', date='20250719', exception_type=<GtfsExceptionType.REMOVED: 2>),\n",
       " GtfsCalendarDate(service_id='DOMINGOS_NO_JUL_AUG', date='20250720', exception_type=<GtfsExceptionType.REMOVED: 2>),\n",
       " GtfsCalendarDate(service_id='DOMINGOS_NO_JUL_AUG', date='20250721', exception_type=<GtfsExceptionType.REMOVED: 2>),\n",
       " GtfsCalendarDate(service_id='DOMINGOS_NO_JUL_AUG', date='20250722', exception_type=<GtfsExceptionType.REMOVED: 2>),\n",
       " GtfsCalendarDate(service_id='DOMINGOS_NO_JUL_AUG', date='20250723', exception_type=<GtfsExceptionType.REMOVED: 2>),\n",
       " GtfsCalendarDate(service_id='DOMINGOS_NO_JUL_AUG', date='20250724', exception_type=<GtfsExceptionType.REMOVED: 2>),\n",
       " GtfsCalendarDate(service_id='DOMINGOS_NO_JUL_AUG', date='20250725', exception_type=<GtfsExceptionType.REMOVED: 2>),\n",
       " GtfsCalendarDate(service_id='DOMINGOS_NO_JUL_AUG', date='20250726', exception_type=<GtfsExceptionType.REMOVED: 2>),\n",
       " GtfsCalendarDate(service_id='DOMINGOS_NO_JUL_AUG', date='20250727', exception_type=<GtfsExceptionType.REMOVED: 2>),\n",
       " GtfsCalendarDate(service_id='DOMINGOS_NO_JUL_AUG', date='20250728', exception_type=<GtfsExceptionType.REMOVED: 2>),\n",
       " GtfsCalendarDate(service_id='DOMINGOS_NO_JUL_AUG', date='20250729', exception_type=<GtfsExceptionType.REMOVED: 2>),\n",
       " GtfsCalendarDate(service_id='DOMINGOS_NO_JUL_AUG', date='20250730', exception_type=<GtfsExceptionType.REMOVED: 2>),\n",
       " GtfsCalendarDate(service_id='DOMINGOS_NO_JUL_AUG', date='20250731', exception_type=<GtfsExceptionType.REMOVED: 2>),\n",
       " GtfsCalendarDate(service_id='11_DOMINGOS', date='20250801', exception_type=<GtfsExceptionType.REMOVED: 2>),\n",
       " GtfsCalendarDate(service_id='11_DOMINGOS', date='20250802', exception_type=<GtfsExceptionType.REMOVED: 2>),\n",
       " GtfsCalendarDate(service_id='11_DOMINGOS', date='20250803', exception_type=<GtfsExceptionType.REMOVED: 2>),\n",
       " GtfsCalendarDate(service_id='11_DOMINGOS', date='20250804', exception_type=<GtfsExceptionType.REMOVED: 2>),\n",
       " GtfsCalendarDate(service_id='11_DOMINGOS', date='20250805', exception_type=<GtfsExceptionType.REMOVED: 2>),\n",
       " GtfsCalendarDate(service_id='11_DOMINGOS', date='20250806', exception_type=<GtfsExceptionType.REMOVED: 2>),\n",
       " GtfsCalendarDate(service_id='11_DOMINGOS', date='20250807', exception_type=<GtfsExceptionType.REMOVED: 2>),\n",
       " GtfsCalendarDate(service_id='11_DOMINGOS', date='20250808', exception_type=<GtfsExceptionType.REMOVED: 2>),\n",
       " GtfsCalendarDate(service_id='11_DOMINGOS', date='20250809', exception_type=<GtfsExceptionType.REMOVED: 2>),\n",
       " GtfsCalendarDate(service_id='11_DOMINGOS', date='20250810', exception_type=<GtfsExceptionType.REMOVED: 2>),\n",
       " GtfsCalendarDate(service_id='11_DOMINGOS', date='20250811', exception_type=<GtfsExceptionType.REMOVED: 2>),\n",
       " GtfsCalendarDate(service_id='11_DOMINGOS', date='20250812', exception_type=<GtfsExceptionType.REMOVED: 2>),\n",
       " GtfsCalendarDate(service_id='11_DOMINGOS', date='20250813', exception_type=<GtfsExceptionType.REMOVED: 2>),\n",
       " GtfsCalendarDate(service_id='11_DOMINGOS', date='20250814', exception_type=<GtfsExceptionType.REMOVED: 2>),\n",
       " GtfsCalendarDate(service_id='11_DOMINGOS', date='20250815', exception_type=<GtfsExceptionType.REMOVED: 2>),\n",
       " GtfsCalendarDate(service_id='11_DOMINGOS', date='20250816', exception_type=<GtfsExceptionType.REMOVED: 2>),\n",
       " GtfsCalendarDate(service_id='11_DOMINGOS', date='20250817', exception_type=<GtfsExceptionType.REMOVED: 2>),\n",
       " GtfsCalendarDate(service_id='11_DOMINGOS', date='20250818', exception_type=<GtfsExceptionType.REMOVED: 2>),\n",
       " GtfsCalendarDate(service_id='11_DOMINGOS', date='20250819', exception_type=<GtfsExceptionType.REMOVED: 2>),\n",
       " GtfsCalendarDate(service_id='11_DOMINGOS', date='20250820', exception_type=<GtfsExceptionType.REMOVED: 2>),\n",
       " GtfsCalendarDate(service_id='11_DOMINGOS', date='20250821', exception_type=<GtfsExceptionType.REMOVED: 2>),\n",
       " GtfsCalendarDate(service_id='11_DOMINGOS', date='20250822', exception_type=<GtfsExceptionType.REMOVED: 2>),\n",
       " GtfsCalendarDate(service_id='11_DOMINGOS', date='20250823', exception_type=<GtfsExceptionType.REMOVED: 2>),\n",
       " GtfsCalendarDate(service_id='11_DOMINGOS', date='20250824', exception_type=<GtfsExceptionType.REMOVED: 2>),\n",
       " GtfsCalendarDate(service_id='11_DOMINGOS', date='20250825', exception_type=<GtfsExceptionType.REMOVED: 2>),\n",
       " GtfsCalendarDate(service_id='11_DOMINGOS', date='20250826', exception_type=<GtfsExceptionType.REMOVED: 2>),\n",
       " GtfsCalendarDate(service_id='11_DOMINGOS', date='20250827', exception_type=<GtfsExceptionType.REMOVED: 2>),\n",
       " GtfsCalendarDate(service_id='11_DOMINGOS', date='20250828', exception_type=<GtfsExceptionType.REMOVED: 2>),\n",
       " GtfsCalendarDate(service_id='11_DOMINGOS', date='20250829', exception_type=<GtfsExceptionType.REMOVED: 2>),\n",
       " GtfsCalendarDate(service_id='11_DOMINGOS', date='20250830', exception_type=<GtfsExceptionType.REMOVED: 2>),\n",
       " GtfsCalendarDate(service_id='11_DOMINGOS', date='20250831', exception_type=<GtfsExceptionType.REMOVED: 2>)]"
      ]
     },
     "execution_count": 22,
     "metadata": {},
     "output_type": "execute_result"
    }
   ],
   "source": [
    "gtfs_calendar_dates = (\n",
    "    # Service UTEIS_NO_AUG: not available in August\n",
    "    [\n",
    "        GtfsCalendarDate(\n",
    "            service_id='UTEIS_NO_AUG',\n",
    "            date=f'202508{i:02d}',\n",
    "            exception_type=GtfsExceptionType.REMOVED,\n",
    "        )\n",
    "        for i in range(1, 32)\n",
    "    ]\n",
    "    # Service DOMINGOS_NO_JUL_AUG: not available in July and August\n",
    "    + [\n",
    "        GtfsCalendarDate(\n",
    "            service_id='DOMINGOS_NO_JUL_AUG',\n",
    "            date=f'202507{i:02d}',\n",
    "            exception_type=GtfsExceptionType.REMOVED,\n",
    "        )\n",
    "        for i in range(1, 32)\n",
    "    ]\n",
    "    + [\n",
    "        GtfsCalendarDate(\n",
    "            service_id='11_DOMINGOS',\n",
    "            date=f'202508{i:02d}',\n",
    "            exception_type=GtfsExceptionType.REMOVED,\n",
    "        )\n",
    "        for i in range(1, 32)\n",
    "    ]\n",
    ")\n",
    "gtfs_calendar_dates"
   ]
  },
  {
   "cell_type": "markdown",
   "metadata": {},
   "source": [
    "### Construction of `trips.txt`"
   ]
  },
  {
   "cell_type": "markdown",
   "metadata": {},
   "source": [
    "1. Count the number of trips for each schedule"
   ]
  },
  {
   "cell_type": "code",
   "execution_count": 23,
   "metadata": {},
   "outputs": [
    {
     "data": {
      "text/plain": [
       "(15, 9)"
      ]
     },
     "execution_count": 23,
     "metadata": {},
     "output_type": "execute_result"
    }
   ],
   "source": [
    "n_trips_uteis = len(pdf_schedules[0][0]) - 3\n",
    "n_trips_domingos = len(pdf_schedules[1][0]) - 3\n",
    "n_trips_uteis, n_trips_domingos"
   ]
  },
  {
   "cell_type": "markdown",
   "metadata": {},
   "source": [
    "2. Construct the necessary number of trips for each schedule"
   ]
  },
  {
   "cell_type": "code",
   "execution_count": 24,
   "metadata": {},
   "outputs": [
    {
     "data": {
      "text/plain": [
       "[GtfsTrip(route_id='11_UTEIS', service_id='UTEIS_NO_AUG', trip_id='11_U_1'),\n",
       " GtfsTrip(route_id='11_UTEIS', service_id='UTEIS_NO_AUG', trip_id='11_U_2'),\n",
       " GtfsTrip(route_id='11_UTEIS', service_id='UTEIS_NO_AUG', trip_id='11_U_3'),\n",
       " GtfsTrip(route_id='11_UTEIS', service_id='UTEIS_NO_AUG', trip_id='11_U_4'),\n",
       " GtfsTrip(route_id='11_UTEIS', service_id='UTEIS_NO_AUG', trip_id='11_U_5'),\n",
       " GtfsTrip(route_id='11_UTEIS', service_id='UTEIS_NO_AUG', trip_id='11_U_6'),\n",
       " GtfsTrip(route_id='11_UTEIS', service_id='UTEIS_NO_AUG', trip_id='11_U_7'),\n",
       " GtfsTrip(route_id='11_UTEIS', service_id='UTEIS_NO_AUG', trip_id='11_U_8'),\n",
       " GtfsTrip(route_id='11_UTEIS', service_id='UTEIS_NO_AUG', trip_id='11_U_9'),\n",
       " GtfsTrip(route_id='11_UTEIS', service_id='UTEIS_NO_AUG', trip_id='11_U_10'),\n",
       " GtfsTrip(route_id='11_UTEIS', service_id='UTEIS_NO_AUG', trip_id='11_U_11'),\n",
       " GtfsTrip(route_id='11_UTEIS', service_id='UTEIS_NO_AUG', trip_id='11_U_12'),\n",
       " GtfsTrip(route_id='11_UTEIS', service_id='UTEIS_NO_AUG', trip_id='11_U_13'),\n",
       " GtfsTrip(route_id='11_UTEIS', service_id='UTEIS_NO_AUG', trip_id='11_U_14'),\n",
       " GtfsTrip(route_id='11_UTEIS', service_id='UTEIS_NO_AUG', trip_id='11_U_15'),\n",
       " GtfsTrip(route_id='11_DOMINGOS', service_id='DOMINGOS_NO_JUL_AUG', trip_id='11_D_1'),\n",
       " GtfsTrip(route_id='11_DOMINGOS', service_id='DOMINGOS_NO_JUL_AUG', trip_id='11_D_2'),\n",
       " GtfsTrip(route_id='11_DOMINGOS', service_id='DOMINGOS_NO_JUL_AUG', trip_id='11_D_3'),\n",
       " GtfsTrip(route_id='11_DOMINGOS', service_id='DOMINGOS_NO_JUL_AUG', trip_id='11_D_4'),\n",
       " GtfsTrip(route_id='11_DOMINGOS', service_id='DOMINGOS_NO_JUL_AUG', trip_id='11_D_5'),\n",
       " GtfsTrip(route_id='11_DOMINGOS', service_id='DOMINGOS_NO_JUL_AUG', trip_id='11_D_6'),\n",
       " GtfsTrip(route_id='11_DOMINGOS', service_id='DOMINGOS_NO_JUL_AUG', trip_id='11_D_7'),\n",
       " GtfsTrip(route_id='11_DOMINGOS', service_id='DOMINGOS_NO_JUL_AUG', trip_id='11_D_8'),\n",
       " GtfsTrip(route_id='11_DOMINGOS', service_id='DOMINGOS_NO_JUL_AUG', trip_id='11_D_9')]"
      ]
     },
     "execution_count": 24,
     "metadata": {},
     "output_type": "execute_result"
    }
   ],
   "source": [
    "gtfs_trips = [\n",
    "    GtfsTrip(\n",
    "        route_id='11_UTEIS',\n",
    "        service_id='UTEIS_NO_AUG',\n",
    "        trip_id=f'11_U_{i}',\n",
    "    )\n",
    "    for i in range(1, n_trips_uteis + 1)\n",
    "] + [\n",
    "    GtfsTrip(\n",
    "        route_id='11_DOMINGOS',\n",
    "        service_id='DOMINGOS_NO_JUL_AUG',\n",
    "        trip_id=f'11_D_{i}',\n",
    "    )\n",
    "    for i in range(1, n_trips_domingos + 1)\n",
    "]\n",
    "gtfs_trips_dict = {gtfs_trip.trip_id: gtfs_trip for gtfs_trip in gtfs_trips}\n",
    "gtfs_trips"
   ]
  },
  {
   "cell_type": "markdown",
   "metadata": {},
   "source": [
    "### Construction of `stop_times.txt`"
   ]
  },
  {
   "cell_type": "markdown",
   "metadata": {},
   "source": [
    "1. Extract all stop names for each schedule (with or without time information)"
   ]
  },
  {
   "cell_type": "code",
   "execution_count": 25,
   "metadata": {},
   "outputs": [
    {
     "name": "stdout",
     "output_type": "stream",
     "text": [
      "['Estação de Aveiro', 'Av. Dr. Lourenço Peixinho - CTT B', 'Av. Dr. Lourenço Peixinho - Oita B', 'Av. Dr. L. Peixinho - Capitania B', 'Caçadores 10 - Misericórdia', 'Av. Santa Joana B', 'Conservatório B', 'Universidade - Antiga Reitoria A', 'Universidade - Reitoria A', 'Universidade - Pavilhão A', 'Universidade - Santiago A', 'Universidade Crasto', 'Universidade - Santiago B', 'Universidade - Pavilhão B', 'Reitoria', 'Universidade - Antiga Reitoria B', 'Conservatório A', 'Av. 5 de Outubro', 'Estação de Aveiro']\n",
      "['Estação de Aveiro', 'Av. Dr. Lourenço Peixinho - CTT B', 'Av. Dr. Lourenço Peixinho - Oita B', 'Av. Dr. Lourenço Peixinho - Capitania B', 'Caçadores 10 - Misericórdia', 'Conservatório B', 'Universidade - Antiga Reitoria A', 'Universidade - Reitoria B', 'Universidade - Pavilhão A', 'Universidade - Santiago A', 'Universidade Crasto', 'Universidade - Santiago B', 'ISCAUA A', 'R. Nova de Santiago A', 'Escolas de Santiago', 'R. Dr. Mário Sacramento A', 'Av. Dr. Mário Sacramento - Centro Saúde A', 'Av. da Oita A', 'Av. 25 de Abril - Escola Mário Sacramento A', 'Av. 25 de Abril - Escola José Estevão A', 'Av. 5 de Outubro', 'Estação de Aveiro']\n"
     ]
    }
   ],
   "source": [
    "all_stop_names_uteis = []\n",
    "all_stop_names_domingos = []\n",
    "all_stop_names = [all_stop_names_domingos, all_stop_names_uteis]\n",
    "\n",
    "for sub_list in pdf_stops[0][1:]:\n",
    "    for i in (0, 1):  # 0: DOMINGOS, 1: UTEIS\n",
    "        stop_name = sub_list[i]\n",
    "        if stop_name == '':\n",
    "            continue\n",
    "        if re.match(r'.*Z\\d+.*', stop_name):  # Detect stop_name with Z\\d+ pattern\n",
    "            stop_name = re.sub(r'\\s*Z\\d+\\s*', '', stop_name)  # Remove Z\\d+ pattern\n",
    "        all_stop_names[i].append(stop_name)\n",
    "\n",
    "print(all_stop_names_uteis)\n",
    "print(all_stop_names_domingos)"
   ]
  },
  {
   "cell_type": "markdown",
   "metadata": {},
   "source": [
    "2. Extract scheduled stop names for each schedule (stops with time information)"
   ]
  },
  {
   "cell_type": "code",
   "execution_count": 26,
   "metadata": {},
   "outputs": [
    {
     "name": "stdout",
     "output_type": "stream",
     "text": [
      "['Estação de Aveiro', 'Av. Dr. Lourenço Peixinho - CTT B', 'Av. Dr. Lourenço Peixinho - Capitania B', 'Caçadores 10 - Misericórdia', 'Universidade - Antiga Reitoria A', 'Universidade Crasto', 'Universidade - Antiga Reitoria B', 'Estação de Aveiro']\n",
      "['Estação de Aveiro', 'Av. Dr. Lourenço Peixinho - CTT B', 'Av. Dr. Lourenço Peixinho - Capitania B', 'Caçadores 10 - Misericórdia', 'Universidade - Antiga Reitoria A', 'Universidade Crasto', 'ISCAUA A', 'R. Dr. Mário Sacramento A', 'Estação de Aveiro']\n"
     ]
    }
   ],
   "source": [
    "scheduled_stop_names_uteis = []\n",
    "scheduled_stop_names_domingos = []\n",
    "scheduled_stop_names = [scheduled_stop_names_uteis, scheduled_stop_names_domingos]\n",
    "\n",
    "for i in (0, 1):  # 0: UTEIS, 1: DOMINGOS\n",
    "    for sub_list in pdf_schedules[i][1:]:\n",
    "        stop_name = sub_list[1]\n",
    "        if stop_name == '':\n",
    "            continue\n",
    "        scheduled_stop_names[i].append(stop_name)\n",
    "\n",
    "print(scheduled_stop_names_uteis)\n",
    "print(scheduled_stop_names_domingos)"
   ]
  },
  {
   "cell_type": "markdown",
   "metadata": {},
   "source": [
    "3. Construct stop times for each schedule, interpolating the time information for stops without it"
   ]
  },
  {
   "cell_type": "code",
   "execution_count": 27,
   "metadata": {},
   "outputs": [],
   "source": [
    "def get_gtfs_stop_times(n_trips, all_stop_names, scheduled_stop_names, i_pdf_schedules):\n",
    "    gtfs_stop_times = []\n",
    "\n",
    "    for i_trip in range(1, n_trips + 1):\n",
    "        # Stop times for the current trip\n",
    "        gtfs_stop_times_trip = []\n",
    "        # Keep track of the index of current scheduled stop in the schedule table (not stop sequence)\n",
    "        i_stop_scheduled = 0\n",
    "        # Used to interpolate the arrival and departure times of non-scheduled stops\n",
    "        i_stop_sequence_last_scheduled = 1\n",
    "        i_stop_sequences_non_scheduled = []\n",
    "        # Iterate over all the stops in trip\n",
    "        for i_stop_sequence, stop_name in enumerate(all_stop_names, start=1):\n",
    "\n",
    "            gtfs_stop = all_gtfs_stops_dict[stop_name]\n",
    "            # It is a scheduled stop\n",
    "            if scheduled_stop_names[i_stop_scheduled] in (stop_name, gtfs_stop.stop_name):\n",
    "                stop_time_curr = timedelta(\n",
    "                    hours=int(pdf_schedules[i_pdf_schedules][i_stop_scheduled + 1][i_trip + 2].split(':')[0]),\n",
    "                    minutes=int(pdf_schedules[i_pdf_schedules][i_stop_scheduled + 1][i_trip + 2].split(':')[1]),\n",
    "                    seconds=0,\n",
    "                )\n",
    "                if i_stop_sequence > 1:\n",
    "                    # Get stop times of last scheduled stop and current scheduled stop\n",
    "                    stop_time_last = gtfs_stop_times_trip[i_stop_sequence_last_scheduled - 1].departure_time\n",
    "                    # Interpolate the arrival and departure times for non-scheduled stops in between\n",
    "                    # For simplicity, assume time between stops is the same\n",
    "                    stop_time_block = (stop_time_curr - stop_time_last) / (i_stop_sequence - i_stop_sequence_last_scheduled)\n",
    "                    for i in i_stop_sequences_non_scheduled:\n",
    "                        stop_time = stop_time_last + stop_time_block * (i - i_stop_sequence_last_scheduled)\n",
    "                        gtfs_stop_times_trip[i - 1].arrival_time = stop_time\n",
    "                        gtfs_stop_times_trip[i - 1].departure_time = stop_time\n",
    "\n",
    "                gtfs_stop_time = GtfsStopTime(\n",
    "                    trip_id=f'11_U_{i_trip}',\n",
    "                    arrival_time=stop_time_curr,\n",
    "                    departure_time=stop_time_curr,\n",
    "                    stop_id=gtfs_stop.stop_id,\n",
    "                    stop_sequence=i_stop_sequence,\n",
    "                )\n",
    "                gtfs_stop_times_trip.append(gtfs_stop_time)\n",
    "\n",
    "                i_stop_scheduled += 1\n",
    "                i_stop_sequence_last_scheduled = i_stop_sequence\n",
    "                i_stop_sequences_non_scheduled = []\n",
    "            # It is a non-scheduled stop\n",
    "            else:\n",
    "                i_stop_sequences_non_scheduled.append(i_stop_sequence)\n",
    "\n",
    "                gtfs_stop_time = GtfsStopTime(\n",
    "                    trip_id=f'11_U_{i_trip}',\n",
    "                    arrival_time=timedelta(hours=0, minutes=0, seconds=0), # Interpolated later\n",
    "                    departure_time=timedelta(hours=0, minutes=0, seconds=0), # Interpolated later\n",
    "                    stop_id=gtfs_stop.stop_id,\n",
    "                    stop_sequence=i_stop_sequence,\n",
    "                )\n",
    "                gtfs_stop_times_trip.append(gtfs_stop_time)\n",
    "\n",
    "        gtfs_stop_times.extend(gtfs_stop_times_trip)\n",
    "        \n",
    "    return gtfs_stop_times"
   ]
  },
  {
   "cell_type": "code",
   "execution_count": 28,
   "metadata": {},
   "outputs": [
    {
     "data": {
      "text/plain": [
       "[GtfsStopTime(trip_id='11_U_1', arrival_time=datetime.timedelta(seconds=28500), departure_time=datetime.timedelta(seconds=28500), stop_id='-7978747450465050333', stop_sequence=1),\n",
       " GtfsStopTime(trip_id='11_U_1', arrival_time=datetime.timedelta(seconds=28560), departure_time=datetime.timedelta(seconds=28560), stop_id='3296271802036003081', stop_sequence=2),\n",
       " GtfsStopTime(trip_id='11_U_1', arrival_time=datetime.timedelta(seconds=28680), departure_time=datetime.timedelta(seconds=28680), stop_id='1049215841727389041', stop_sequence=3),\n",
       " GtfsStopTime(trip_id='11_U_1', arrival_time=datetime.timedelta(seconds=28800), departure_time=datetime.timedelta(seconds=28800), stop_id='-5726904257136342933', stop_sequence=4),\n",
       " GtfsStopTime(trip_id='11_U_1', arrival_time=datetime.timedelta(seconds=28860), departure_time=datetime.timedelta(seconds=28860), stop_id='3449979680681364563', stop_sequence=5),\n",
       " GtfsStopTime(trip_id='11_U_1', arrival_time=datetime.timedelta(seconds=28940), departure_time=datetime.timedelta(seconds=28940), stop_id='4633092720674564125', stop_sequence=6),\n",
       " GtfsStopTime(trip_id='11_U_1', arrival_time=datetime.timedelta(seconds=29020), departure_time=datetime.timedelta(seconds=29020), stop_id='7365573631076063212', stop_sequence=7),\n",
       " GtfsStopTime(trip_id='11_U_1', arrival_time=datetime.timedelta(seconds=29100), departure_time=datetime.timedelta(seconds=29100), stop_id='-4437974693873153127', stop_sequence=8),\n",
       " GtfsStopTime(trip_id='11_U_1', arrival_time=datetime.timedelta(seconds=29190), departure_time=datetime.timedelta(seconds=29190), stop_id='1404690494610635814', stop_sequence=9),\n",
       " GtfsStopTime(trip_id='11_U_1', arrival_time=datetime.timedelta(seconds=29280), departure_time=datetime.timedelta(seconds=29280), stop_id='6648252636946330296', stop_sequence=10),\n",
       " GtfsStopTime(trip_id='11_U_1', arrival_time=datetime.timedelta(seconds=29370), departure_time=datetime.timedelta(seconds=29370), stop_id='157321904888292943', stop_sequence=11),\n",
       " GtfsStopTime(trip_id='11_U_1', arrival_time=datetime.timedelta(seconds=29460), departure_time=datetime.timedelta(seconds=29460), stop_id='3669347682309318554', stop_sequence=12),\n",
       " GtfsStopTime(trip_id='11_U_1', arrival_time=datetime.timedelta(seconds=29565), departure_time=datetime.timedelta(seconds=29565), stop_id='157321904888292943', stop_sequence=13),\n",
       " GtfsStopTime(trip_id='11_U_1', arrival_time=datetime.timedelta(seconds=29670), departure_time=datetime.timedelta(seconds=29670), stop_id='6648252636946330296', stop_sequence=14),\n",
       " GtfsStopTime(trip_id='11_U_1', arrival_time=datetime.timedelta(seconds=29775), departure_time=datetime.timedelta(seconds=29775), stop_id='1404690494610635814', stop_sequence=15),\n",
       " GtfsStopTime(trip_id='11_U_1', arrival_time=datetime.timedelta(seconds=29880), departure_time=datetime.timedelta(seconds=29880), stop_id='-4437974693873153127', stop_sequence=16),\n",
       " GtfsStopTime(trip_id='11_U_1', arrival_time=datetime.timedelta(seconds=29980), departure_time=datetime.timedelta(seconds=29980), stop_id='-6125832270136671136', stop_sequence=17),\n",
       " GtfsStopTime(trip_id='11_U_1', arrival_time=datetime.timedelta(seconds=30080), departure_time=datetime.timedelta(seconds=30080), stop_id='1296326338167383190', stop_sequence=18),\n",
       " GtfsStopTime(trip_id='11_U_1', arrival_time=datetime.timedelta(seconds=30180), departure_time=datetime.timedelta(seconds=30180), stop_id='-7978747450465050333', stop_sequence=19),\n",
       " GtfsStopTime(trip_id='11_U_2', arrival_time=datetime.timedelta(seconds=30000), departure_time=datetime.timedelta(seconds=30000), stop_id='-7978747450465050333', stop_sequence=1),\n",
       " GtfsStopTime(trip_id='11_U_2', arrival_time=datetime.timedelta(seconds=30060), departure_time=datetime.timedelta(seconds=30060), stop_id='3296271802036003081', stop_sequence=2),\n",
       " GtfsStopTime(trip_id='11_U_2', arrival_time=datetime.timedelta(seconds=30180), departure_time=datetime.timedelta(seconds=30180), stop_id='1049215841727389041', stop_sequence=3),\n",
       " GtfsStopTime(trip_id='11_U_2', arrival_time=datetime.timedelta(seconds=30300), departure_time=datetime.timedelta(seconds=30300), stop_id='-5726904257136342933', stop_sequence=4),\n",
       " GtfsStopTime(trip_id='11_U_2', arrival_time=datetime.timedelta(seconds=30360), departure_time=datetime.timedelta(seconds=30360), stop_id='3449979680681364563', stop_sequence=5),\n",
       " GtfsStopTime(trip_id='11_U_2', arrival_time=datetime.timedelta(seconds=30440), departure_time=datetime.timedelta(seconds=30440), stop_id='4633092720674564125', stop_sequence=6),\n",
       " GtfsStopTime(trip_id='11_U_2', arrival_time=datetime.timedelta(seconds=30520), departure_time=datetime.timedelta(seconds=30520), stop_id='7365573631076063212', stop_sequence=7),\n",
       " GtfsStopTime(trip_id='11_U_2', arrival_time=datetime.timedelta(seconds=30600), departure_time=datetime.timedelta(seconds=30600), stop_id='-4437974693873153127', stop_sequence=8),\n",
       " GtfsStopTime(trip_id='11_U_2', arrival_time=datetime.timedelta(seconds=30690), departure_time=datetime.timedelta(seconds=30690), stop_id='1404690494610635814', stop_sequence=9),\n",
       " GtfsStopTime(trip_id='11_U_2', arrival_time=datetime.timedelta(seconds=30780), departure_time=datetime.timedelta(seconds=30780), stop_id='6648252636946330296', stop_sequence=10),\n",
       " GtfsStopTime(trip_id='11_U_2', arrival_time=datetime.timedelta(seconds=30870), departure_time=datetime.timedelta(seconds=30870), stop_id='157321904888292943', stop_sequence=11),\n",
       " GtfsStopTime(trip_id='11_U_2', arrival_time=datetime.timedelta(seconds=30960), departure_time=datetime.timedelta(seconds=30960), stop_id='3669347682309318554', stop_sequence=12),\n",
       " GtfsStopTime(trip_id='11_U_2', arrival_time=datetime.timedelta(seconds=31065), departure_time=datetime.timedelta(seconds=31065), stop_id='157321904888292943', stop_sequence=13),\n",
       " GtfsStopTime(trip_id='11_U_2', arrival_time=datetime.timedelta(seconds=31170), departure_time=datetime.timedelta(seconds=31170), stop_id='6648252636946330296', stop_sequence=14),\n",
       " GtfsStopTime(trip_id='11_U_2', arrival_time=datetime.timedelta(seconds=31275), departure_time=datetime.timedelta(seconds=31275), stop_id='1404690494610635814', stop_sequence=15),\n",
       " GtfsStopTime(trip_id='11_U_2', arrival_time=datetime.timedelta(seconds=31380), departure_time=datetime.timedelta(seconds=31380), stop_id='-4437974693873153127', stop_sequence=16),\n",
       " GtfsStopTime(trip_id='11_U_2', arrival_time=datetime.timedelta(seconds=31480), departure_time=datetime.timedelta(seconds=31480), stop_id='-6125832270136671136', stop_sequence=17),\n",
       " GtfsStopTime(trip_id='11_U_2', arrival_time=datetime.timedelta(seconds=31580), departure_time=datetime.timedelta(seconds=31580), stop_id='1296326338167383190', stop_sequence=18),\n",
       " GtfsStopTime(trip_id='11_U_2', arrival_time=datetime.timedelta(seconds=31680), departure_time=datetime.timedelta(seconds=31680), stop_id='-7978747450465050333', stop_sequence=19),\n",
       " GtfsStopTime(trip_id='11_U_3', arrival_time=datetime.timedelta(seconds=30300), departure_time=datetime.timedelta(seconds=30300), stop_id='-7978747450465050333', stop_sequence=1),\n",
       " GtfsStopTime(trip_id='11_U_3', arrival_time=datetime.timedelta(seconds=30360), departure_time=datetime.timedelta(seconds=30360), stop_id='3296271802036003081', stop_sequence=2),\n",
       " GtfsStopTime(trip_id='11_U_3', arrival_time=datetime.timedelta(seconds=30480), departure_time=datetime.timedelta(seconds=30480), stop_id='1049215841727389041', stop_sequence=3),\n",
       " GtfsStopTime(trip_id='11_U_3', arrival_time=datetime.timedelta(seconds=30600), departure_time=datetime.timedelta(seconds=30600), stop_id='-5726904257136342933', stop_sequence=4),\n",
       " GtfsStopTime(trip_id='11_U_3', arrival_time=datetime.timedelta(seconds=30660), departure_time=datetime.timedelta(seconds=30660), stop_id='3449979680681364563', stop_sequence=5),\n",
       " GtfsStopTime(trip_id='11_U_3', arrival_time=datetime.timedelta(seconds=30740), departure_time=datetime.timedelta(seconds=30740), stop_id='4633092720674564125', stop_sequence=6),\n",
       " GtfsStopTime(trip_id='11_U_3', arrival_time=datetime.timedelta(seconds=30820), departure_time=datetime.timedelta(seconds=30820), stop_id='7365573631076063212', stop_sequence=7),\n",
       " GtfsStopTime(trip_id='11_U_3', arrival_time=datetime.timedelta(seconds=30900), departure_time=datetime.timedelta(seconds=30900), stop_id='-4437974693873153127', stop_sequence=8),\n",
       " GtfsStopTime(trip_id='11_U_3', arrival_time=datetime.timedelta(seconds=30990), departure_time=datetime.timedelta(seconds=30990), stop_id='1404690494610635814', stop_sequence=9),\n",
       " GtfsStopTime(trip_id='11_U_3', arrival_time=datetime.timedelta(seconds=31080), departure_time=datetime.timedelta(seconds=31080), stop_id='6648252636946330296', stop_sequence=10),\n",
       " GtfsStopTime(trip_id='11_U_3', arrival_time=datetime.timedelta(seconds=31170), departure_time=datetime.timedelta(seconds=31170), stop_id='157321904888292943', stop_sequence=11),\n",
       " GtfsStopTime(trip_id='11_U_3', arrival_time=datetime.timedelta(seconds=31260), departure_time=datetime.timedelta(seconds=31260), stop_id='3669347682309318554', stop_sequence=12),\n",
       " GtfsStopTime(trip_id='11_U_3', arrival_time=datetime.timedelta(seconds=31365), departure_time=datetime.timedelta(seconds=31365), stop_id='157321904888292943', stop_sequence=13),\n",
       " GtfsStopTime(trip_id='11_U_3', arrival_time=datetime.timedelta(seconds=31470), departure_time=datetime.timedelta(seconds=31470), stop_id='6648252636946330296', stop_sequence=14),\n",
       " GtfsStopTime(trip_id='11_U_3', arrival_time=datetime.timedelta(seconds=31575), departure_time=datetime.timedelta(seconds=31575), stop_id='1404690494610635814', stop_sequence=15),\n",
       " GtfsStopTime(trip_id='11_U_3', arrival_time=datetime.timedelta(seconds=31680), departure_time=datetime.timedelta(seconds=31680), stop_id='-4437974693873153127', stop_sequence=16),\n",
       " GtfsStopTime(trip_id='11_U_3', arrival_time=datetime.timedelta(seconds=31780), departure_time=datetime.timedelta(seconds=31780), stop_id='-6125832270136671136', stop_sequence=17),\n",
       " GtfsStopTime(trip_id='11_U_3', arrival_time=datetime.timedelta(seconds=31880), departure_time=datetime.timedelta(seconds=31880), stop_id='1296326338167383190', stop_sequence=18),\n",
       " GtfsStopTime(trip_id='11_U_3', arrival_time=datetime.timedelta(seconds=31980), departure_time=datetime.timedelta(seconds=31980), stop_id='-7978747450465050333', stop_sequence=19),\n",
       " GtfsStopTime(trip_id='11_U_4', arrival_time=datetime.timedelta(seconds=31800), departure_time=datetime.timedelta(seconds=31800), stop_id='-7978747450465050333', stop_sequence=1),\n",
       " GtfsStopTime(trip_id='11_U_4', arrival_time=datetime.timedelta(seconds=31860), departure_time=datetime.timedelta(seconds=31860), stop_id='3296271802036003081', stop_sequence=2),\n",
       " GtfsStopTime(trip_id='11_U_4', arrival_time=datetime.timedelta(seconds=31980), departure_time=datetime.timedelta(seconds=31980), stop_id='1049215841727389041', stop_sequence=3),\n",
       " GtfsStopTime(trip_id='11_U_4', arrival_time=datetime.timedelta(seconds=32100), departure_time=datetime.timedelta(seconds=32100), stop_id='-5726904257136342933', stop_sequence=4),\n",
       " GtfsStopTime(trip_id='11_U_4', arrival_time=datetime.timedelta(seconds=32160), departure_time=datetime.timedelta(seconds=32160), stop_id='3449979680681364563', stop_sequence=5),\n",
       " GtfsStopTime(trip_id='11_U_4', arrival_time=datetime.timedelta(seconds=32240), departure_time=datetime.timedelta(seconds=32240), stop_id='4633092720674564125', stop_sequence=6),\n",
       " GtfsStopTime(trip_id='11_U_4', arrival_time=datetime.timedelta(seconds=32320), departure_time=datetime.timedelta(seconds=32320), stop_id='7365573631076063212', stop_sequence=7),\n",
       " GtfsStopTime(trip_id='11_U_4', arrival_time=datetime.timedelta(seconds=32400), departure_time=datetime.timedelta(seconds=32400), stop_id='-4437974693873153127', stop_sequence=8),\n",
       " GtfsStopTime(trip_id='11_U_4', arrival_time=datetime.timedelta(seconds=32490), departure_time=datetime.timedelta(seconds=32490), stop_id='1404690494610635814', stop_sequence=9),\n",
       " GtfsStopTime(trip_id='11_U_4', arrival_time=datetime.timedelta(seconds=32580), departure_time=datetime.timedelta(seconds=32580), stop_id='6648252636946330296', stop_sequence=10),\n",
       " GtfsStopTime(trip_id='11_U_4', arrival_time=datetime.timedelta(seconds=32670), departure_time=datetime.timedelta(seconds=32670), stop_id='157321904888292943', stop_sequence=11),\n",
       " GtfsStopTime(trip_id='11_U_4', arrival_time=datetime.timedelta(seconds=32760), departure_time=datetime.timedelta(seconds=32760), stop_id='3669347682309318554', stop_sequence=12),\n",
       " GtfsStopTime(trip_id='11_U_4', arrival_time=datetime.timedelta(seconds=32865), departure_time=datetime.timedelta(seconds=32865), stop_id='157321904888292943', stop_sequence=13),\n",
       " GtfsStopTime(trip_id='11_U_4', arrival_time=datetime.timedelta(seconds=32970), departure_time=datetime.timedelta(seconds=32970), stop_id='6648252636946330296', stop_sequence=14),\n",
       " GtfsStopTime(trip_id='11_U_4', arrival_time=datetime.timedelta(seconds=33075), departure_time=datetime.timedelta(seconds=33075), stop_id='1404690494610635814', stop_sequence=15),\n",
       " GtfsStopTime(trip_id='11_U_4', arrival_time=datetime.timedelta(seconds=33180), departure_time=datetime.timedelta(seconds=33180), stop_id='-4437974693873153127', stop_sequence=16),\n",
       " GtfsStopTime(trip_id='11_U_4', arrival_time=datetime.timedelta(seconds=33280), departure_time=datetime.timedelta(seconds=33280), stop_id='-6125832270136671136', stop_sequence=17),\n",
       " GtfsStopTime(trip_id='11_U_4', arrival_time=datetime.timedelta(seconds=33380), departure_time=datetime.timedelta(seconds=33380), stop_id='1296326338167383190', stop_sequence=18),\n",
       " GtfsStopTime(trip_id='11_U_4', arrival_time=datetime.timedelta(seconds=33480), departure_time=datetime.timedelta(seconds=33480), stop_id='-7978747450465050333', stop_sequence=19),\n",
       " GtfsStopTime(trip_id='11_U_5', arrival_time=datetime.timedelta(seconds=32220), departure_time=datetime.timedelta(seconds=32220), stop_id='-7978747450465050333', stop_sequence=1),\n",
       " GtfsStopTime(trip_id='11_U_5', arrival_time=datetime.timedelta(seconds=32280), departure_time=datetime.timedelta(seconds=32280), stop_id='3296271802036003081', stop_sequence=2),\n",
       " GtfsStopTime(trip_id='11_U_5', arrival_time=datetime.timedelta(seconds=32400), departure_time=datetime.timedelta(seconds=32400), stop_id='1049215841727389041', stop_sequence=3),\n",
       " GtfsStopTime(trip_id='11_U_5', arrival_time=datetime.timedelta(seconds=32520), departure_time=datetime.timedelta(seconds=32520), stop_id='-5726904257136342933', stop_sequence=4),\n",
       " GtfsStopTime(trip_id='11_U_5', arrival_time=datetime.timedelta(seconds=32580), departure_time=datetime.timedelta(seconds=32580), stop_id='3449979680681364563', stop_sequence=5),\n",
       " GtfsStopTime(trip_id='11_U_5', arrival_time=datetime.timedelta(seconds=32660), departure_time=datetime.timedelta(seconds=32660), stop_id='4633092720674564125', stop_sequence=6),\n",
       " GtfsStopTime(trip_id='11_U_5', arrival_time=datetime.timedelta(seconds=32740), departure_time=datetime.timedelta(seconds=32740), stop_id='7365573631076063212', stop_sequence=7),\n",
       " GtfsStopTime(trip_id='11_U_5', arrival_time=datetime.timedelta(seconds=32820), departure_time=datetime.timedelta(seconds=32820), stop_id='-4437974693873153127', stop_sequence=8),\n",
       " GtfsStopTime(trip_id='11_U_5', arrival_time=datetime.timedelta(seconds=32910), departure_time=datetime.timedelta(seconds=32910), stop_id='1404690494610635814', stop_sequence=9),\n",
       " GtfsStopTime(trip_id='11_U_5', arrival_time=datetime.timedelta(seconds=33000), departure_time=datetime.timedelta(seconds=33000), stop_id='6648252636946330296', stop_sequence=10),\n",
       " GtfsStopTime(trip_id='11_U_5', arrival_time=datetime.timedelta(seconds=33090), departure_time=datetime.timedelta(seconds=33090), stop_id='157321904888292943', stop_sequence=11),\n",
       " GtfsStopTime(trip_id='11_U_5', arrival_time=datetime.timedelta(seconds=33180), departure_time=datetime.timedelta(seconds=33180), stop_id='3669347682309318554', stop_sequence=12),\n",
       " GtfsStopTime(trip_id='11_U_5', arrival_time=datetime.timedelta(seconds=33285), departure_time=datetime.timedelta(seconds=33285), stop_id='157321904888292943', stop_sequence=13),\n",
       " GtfsStopTime(trip_id='11_U_5', arrival_time=datetime.timedelta(seconds=33390), departure_time=datetime.timedelta(seconds=33390), stop_id='6648252636946330296', stop_sequence=14),\n",
       " GtfsStopTime(trip_id='11_U_5', arrival_time=datetime.timedelta(seconds=33495), departure_time=datetime.timedelta(seconds=33495), stop_id='1404690494610635814', stop_sequence=15),\n",
       " GtfsStopTime(trip_id='11_U_5', arrival_time=datetime.timedelta(seconds=33600), departure_time=datetime.timedelta(seconds=33600), stop_id='-4437974693873153127', stop_sequence=16),\n",
       " GtfsStopTime(trip_id='11_U_5', arrival_time=datetime.timedelta(seconds=33700), departure_time=datetime.timedelta(seconds=33700), stop_id='-6125832270136671136', stop_sequence=17),\n",
       " GtfsStopTime(trip_id='11_U_5', arrival_time=datetime.timedelta(seconds=33800), departure_time=datetime.timedelta(seconds=33800), stop_id='1296326338167383190', stop_sequence=18),\n",
       " GtfsStopTime(trip_id='11_U_5', arrival_time=datetime.timedelta(seconds=33900), departure_time=datetime.timedelta(seconds=33900), stop_id='-7978747450465050333', stop_sequence=19),\n",
       " GtfsStopTime(trip_id='11_U_6', arrival_time=datetime.timedelta(seconds=33600), departure_time=datetime.timedelta(seconds=33600), stop_id='-7978747450465050333', stop_sequence=1),\n",
       " GtfsStopTime(trip_id='11_U_6', arrival_time=datetime.timedelta(seconds=33660), departure_time=datetime.timedelta(seconds=33660), stop_id='3296271802036003081', stop_sequence=2),\n",
       " GtfsStopTime(trip_id='11_U_6', arrival_time=datetime.timedelta(seconds=33780), departure_time=datetime.timedelta(seconds=33780), stop_id='1049215841727389041', stop_sequence=3),\n",
       " GtfsStopTime(trip_id='11_U_6', arrival_time=datetime.timedelta(seconds=33900), departure_time=datetime.timedelta(seconds=33900), stop_id='-5726904257136342933', stop_sequence=4),\n",
       " GtfsStopTime(trip_id='11_U_6', arrival_time=datetime.timedelta(seconds=33960), departure_time=datetime.timedelta(seconds=33960), stop_id='3449979680681364563', stop_sequence=5),\n",
       " GtfsStopTime(trip_id='11_U_6', arrival_time=datetime.timedelta(seconds=34040), departure_time=datetime.timedelta(seconds=34040), stop_id='4633092720674564125', stop_sequence=6),\n",
       " GtfsStopTime(trip_id='11_U_6', arrival_time=datetime.timedelta(seconds=34120), departure_time=datetime.timedelta(seconds=34120), stop_id='7365573631076063212', stop_sequence=7),\n",
       " GtfsStopTime(trip_id='11_U_6', arrival_time=datetime.timedelta(seconds=34200), departure_time=datetime.timedelta(seconds=34200), stop_id='-4437974693873153127', stop_sequence=8),\n",
       " GtfsStopTime(trip_id='11_U_6', arrival_time=datetime.timedelta(seconds=34290), departure_time=datetime.timedelta(seconds=34290), stop_id='1404690494610635814', stop_sequence=9),\n",
       " GtfsStopTime(trip_id='11_U_6', arrival_time=datetime.timedelta(seconds=34380), departure_time=datetime.timedelta(seconds=34380), stop_id='6648252636946330296', stop_sequence=10),\n",
       " GtfsStopTime(trip_id='11_U_6', arrival_time=datetime.timedelta(seconds=34470), departure_time=datetime.timedelta(seconds=34470), stop_id='157321904888292943', stop_sequence=11),\n",
       " GtfsStopTime(trip_id='11_U_6', arrival_time=datetime.timedelta(seconds=34560), departure_time=datetime.timedelta(seconds=34560), stop_id='3669347682309318554', stop_sequence=12),\n",
       " GtfsStopTime(trip_id='11_U_6', arrival_time=datetime.timedelta(seconds=34665), departure_time=datetime.timedelta(seconds=34665), stop_id='157321904888292943', stop_sequence=13),\n",
       " GtfsStopTime(trip_id='11_U_6', arrival_time=datetime.timedelta(seconds=34770), departure_time=datetime.timedelta(seconds=34770), stop_id='6648252636946330296', stop_sequence=14),\n",
       " GtfsStopTime(trip_id='11_U_6', arrival_time=datetime.timedelta(seconds=34875), departure_time=datetime.timedelta(seconds=34875), stop_id='1404690494610635814', stop_sequence=15),\n",
       " GtfsStopTime(trip_id='11_U_6', arrival_time=datetime.timedelta(seconds=34980), departure_time=datetime.timedelta(seconds=34980), stop_id='-4437974693873153127', stop_sequence=16),\n",
       " GtfsStopTime(trip_id='11_U_6', arrival_time=datetime.timedelta(seconds=35080), departure_time=datetime.timedelta(seconds=35080), stop_id='-6125832270136671136', stop_sequence=17),\n",
       " GtfsStopTime(trip_id='11_U_6', arrival_time=datetime.timedelta(seconds=35180), departure_time=datetime.timedelta(seconds=35180), stop_id='1296326338167383190', stop_sequence=18),\n",
       " GtfsStopTime(trip_id='11_U_6', arrival_time=datetime.timedelta(seconds=35280), departure_time=datetime.timedelta(seconds=35280), stop_id='-7978747450465050333', stop_sequence=19),\n",
       " GtfsStopTime(trip_id='11_U_7', arrival_time=datetime.timedelta(seconds=35700), departure_time=datetime.timedelta(seconds=35700), stop_id='-7978747450465050333', stop_sequence=1),\n",
       " GtfsStopTime(trip_id='11_U_7', arrival_time=datetime.timedelta(seconds=35760), departure_time=datetime.timedelta(seconds=35760), stop_id='3296271802036003081', stop_sequence=2),\n",
       " GtfsStopTime(trip_id='11_U_7', arrival_time=datetime.timedelta(seconds=35880), departure_time=datetime.timedelta(seconds=35880), stop_id='1049215841727389041', stop_sequence=3),\n",
       " GtfsStopTime(trip_id='11_U_7', arrival_time=datetime.timedelta(seconds=36000), departure_time=datetime.timedelta(seconds=36000), stop_id='-5726904257136342933', stop_sequence=4),\n",
       " GtfsStopTime(trip_id='11_U_7', arrival_time=datetime.timedelta(seconds=36060), departure_time=datetime.timedelta(seconds=36060), stop_id='3449979680681364563', stop_sequence=5),\n",
       " GtfsStopTime(trip_id='11_U_7', arrival_time=datetime.timedelta(seconds=36140), departure_time=datetime.timedelta(seconds=36140), stop_id='4633092720674564125', stop_sequence=6),\n",
       " GtfsStopTime(trip_id='11_U_7', arrival_time=datetime.timedelta(seconds=36220), departure_time=datetime.timedelta(seconds=36220), stop_id='7365573631076063212', stop_sequence=7),\n",
       " GtfsStopTime(trip_id='11_U_7', arrival_time=datetime.timedelta(seconds=36300), departure_time=datetime.timedelta(seconds=36300), stop_id='-4437974693873153127', stop_sequence=8),\n",
       " GtfsStopTime(trip_id='11_U_7', arrival_time=datetime.timedelta(seconds=36390), departure_time=datetime.timedelta(seconds=36390), stop_id='1404690494610635814', stop_sequence=9),\n",
       " GtfsStopTime(trip_id='11_U_7', arrival_time=datetime.timedelta(seconds=36480), departure_time=datetime.timedelta(seconds=36480), stop_id='6648252636946330296', stop_sequence=10),\n",
       " GtfsStopTime(trip_id='11_U_7', arrival_time=datetime.timedelta(seconds=36570), departure_time=datetime.timedelta(seconds=36570), stop_id='157321904888292943', stop_sequence=11),\n",
       " GtfsStopTime(trip_id='11_U_7', arrival_time=datetime.timedelta(seconds=36660), departure_time=datetime.timedelta(seconds=36660), stop_id='3669347682309318554', stop_sequence=12),\n",
       " GtfsStopTime(trip_id='11_U_7', arrival_time=datetime.timedelta(seconds=36765), departure_time=datetime.timedelta(seconds=36765), stop_id='157321904888292943', stop_sequence=13),\n",
       " GtfsStopTime(trip_id='11_U_7', arrival_time=datetime.timedelta(seconds=36870), departure_time=datetime.timedelta(seconds=36870), stop_id='6648252636946330296', stop_sequence=14),\n",
       " GtfsStopTime(trip_id='11_U_7', arrival_time=datetime.timedelta(seconds=36975), departure_time=datetime.timedelta(seconds=36975), stop_id='1404690494610635814', stop_sequence=15),\n",
       " GtfsStopTime(trip_id='11_U_7', arrival_time=datetime.timedelta(seconds=37080), departure_time=datetime.timedelta(seconds=37080), stop_id='-4437974693873153127', stop_sequence=16),\n",
       " GtfsStopTime(trip_id='11_U_7', arrival_time=datetime.timedelta(seconds=37180), departure_time=datetime.timedelta(seconds=37180), stop_id='-6125832270136671136', stop_sequence=17),\n",
       " GtfsStopTime(trip_id='11_U_7', arrival_time=datetime.timedelta(seconds=37280), departure_time=datetime.timedelta(seconds=37280), stop_id='1296326338167383190', stop_sequence=18),\n",
       " GtfsStopTime(trip_id='11_U_7', arrival_time=datetime.timedelta(seconds=37380), departure_time=datetime.timedelta(seconds=37380), stop_id='-7978747450465050333', stop_sequence=19),\n",
       " GtfsStopTime(trip_id='11_U_8', arrival_time=datetime.timedelta(seconds=37200), departure_time=datetime.timedelta(seconds=37200), stop_id='-7978747450465050333', stop_sequence=1),\n",
       " GtfsStopTime(trip_id='11_U_8', arrival_time=datetime.timedelta(seconds=37260), departure_time=datetime.timedelta(seconds=37260), stop_id='3296271802036003081', stop_sequence=2),\n",
       " GtfsStopTime(trip_id='11_U_8', arrival_time=datetime.timedelta(seconds=37380), departure_time=datetime.timedelta(seconds=37380), stop_id='1049215841727389041', stop_sequence=3),\n",
       " GtfsStopTime(trip_id='11_U_8', arrival_time=datetime.timedelta(seconds=37500), departure_time=datetime.timedelta(seconds=37500), stop_id='-5726904257136342933', stop_sequence=4),\n",
       " GtfsStopTime(trip_id='11_U_8', arrival_time=datetime.timedelta(seconds=37560), departure_time=datetime.timedelta(seconds=37560), stop_id='3449979680681364563', stop_sequence=5),\n",
       " GtfsStopTime(trip_id='11_U_8', arrival_time=datetime.timedelta(seconds=37640), departure_time=datetime.timedelta(seconds=37640), stop_id='4633092720674564125', stop_sequence=6),\n",
       " GtfsStopTime(trip_id='11_U_8', arrival_time=datetime.timedelta(seconds=37720), departure_time=datetime.timedelta(seconds=37720), stop_id='7365573631076063212', stop_sequence=7),\n",
       " GtfsStopTime(trip_id='11_U_8', arrival_time=datetime.timedelta(seconds=37800), departure_time=datetime.timedelta(seconds=37800), stop_id='-4437974693873153127', stop_sequence=8),\n",
       " GtfsStopTime(trip_id='11_U_8', arrival_time=datetime.timedelta(seconds=37890), departure_time=datetime.timedelta(seconds=37890), stop_id='1404690494610635814', stop_sequence=9),\n",
       " GtfsStopTime(trip_id='11_U_8', arrival_time=datetime.timedelta(seconds=37980), departure_time=datetime.timedelta(seconds=37980), stop_id='6648252636946330296', stop_sequence=10),\n",
       " GtfsStopTime(trip_id='11_U_8', arrival_time=datetime.timedelta(seconds=38070), departure_time=datetime.timedelta(seconds=38070), stop_id='157321904888292943', stop_sequence=11),\n",
       " GtfsStopTime(trip_id='11_U_8', arrival_time=datetime.timedelta(seconds=38160), departure_time=datetime.timedelta(seconds=38160), stop_id='3669347682309318554', stop_sequence=12),\n",
       " GtfsStopTime(trip_id='11_U_8', arrival_time=datetime.timedelta(seconds=38265), departure_time=datetime.timedelta(seconds=38265), stop_id='157321904888292943', stop_sequence=13),\n",
       " GtfsStopTime(trip_id='11_U_8', arrival_time=datetime.timedelta(seconds=38370), departure_time=datetime.timedelta(seconds=38370), stop_id='6648252636946330296', stop_sequence=14),\n",
       " GtfsStopTime(trip_id='11_U_8', arrival_time=datetime.timedelta(seconds=38475), departure_time=datetime.timedelta(seconds=38475), stop_id='1404690494610635814', stop_sequence=15),\n",
       " GtfsStopTime(trip_id='11_U_8', arrival_time=datetime.timedelta(seconds=38580), departure_time=datetime.timedelta(seconds=38580), stop_id='-4437974693873153127', stop_sequence=16),\n",
       " GtfsStopTime(trip_id='11_U_8', arrival_time=datetime.timedelta(seconds=38680), departure_time=datetime.timedelta(seconds=38680), stop_id='-6125832270136671136', stop_sequence=17),\n",
       " GtfsStopTime(trip_id='11_U_8', arrival_time=datetime.timedelta(seconds=38780), departure_time=datetime.timedelta(seconds=38780), stop_id='1296326338167383190', stop_sequence=18),\n",
       " GtfsStopTime(trip_id='11_U_8', arrival_time=datetime.timedelta(seconds=38880), departure_time=datetime.timedelta(seconds=38880), stop_id='-7978747450465050333', stop_sequence=19),\n",
       " GtfsStopTime(trip_id='11_U_9', arrival_time=datetime.timedelta(seconds=44400), departure_time=datetime.timedelta(seconds=44400), stop_id='-7978747450465050333', stop_sequence=1),\n",
       " GtfsStopTime(trip_id='11_U_9', arrival_time=datetime.timedelta(seconds=44460), departure_time=datetime.timedelta(seconds=44460), stop_id='3296271802036003081', stop_sequence=2),\n",
       " GtfsStopTime(trip_id='11_U_9', arrival_time=datetime.timedelta(seconds=44580), departure_time=datetime.timedelta(seconds=44580), stop_id='1049215841727389041', stop_sequence=3),\n",
       " GtfsStopTime(trip_id='11_U_9', arrival_time=datetime.timedelta(seconds=44700), departure_time=datetime.timedelta(seconds=44700), stop_id='-5726904257136342933', stop_sequence=4),\n",
       " GtfsStopTime(trip_id='11_U_9', arrival_time=datetime.timedelta(seconds=44760), departure_time=datetime.timedelta(seconds=44760), stop_id='3449979680681364563', stop_sequence=5),\n",
       " GtfsStopTime(trip_id='11_U_9', arrival_time=datetime.timedelta(seconds=44840), departure_time=datetime.timedelta(seconds=44840), stop_id='4633092720674564125', stop_sequence=6),\n",
       " GtfsStopTime(trip_id='11_U_9', arrival_time=datetime.timedelta(seconds=44920), departure_time=datetime.timedelta(seconds=44920), stop_id='7365573631076063212', stop_sequence=7),\n",
       " GtfsStopTime(trip_id='11_U_9', arrival_time=datetime.timedelta(seconds=45000), departure_time=datetime.timedelta(seconds=45000), stop_id='-4437974693873153127', stop_sequence=8),\n",
       " GtfsStopTime(trip_id='11_U_9', arrival_time=datetime.timedelta(seconds=45090), departure_time=datetime.timedelta(seconds=45090), stop_id='1404690494610635814', stop_sequence=9),\n",
       " GtfsStopTime(trip_id='11_U_9', arrival_time=datetime.timedelta(seconds=45180), departure_time=datetime.timedelta(seconds=45180), stop_id='6648252636946330296', stop_sequence=10),\n",
       " GtfsStopTime(trip_id='11_U_9', arrival_time=datetime.timedelta(seconds=45270), departure_time=datetime.timedelta(seconds=45270), stop_id='157321904888292943', stop_sequence=11),\n",
       " GtfsStopTime(trip_id='11_U_9', arrival_time=datetime.timedelta(seconds=45360), departure_time=datetime.timedelta(seconds=45360), stop_id='3669347682309318554', stop_sequence=12),\n",
       " GtfsStopTime(trip_id='11_U_9', arrival_time=datetime.timedelta(seconds=45465), departure_time=datetime.timedelta(seconds=45465), stop_id='157321904888292943', stop_sequence=13),\n",
       " GtfsStopTime(trip_id='11_U_9', arrival_time=datetime.timedelta(seconds=45570), departure_time=datetime.timedelta(seconds=45570), stop_id='6648252636946330296', stop_sequence=14),\n",
       " GtfsStopTime(trip_id='11_U_9', arrival_time=datetime.timedelta(seconds=45675), departure_time=datetime.timedelta(seconds=45675), stop_id='1404690494610635814', stop_sequence=15),\n",
       " GtfsStopTime(trip_id='11_U_9', arrival_time=datetime.timedelta(seconds=45780), departure_time=datetime.timedelta(seconds=45780), stop_id='-4437974693873153127', stop_sequence=16),\n",
       " GtfsStopTime(trip_id='11_U_9', arrival_time=datetime.timedelta(seconds=45880), departure_time=datetime.timedelta(seconds=45880), stop_id='-6125832270136671136', stop_sequence=17),\n",
       " GtfsStopTime(trip_id='11_U_9', arrival_time=datetime.timedelta(seconds=45980), departure_time=datetime.timedelta(seconds=45980), stop_id='1296326338167383190', stop_sequence=18),\n",
       " GtfsStopTime(trip_id='11_U_9', arrival_time=datetime.timedelta(seconds=46080), departure_time=datetime.timedelta(seconds=46080), stop_id='-7978747450465050333', stop_sequence=19),\n",
       " GtfsStopTime(trip_id='11_U_10', arrival_time=datetime.timedelta(seconds=48000), departure_time=datetime.timedelta(seconds=48000), stop_id='-7978747450465050333', stop_sequence=1),\n",
       " GtfsStopTime(trip_id='11_U_10', arrival_time=datetime.timedelta(seconds=48060), departure_time=datetime.timedelta(seconds=48060), stop_id='3296271802036003081', stop_sequence=2),\n",
       " GtfsStopTime(trip_id='11_U_10', arrival_time=datetime.timedelta(seconds=48180), departure_time=datetime.timedelta(seconds=48180), stop_id='1049215841727389041', stop_sequence=3),\n",
       " GtfsStopTime(trip_id='11_U_10', arrival_time=datetime.timedelta(seconds=48300), departure_time=datetime.timedelta(seconds=48300), stop_id='-5726904257136342933', stop_sequence=4),\n",
       " GtfsStopTime(trip_id='11_U_10', arrival_time=datetime.timedelta(seconds=48360), departure_time=datetime.timedelta(seconds=48360), stop_id='3449979680681364563', stop_sequence=5),\n",
       " GtfsStopTime(trip_id='11_U_10', arrival_time=datetime.timedelta(seconds=48440), departure_time=datetime.timedelta(seconds=48440), stop_id='4633092720674564125', stop_sequence=6),\n",
       " GtfsStopTime(trip_id='11_U_10', arrival_time=datetime.timedelta(seconds=48520), departure_time=datetime.timedelta(seconds=48520), stop_id='7365573631076063212', stop_sequence=7),\n",
       " GtfsStopTime(trip_id='11_U_10', arrival_time=datetime.timedelta(seconds=48600), departure_time=datetime.timedelta(seconds=48600), stop_id='-4437974693873153127', stop_sequence=8),\n",
       " GtfsStopTime(trip_id='11_U_10', arrival_time=datetime.timedelta(seconds=48690), departure_time=datetime.timedelta(seconds=48690), stop_id='1404690494610635814', stop_sequence=9),\n",
       " GtfsStopTime(trip_id='11_U_10', arrival_time=datetime.timedelta(seconds=48780), departure_time=datetime.timedelta(seconds=48780), stop_id='6648252636946330296', stop_sequence=10),\n",
       " GtfsStopTime(trip_id='11_U_10', arrival_time=datetime.timedelta(seconds=48870), departure_time=datetime.timedelta(seconds=48870), stop_id='157321904888292943', stop_sequence=11),\n",
       " GtfsStopTime(trip_id='11_U_10', arrival_time=datetime.timedelta(seconds=48960), departure_time=datetime.timedelta(seconds=48960), stop_id='3669347682309318554', stop_sequence=12),\n",
       " GtfsStopTime(trip_id='11_U_10', arrival_time=datetime.timedelta(seconds=49065), departure_time=datetime.timedelta(seconds=49065), stop_id='157321904888292943', stop_sequence=13),\n",
       " GtfsStopTime(trip_id='11_U_10', arrival_time=datetime.timedelta(seconds=49170), departure_time=datetime.timedelta(seconds=49170), stop_id='6648252636946330296', stop_sequence=14),\n",
       " GtfsStopTime(trip_id='11_U_10', arrival_time=datetime.timedelta(seconds=49275), departure_time=datetime.timedelta(seconds=49275), stop_id='1404690494610635814', stop_sequence=15),\n",
       " GtfsStopTime(trip_id='11_U_10', arrival_time=datetime.timedelta(seconds=49380), departure_time=datetime.timedelta(seconds=49380), stop_id='-4437974693873153127', stop_sequence=16),\n",
       " GtfsStopTime(trip_id='11_U_10', arrival_time=datetime.timedelta(seconds=49480), departure_time=datetime.timedelta(seconds=49480), stop_id='-6125832270136671136', stop_sequence=17),\n",
       " GtfsStopTime(trip_id='11_U_10', arrival_time=datetime.timedelta(seconds=49580), departure_time=datetime.timedelta(seconds=49580), stop_id='1296326338167383190', stop_sequence=18),\n",
       " GtfsStopTime(trip_id='11_U_10', arrival_time=datetime.timedelta(seconds=49680), departure_time=datetime.timedelta(seconds=49680), stop_id='-7978747450465050333', stop_sequence=19),\n",
       " GtfsStopTime(trip_id='11_U_11', arrival_time=datetime.timedelta(seconds=56400), departure_time=datetime.timedelta(seconds=56400), stop_id='-7978747450465050333', stop_sequence=1),\n",
       " GtfsStopTime(trip_id='11_U_11', arrival_time=datetime.timedelta(seconds=56460), departure_time=datetime.timedelta(seconds=56460), stop_id='3296271802036003081', stop_sequence=2),\n",
       " GtfsStopTime(trip_id='11_U_11', arrival_time=datetime.timedelta(seconds=56580), departure_time=datetime.timedelta(seconds=56580), stop_id='1049215841727389041', stop_sequence=3),\n",
       " GtfsStopTime(trip_id='11_U_11', arrival_time=datetime.timedelta(seconds=56700), departure_time=datetime.timedelta(seconds=56700), stop_id='-5726904257136342933', stop_sequence=4),\n",
       " GtfsStopTime(trip_id='11_U_11', arrival_time=datetime.timedelta(seconds=56760), departure_time=datetime.timedelta(seconds=56760), stop_id='3449979680681364563', stop_sequence=5),\n",
       " GtfsStopTime(trip_id='11_U_11', arrival_time=datetime.timedelta(seconds=56840), departure_time=datetime.timedelta(seconds=56840), stop_id='4633092720674564125', stop_sequence=6),\n",
       " GtfsStopTime(trip_id='11_U_11', arrival_time=datetime.timedelta(seconds=56920), departure_time=datetime.timedelta(seconds=56920), stop_id='7365573631076063212', stop_sequence=7),\n",
       " GtfsStopTime(trip_id='11_U_11', arrival_time=datetime.timedelta(seconds=57000), departure_time=datetime.timedelta(seconds=57000), stop_id='-4437974693873153127', stop_sequence=8),\n",
       " GtfsStopTime(trip_id='11_U_11', arrival_time=datetime.timedelta(seconds=57090), departure_time=datetime.timedelta(seconds=57090), stop_id='1404690494610635814', stop_sequence=9),\n",
       " GtfsStopTime(trip_id='11_U_11', arrival_time=datetime.timedelta(seconds=57180), departure_time=datetime.timedelta(seconds=57180), stop_id='6648252636946330296', stop_sequence=10),\n",
       " GtfsStopTime(trip_id='11_U_11', arrival_time=datetime.timedelta(seconds=57270), departure_time=datetime.timedelta(seconds=57270), stop_id='157321904888292943', stop_sequence=11),\n",
       " GtfsStopTime(trip_id='11_U_11', arrival_time=datetime.timedelta(seconds=57360), departure_time=datetime.timedelta(seconds=57360), stop_id='3669347682309318554', stop_sequence=12),\n",
       " GtfsStopTime(trip_id='11_U_11', arrival_time=datetime.timedelta(seconds=57465), departure_time=datetime.timedelta(seconds=57465), stop_id='157321904888292943', stop_sequence=13),\n",
       " GtfsStopTime(trip_id='11_U_11', arrival_time=datetime.timedelta(seconds=57570), departure_time=datetime.timedelta(seconds=57570), stop_id='6648252636946330296', stop_sequence=14),\n",
       " GtfsStopTime(trip_id='11_U_11', arrival_time=datetime.timedelta(seconds=57675), departure_time=datetime.timedelta(seconds=57675), stop_id='1404690494610635814', stop_sequence=15),\n",
       " GtfsStopTime(trip_id='11_U_11', arrival_time=datetime.timedelta(seconds=57780), departure_time=datetime.timedelta(seconds=57780), stop_id='-4437974693873153127', stop_sequence=16),\n",
       " GtfsStopTime(trip_id='11_U_11', arrival_time=datetime.timedelta(seconds=57880), departure_time=datetime.timedelta(seconds=57880), stop_id='-6125832270136671136', stop_sequence=17),\n",
       " GtfsStopTime(trip_id='11_U_11', arrival_time=datetime.timedelta(seconds=57980), departure_time=datetime.timedelta(seconds=57980), stop_id='1296326338167383190', stop_sequence=18),\n",
       " GtfsStopTime(trip_id='11_U_11', arrival_time=datetime.timedelta(seconds=58080), departure_time=datetime.timedelta(seconds=58080), stop_id='-7978747450465050333', stop_sequence=19),\n",
       " GtfsStopTime(trip_id='11_U_12', arrival_time=datetime.timedelta(seconds=60000), departure_time=datetime.timedelta(seconds=60000), stop_id='-7978747450465050333', stop_sequence=1),\n",
       " GtfsStopTime(trip_id='11_U_12', arrival_time=datetime.timedelta(seconds=60060), departure_time=datetime.timedelta(seconds=60060), stop_id='3296271802036003081', stop_sequence=2),\n",
       " GtfsStopTime(trip_id='11_U_12', arrival_time=datetime.timedelta(seconds=60180), departure_time=datetime.timedelta(seconds=60180), stop_id='1049215841727389041', stop_sequence=3),\n",
       " GtfsStopTime(trip_id='11_U_12', arrival_time=datetime.timedelta(seconds=60300), departure_time=datetime.timedelta(seconds=60300), stop_id='-5726904257136342933', stop_sequence=4),\n",
       " GtfsStopTime(trip_id='11_U_12', arrival_time=datetime.timedelta(seconds=60360), departure_time=datetime.timedelta(seconds=60360), stop_id='3449979680681364563', stop_sequence=5),\n",
       " GtfsStopTime(trip_id='11_U_12', arrival_time=datetime.timedelta(seconds=60440), departure_time=datetime.timedelta(seconds=60440), stop_id='4633092720674564125', stop_sequence=6),\n",
       " GtfsStopTime(trip_id='11_U_12', arrival_time=datetime.timedelta(seconds=60520), departure_time=datetime.timedelta(seconds=60520), stop_id='7365573631076063212', stop_sequence=7),\n",
       " GtfsStopTime(trip_id='11_U_12', arrival_time=datetime.timedelta(seconds=60600), departure_time=datetime.timedelta(seconds=60600), stop_id='-4437974693873153127', stop_sequence=8),\n",
       " GtfsStopTime(trip_id='11_U_12', arrival_time=datetime.timedelta(seconds=60690), departure_time=datetime.timedelta(seconds=60690), stop_id='1404690494610635814', stop_sequence=9),\n",
       " GtfsStopTime(trip_id='11_U_12', arrival_time=datetime.timedelta(seconds=60780), departure_time=datetime.timedelta(seconds=60780), stop_id='6648252636946330296', stop_sequence=10),\n",
       " GtfsStopTime(trip_id='11_U_12', arrival_time=datetime.timedelta(seconds=60870), departure_time=datetime.timedelta(seconds=60870), stop_id='157321904888292943', stop_sequence=11),\n",
       " GtfsStopTime(trip_id='11_U_12', arrival_time=datetime.timedelta(seconds=60960), departure_time=datetime.timedelta(seconds=60960), stop_id='3669347682309318554', stop_sequence=12),\n",
       " GtfsStopTime(trip_id='11_U_12', arrival_time=datetime.timedelta(seconds=61065), departure_time=datetime.timedelta(seconds=61065), stop_id='157321904888292943', stop_sequence=13),\n",
       " GtfsStopTime(trip_id='11_U_12', arrival_time=datetime.timedelta(seconds=61170), departure_time=datetime.timedelta(seconds=61170), stop_id='6648252636946330296', stop_sequence=14),\n",
       " GtfsStopTime(trip_id='11_U_12', arrival_time=datetime.timedelta(seconds=61275), departure_time=datetime.timedelta(seconds=61275), stop_id='1404690494610635814', stop_sequence=15),\n",
       " GtfsStopTime(trip_id='11_U_12', arrival_time=datetime.timedelta(seconds=61380), departure_time=datetime.timedelta(seconds=61380), stop_id='-4437974693873153127', stop_sequence=16),\n",
       " GtfsStopTime(trip_id='11_U_12', arrival_time=datetime.timedelta(seconds=61480), departure_time=datetime.timedelta(seconds=61480), stop_id='-6125832270136671136', stop_sequence=17),\n",
       " GtfsStopTime(trip_id='11_U_12', arrival_time=datetime.timedelta(seconds=61580), departure_time=datetime.timedelta(seconds=61580), stop_id='1296326338167383190', stop_sequence=18),\n",
       " GtfsStopTime(trip_id='11_U_12', arrival_time=datetime.timedelta(seconds=61680), departure_time=datetime.timedelta(seconds=61680), stop_id='-7978747450465050333', stop_sequence=19),\n",
       " GtfsStopTime(trip_id='11_U_13', arrival_time=datetime.timedelta(seconds=63000), departure_time=datetime.timedelta(seconds=63000), stop_id='-7978747450465050333', stop_sequence=1),\n",
       " GtfsStopTime(trip_id='11_U_13', arrival_time=datetime.timedelta(seconds=63060), departure_time=datetime.timedelta(seconds=63060), stop_id='3296271802036003081', stop_sequence=2),\n",
       " GtfsStopTime(trip_id='11_U_13', arrival_time=datetime.timedelta(seconds=63180), departure_time=datetime.timedelta(seconds=63180), stop_id='1049215841727389041', stop_sequence=3),\n",
       " GtfsStopTime(trip_id='11_U_13', arrival_time=datetime.timedelta(seconds=63300), departure_time=datetime.timedelta(seconds=63300), stop_id='-5726904257136342933', stop_sequence=4),\n",
       " GtfsStopTime(trip_id='11_U_13', arrival_time=datetime.timedelta(seconds=63360), departure_time=datetime.timedelta(seconds=63360), stop_id='3449979680681364563', stop_sequence=5),\n",
       " GtfsStopTime(trip_id='11_U_13', arrival_time=datetime.timedelta(seconds=63440), departure_time=datetime.timedelta(seconds=63440), stop_id='4633092720674564125', stop_sequence=6),\n",
       " GtfsStopTime(trip_id='11_U_13', arrival_time=datetime.timedelta(seconds=63520), departure_time=datetime.timedelta(seconds=63520), stop_id='7365573631076063212', stop_sequence=7),\n",
       " GtfsStopTime(trip_id='11_U_13', arrival_time=datetime.timedelta(seconds=63600), departure_time=datetime.timedelta(seconds=63600), stop_id='-4437974693873153127', stop_sequence=8),\n",
       " GtfsStopTime(trip_id='11_U_13', arrival_time=datetime.timedelta(seconds=63690), departure_time=datetime.timedelta(seconds=63690), stop_id='1404690494610635814', stop_sequence=9),\n",
       " GtfsStopTime(trip_id='11_U_13', arrival_time=datetime.timedelta(seconds=63780), departure_time=datetime.timedelta(seconds=63780), stop_id='6648252636946330296', stop_sequence=10),\n",
       " GtfsStopTime(trip_id='11_U_13', arrival_time=datetime.timedelta(seconds=63870), departure_time=datetime.timedelta(seconds=63870), stop_id='157321904888292943', stop_sequence=11),\n",
       " GtfsStopTime(trip_id='11_U_13', arrival_time=datetime.timedelta(seconds=63960), departure_time=datetime.timedelta(seconds=63960), stop_id='3669347682309318554', stop_sequence=12),\n",
       " GtfsStopTime(trip_id='11_U_13', arrival_time=datetime.timedelta(seconds=64065), departure_time=datetime.timedelta(seconds=64065), stop_id='157321904888292943', stop_sequence=13),\n",
       " GtfsStopTime(trip_id='11_U_13', arrival_time=datetime.timedelta(seconds=64170), departure_time=datetime.timedelta(seconds=64170), stop_id='6648252636946330296', stop_sequence=14),\n",
       " GtfsStopTime(trip_id='11_U_13', arrival_time=datetime.timedelta(seconds=64275), departure_time=datetime.timedelta(seconds=64275), stop_id='1404690494610635814', stop_sequence=15),\n",
       " GtfsStopTime(trip_id='11_U_13', arrival_time=datetime.timedelta(seconds=64380), departure_time=datetime.timedelta(seconds=64380), stop_id='-4437974693873153127', stop_sequence=16),\n",
       " GtfsStopTime(trip_id='11_U_13', arrival_time=datetime.timedelta(seconds=64480), departure_time=datetime.timedelta(seconds=64480), stop_id='-6125832270136671136', stop_sequence=17),\n",
       " GtfsStopTime(trip_id='11_U_13', arrival_time=datetime.timedelta(seconds=64580), departure_time=datetime.timedelta(seconds=64580), stop_id='1296326338167383190', stop_sequence=18),\n",
       " GtfsStopTime(trip_id='11_U_13', arrival_time=datetime.timedelta(seconds=64680), departure_time=datetime.timedelta(seconds=64680), stop_id='-7978747450465050333', stop_sequence=19),\n",
       " GtfsStopTime(trip_id='11_U_14', arrival_time=datetime.timedelta(seconds=64800), departure_time=datetime.timedelta(seconds=64800), stop_id='-7978747450465050333', stop_sequence=1),\n",
       " GtfsStopTime(trip_id='11_U_14', arrival_time=datetime.timedelta(seconds=64860), departure_time=datetime.timedelta(seconds=64860), stop_id='3296271802036003081', stop_sequence=2),\n",
       " GtfsStopTime(trip_id='11_U_14', arrival_time=datetime.timedelta(seconds=64980), departure_time=datetime.timedelta(seconds=64980), stop_id='1049215841727389041', stop_sequence=3),\n",
       " GtfsStopTime(trip_id='11_U_14', arrival_time=datetime.timedelta(seconds=65100), departure_time=datetime.timedelta(seconds=65100), stop_id='-5726904257136342933', stop_sequence=4),\n",
       " GtfsStopTime(trip_id='11_U_14', arrival_time=datetime.timedelta(seconds=65160), departure_time=datetime.timedelta(seconds=65160), stop_id='3449979680681364563', stop_sequence=5),\n",
       " GtfsStopTime(trip_id='11_U_14', arrival_time=datetime.timedelta(seconds=65240), departure_time=datetime.timedelta(seconds=65240), stop_id='4633092720674564125', stop_sequence=6),\n",
       " GtfsStopTime(trip_id='11_U_14', arrival_time=datetime.timedelta(seconds=65320), departure_time=datetime.timedelta(seconds=65320), stop_id='7365573631076063212', stop_sequence=7),\n",
       " GtfsStopTime(trip_id='11_U_14', arrival_time=datetime.timedelta(seconds=65400), departure_time=datetime.timedelta(seconds=65400), stop_id='-4437974693873153127', stop_sequence=8),\n",
       " GtfsStopTime(trip_id='11_U_14', arrival_time=datetime.timedelta(seconds=65490), departure_time=datetime.timedelta(seconds=65490), stop_id='1404690494610635814', stop_sequence=9),\n",
       " GtfsStopTime(trip_id='11_U_14', arrival_time=datetime.timedelta(seconds=65580), departure_time=datetime.timedelta(seconds=65580), stop_id='6648252636946330296', stop_sequence=10),\n",
       " GtfsStopTime(trip_id='11_U_14', arrival_time=datetime.timedelta(seconds=65670), departure_time=datetime.timedelta(seconds=65670), stop_id='157321904888292943', stop_sequence=11),\n",
       " GtfsStopTime(trip_id='11_U_14', arrival_time=datetime.timedelta(seconds=65760), departure_time=datetime.timedelta(seconds=65760), stop_id='3669347682309318554', stop_sequence=12),\n",
       " GtfsStopTime(trip_id='11_U_14', arrival_time=datetime.timedelta(seconds=65865), departure_time=datetime.timedelta(seconds=65865), stop_id='157321904888292943', stop_sequence=13),\n",
       " GtfsStopTime(trip_id='11_U_14', arrival_time=datetime.timedelta(seconds=65970), departure_time=datetime.timedelta(seconds=65970), stop_id='6648252636946330296', stop_sequence=14),\n",
       " GtfsStopTime(trip_id='11_U_14', arrival_time=datetime.timedelta(seconds=66075), departure_time=datetime.timedelta(seconds=66075), stop_id='1404690494610635814', stop_sequence=15),\n",
       " GtfsStopTime(trip_id='11_U_14', arrival_time=datetime.timedelta(seconds=66180), departure_time=datetime.timedelta(seconds=66180), stop_id='-4437974693873153127', stop_sequence=16),\n",
       " GtfsStopTime(trip_id='11_U_14', arrival_time=datetime.timedelta(seconds=66280), departure_time=datetime.timedelta(seconds=66280), stop_id='-6125832270136671136', stop_sequence=17),\n",
       " GtfsStopTime(trip_id='11_U_14', arrival_time=datetime.timedelta(seconds=66380), departure_time=datetime.timedelta(seconds=66380), stop_id='1296326338167383190', stop_sequence=18),\n",
       " GtfsStopTime(trip_id='11_U_14', arrival_time=datetime.timedelta(seconds=66480), departure_time=datetime.timedelta(seconds=66480), stop_id='-7978747450465050333', stop_sequence=19),\n",
       " GtfsStopTime(trip_id='11_U_15', arrival_time=datetime.timedelta(seconds=67200), departure_time=datetime.timedelta(seconds=67200), stop_id='-7978747450465050333', stop_sequence=1),\n",
       " GtfsStopTime(trip_id='11_U_15', arrival_time=datetime.timedelta(seconds=67260), departure_time=datetime.timedelta(seconds=67260), stop_id='3296271802036003081', stop_sequence=2),\n",
       " GtfsStopTime(trip_id='11_U_15', arrival_time=datetime.timedelta(seconds=67380), departure_time=datetime.timedelta(seconds=67380), stop_id='1049215841727389041', stop_sequence=3),\n",
       " GtfsStopTime(trip_id='11_U_15', arrival_time=datetime.timedelta(seconds=67500), departure_time=datetime.timedelta(seconds=67500), stop_id='-5726904257136342933', stop_sequence=4),\n",
       " GtfsStopTime(trip_id='11_U_15', arrival_time=datetime.timedelta(seconds=67560), departure_time=datetime.timedelta(seconds=67560), stop_id='3449979680681364563', stop_sequence=5),\n",
       " GtfsStopTime(trip_id='11_U_15', arrival_time=datetime.timedelta(seconds=67640), departure_time=datetime.timedelta(seconds=67640), stop_id='4633092720674564125', stop_sequence=6),\n",
       " GtfsStopTime(trip_id='11_U_15', arrival_time=datetime.timedelta(seconds=67720), departure_time=datetime.timedelta(seconds=67720), stop_id='7365573631076063212', stop_sequence=7),\n",
       " GtfsStopTime(trip_id='11_U_15', arrival_time=datetime.timedelta(seconds=67800), departure_time=datetime.timedelta(seconds=67800), stop_id='-4437974693873153127', stop_sequence=8),\n",
       " GtfsStopTime(trip_id='11_U_15', arrival_time=datetime.timedelta(seconds=67890), departure_time=datetime.timedelta(seconds=67890), stop_id='1404690494610635814', stop_sequence=9),\n",
       " GtfsStopTime(trip_id='11_U_15', arrival_time=datetime.timedelta(seconds=67980), departure_time=datetime.timedelta(seconds=67980), stop_id='6648252636946330296', stop_sequence=10),\n",
       " GtfsStopTime(trip_id='11_U_15', arrival_time=datetime.timedelta(seconds=68070), departure_time=datetime.timedelta(seconds=68070), stop_id='157321904888292943', stop_sequence=11),\n",
       " GtfsStopTime(trip_id='11_U_15', arrival_time=datetime.timedelta(seconds=68160), departure_time=datetime.timedelta(seconds=68160), stop_id='3669347682309318554', stop_sequence=12),\n",
       " GtfsStopTime(trip_id='11_U_15', arrival_time=datetime.timedelta(seconds=68265), departure_time=datetime.timedelta(seconds=68265), stop_id='157321904888292943', stop_sequence=13),\n",
       " GtfsStopTime(trip_id='11_U_15', arrival_time=datetime.timedelta(seconds=68370), departure_time=datetime.timedelta(seconds=68370), stop_id='6648252636946330296', stop_sequence=14),\n",
       " GtfsStopTime(trip_id='11_U_15', arrival_time=datetime.timedelta(seconds=68475), departure_time=datetime.timedelta(seconds=68475), stop_id='1404690494610635814', stop_sequence=15),\n",
       " GtfsStopTime(trip_id='11_U_15', arrival_time=datetime.timedelta(seconds=68580), departure_time=datetime.timedelta(seconds=68580), stop_id='-4437974693873153127', stop_sequence=16),\n",
       " GtfsStopTime(trip_id='11_U_15', arrival_time=datetime.timedelta(seconds=68680), departure_time=datetime.timedelta(seconds=68680), stop_id='-6125832270136671136', stop_sequence=17),\n",
       " GtfsStopTime(trip_id='11_U_15', arrival_time=datetime.timedelta(seconds=68780), departure_time=datetime.timedelta(seconds=68780), stop_id='1296326338167383190', stop_sequence=18),\n",
       " GtfsStopTime(trip_id='11_U_15', arrival_time=datetime.timedelta(seconds=68880), departure_time=datetime.timedelta(seconds=68880), stop_id='-7978747450465050333', stop_sequence=19),\n",
       " GtfsStopTime(trip_id='11_U_1', arrival_time=datetime.timedelta(seconds=62400), departure_time=datetime.timedelta(seconds=62400), stop_id='-7978747450465050333', stop_sequence=1),\n",
       " GtfsStopTime(trip_id='11_U_1', arrival_time=datetime.timedelta(seconds=62460), departure_time=datetime.timedelta(seconds=62460), stop_id='3296271802036003081', stop_sequence=2),\n",
       " GtfsStopTime(trip_id='11_U_1', arrival_time=datetime.timedelta(seconds=62520), departure_time=datetime.timedelta(seconds=62520), stop_id='1049215841727389041', stop_sequence=3),\n",
       " GtfsStopTime(trip_id='11_U_1', arrival_time=datetime.timedelta(seconds=62580), departure_time=datetime.timedelta(seconds=62580), stop_id='-5726904257136342933', stop_sequence=4),\n",
       " GtfsStopTime(trip_id='11_U_1', arrival_time=datetime.timedelta(seconds=62640), departure_time=datetime.timedelta(seconds=62640), stop_id='3449979680681364563', stop_sequence=5),\n",
       " GtfsStopTime(trip_id='11_U_1', arrival_time=datetime.timedelta(seconds=62730), departure_time=datetime.timedelta(seconds=62730), stop_id='7365573631076063212', stop_sequence=6),\n",
       " GtfsStopTime(trip_id='11_U_1', arrival_time=datetime.timedelta(seconds=62820), departure_time=datetime.timedelta(seconds=62820), stop_id='-4437974693873153127', stop_sequence=7),\n",
       " GtfsStopTime(trip_id='11_U_1', arrival_time=datetime.timedelta(seconds=62850), departure_time=datetime.timedelta(seconds=62850), stop_id='1404690494610635814', stop_sequence=8),\n",
       " GtfsStopTime(trip_id='11_U_1', arrival_time=datetime.timedelta(seconds=62880), departure_time=datetime.timedelta(seconds=62880), stop_id='6648252636946330296', stop_sequence=9),\n",
       " GtfsStopTime(trip_id='11_U_1', arrival_time=datetime.timedelta(seconds=62910), departure_time=datetime.timedelta(seconds=62910), stop_id='157321904888292943', stop_sequence=10),\n",
       " GtfsStopTime(trip_id='11_U_1', arrival_time=datetime.timedelta(seconds=62940), departure_time=datetime.timedelta(seconds=62940), stop_id='3669347682309318554', stop_sequence=11),\n",
       " GtfsStopTime(trip_id='11_U_1', arrival_time=datetime.timedelta(seconds=63090), departure_time=datetime.timedelta(seconds=63090), stop_id='157321904888292943', stop_sequence=12),\n",
       " GtfsStopTime(trip_id='11_U_1', arrival_time=datetime.timedelta(seconds=63240), departure_time=datetime.timedelta(seconds=63240), stop_id='-2964692957099076441', stop_sequence=13),\n",
       " GtfsStopTime(trip_id='11_U_1', arrival_time=datetime.timedelta(seconds=63360), departure_time=datetime.timedelta(seconds=63360), stop_id='5163297973265390477', stop_sequence=14),\n",
       " GtfsStopTime(trip_id='11_U_1', arrival_time=datetime.timedelta(seconds=63480), departure_time=datetime.timedelta(seconds=63480), stop_id='-2437510910615000085', stop_sequence=15),\n",
       " GtfsStopTime(trip_id='11_U_1', arrival_time=datetime.timedelta(seconds=63600), departure_time=datetime.timedelta(seconds=63600), stop_id='4493647475016865041', stop_sequence=16),\n",
       " GtfsStopTime(trip_id='11_U_1', arrival_time=datetime.timedelta(seconds=63670), departure_time=datetime.timedelta(seconds=63670), stop_id='-7416044751956061976', stop_sequence=17),\n",
       " GtfsStopTime(trip_id='11_U_1', arrival_time=datetime.timedelta(seconds=63740), departure_time=datetime.timedelta(seconds=63740), stop_id='6155560499219983615', stop_sequence=18),\n",
       " GtfsStopTime(trip_id='11_U_1', arrival_time=datetime.timedelta(seconds=63810), departure_time=datetime.timedelta(seconds=63810), stop_id='-2988706951121556919', stop_sequence=19),\n",
       " GtfsStopTime(trip_id='11_U_1', arrival_time=datetime.timedelta(seconds=63880), departure_time=datetime.timedelta(seconds=63880), stop_id='-2301726101652392779', stop_sequence=20),\n",
       " GtfsStopTime(trip_id='11_U_1', arrival_time=datetime.timedelta(seconds=63950), departure_time=datetime.timedelta(seconds=63950), stop_id='1296326338167383190', stop_sequence=21),\n",
       " GtfsStopTime(trip_id='11_U_1', arrival_time=datetime.timedelta(seconds=64020), departure_time=datetime.timedelta(seconds=64020), stop_id='-7978747450465050333', stop_sequence=22),\n",
       " GtfsStopTime(trip_id='11_U_2', arrival_time=datetime.timedelta(seconds=66000), departure_time=datetime.timedelta(seconds=66000), stop_id='-7978747450465050333', stop_sequence=1),\n",
       " GtfsStopTime(trip_id='11_U_2', arrival_time=datetime.timedelta(seconds=66060), departure_time=datetime.timedelta(seconds=66060), stop_id='3296271802036003081', stop_sequence=2),\n",
       " GtfsStopTime(trip_id='11_U_2', arrival_time=datetime.timedelta(seconds=66120), departure_time=datetime.timedelta(seconds=66120), stop_id='1049215841727389041', stop_sequence=3),\n",
       " GtfsStopTime(trip_id='11_U_2', arrival_time=datetime.timedelta(seconds=66180), departure_time=datetime.timedelta(seconds=66180), stop_id='-5726904257136342933', stop_sequence=4),\n",
       " GtfsStopTime(trip_id='11_U_2', arrival_time=datetime.timedelta(seconds=66240), departure_time=datetime.timedelta(seconds=66240), stop_id='3449979680681364563', stop_sequence=5),\n",
       " GtfsStopTime(trip_id='11_U_2', arrival_time=datetime.timedelta(seconds=66330), departure_time=datetime.timedelta(seconds=66330), stop_id='7365573631076063212', stop_sequence=6),\n",
       " GtfsStopTime(trip_id='11_U_2', arrival_time=datetime.timedelta(seconds=66420), departure_time=datetime.timedelta(seconds=66420), stop_id='-4437974693873153127', stop_sequence=7),\n",
       " GtfsStopTime(trip_id='11_U_2', arrival_time=datetime.timedelta(seconds=66450), departure_time=datetime.timedelta(seconds=66450), stop_id='1404690494610635814', stop_sequence=8),\n",
       " GtfsStopTime(trip_id='11_U_2', arrival_time=datetime.timedelta(seconds=66480), departure_time=datetime.timedelta(seconds=66480), stop_id='6648252636946330296', stop_sequence=9),\n",
       " GtfsStopTime(trip_id='11_U_2', arrival_time=datetime.timedelta(seconds=66510), departure_time=datetime.timedelta(seconds=66510), stop_id='157321904888292943', stop_sequence=10),\n",
       " GtfsStopTime(trip_id='11_U_2', arrival_time=datetime.timedelta(seconds=66540), departure_time=datetime.timedelta(seconds=66540), stop_id='3669347682309318554', stop_sequence=11),\n",
       " GtfsStopTime(trip_id='11_U_2', arrival_time=datetime.timedelta(seconds=66690), departure_time=datetime.timedelta(seconds=66690), stop_id='157321904888292943', stop_sequence=12),\n",
       " GtfsStopTime(trip_id='11_U_2', arrival_time=datetime.timedelta(seconds=66840), departure_time=datetime.timedelta(seconds=66840), stop_id='-2964692957099076441', stop_sequence=13),\n",
       " GtfsStopTime(trip_id='11_U_2', arrival_time=datetime.timedelta(seconds=66960), departure_time=datetime.timedelta(seconds=66960), stop_id='5163297973265390477', stop_sequence=14),\n",
       " GtfsStopTime(trip_id='11_U_2', arrival_time=datetime.timedelta(seconds=67080), departure_time=datetime.timedelta(seconds=67080), stop_id='-2437510910615000085', stop_sequence=15),\n",
       " GtfsStopTime(trip_id='11_U_2', arrival_time=datetime.timedelta(seconds=67200), departure_time=datetime.timedelta(seconds=67200), stop_id='4493647475016865041', stop_sequence=16),\n",
       " GtfsStopTime(trip_id='11_U_2', arrival_time=datetime.timedelta(seconds=67270), departure_time=datetime.timedelta(seconds=67270), stop_id='-7416044751956061976', stop_sequence=17),\n",
       " GtfsStopTime(trip_id='11_U_2', arrival_time=datetime.timedelta(seconds=67340), departure_time=datetime.timedelta(seconds=67340), stop_id='6155560499219983615', stop_sequence=18),\n",
       " GtfsStopTime(trip_id='11_U_2', arrival_time=datetime.timedelta(seconds=67410), departure_time=datetime.timedelta(seconds=67410), stop_id='-2988706951121556919', stop_sequence=19),\n",
       " GtfsStopTime(trip_id='11_U_2', arrival_time=datetime.timedelta(seconds=67480), departure_time=datetime.timedelta(seconds=67480), stop_id='-2301726101652392779', stop_sequence=20),\n",
       " GtfsStopTime(trip_id='11_U_2', arrival_time=datetime.timedelta(seconds=67550), departure_time=datetime.timedelta(seconds=67550), stop_id='1296326338167383190', stop_sequence=21),\n",
       " GtfsStopTime(trip_id='11_U_2', arrival_time=datetime.timedelta(seconds=67620), departure_time=datetime.timedelta(seconds=67620), stop_id='-7978747450465050333', stop_sequence=22),\n",
       " GtfsStopTime(trip_id='11_U_3', arrival_time=datetime.timedelta(seconds=69600), departure_time=datetime.timedelta(seconds=69600), stop_id='-7978747450465050333', stop_sequence=1),\n",
       " GtfsStopTime(trip_id='11_U_3', arrival_time=datetime.timedelta(seconds=69660), departure_time=datetime.timedelta(seconds=69660), stop_id='3296271802036003081', stop_sequence=2),\n",
       " GtfsStopTime(trip_id='11_U_3', arrival_time=datetime.timedelta(seconds=69720), departure_time=datetime.timedelta(seconds=69720), stop_id='1049215841727389041', stop_sequence=3),\n",
       " GtfsStopTime(trip_id='11_U_3', arrival_time=datetime.timedelta(seconds=69780), departure_time=datetime.timedelta(seconds=69780), stop_id='-5726904257136342933', stop_sequence=4),\n",
       " GtfsStopTime(trip_id='11_U_3', arrival_time=datetime.timedelta(seconds=69840), departure_time=datetime.timedelta(seconds=69840), stop_id='3449979680681364563', stop_sequence=5),\n",
       " GtfsStopTime(trip_id='11_U_3', arrival_time=datetime.timedelta(seconds=69930), departure_time=datetime.timedelta(seconds=69930), stop_id='7365573631076063212', stop_sequence=6),\n",
       " GtfsStopTime(trip_id='11_U_3', arrival_time=datetime.timedelta(seconds=70020), departure_time=datetime.timedelta(seconds=70020), stop_id='-4437974693873153127', stop_sequence=7),\n",
       " GtfsStopTime(trip_id='11_U_3', arrival_time=datetime.timedelta(seconds=70050), departure_time=datetime.timedelta(seconds=70050), stop_id='1404690494610635814', stop_sequence=8),\n",
       " GtfsStopTime(trip_id='11_U_3', arrival_time=datetime.timedelta(seconds=70080), departure_time=datetime.timedelta(seconds=70080), stop_id='6648252636946330296', stop_sequence=9),\n",
       " GtfsStopTime(trip_id='11_U_3', arrival_time=datetime.timedelta(seconds=70110), departure_time=datetime.timedelta(seconds=70110), stop_id='157321904888292943', stop_sequence=10),\n",
       " GtfsStopTime(trip_id='11_U_3', arrival_time=datetime.timedelta(seconds=70140), departure_time=datetime.timedelta(seconds=70140), stop_id='3669347682309318554', stop_sequence=11),\n",
       " GtfsStopTime(trip_id='11_U_3', arrival_time=datetime.timedelta(seconds=70290), departure_time=datetime.timedelta(seconds=70290), stop_id='157321904888292943', stop_sequence=12),\n",
       " GtfsStopTime(trip_id='11_U_3', arrival_time=datetime.timedelta(seconds=70440), departure_time=datetime.timedelta(seconds=70440), stop_id='-2964692957099076441', stop_sequence=13),\n",
       " GtfsStopTime(trip_id='11_U_3', arrival_time=datetime.timedelta(seconds=70560), departure_time=datetime.timedelta(seconds=70560), stop_id='5163297973265390477', stop_sequence=14),\n",
       " GtfsStopTime(trip_id='11_U_3', arrival_time=datetime.timedelta(seconds=70680), departure_time=datetime.timedelta(seconds=70680), stop_id='-2437510910615000085', stop_sequence=15),\n",
       " GtfsStopTime(trip_id='11_U_3', arrival_time=datetime.timedelta(seconds=70800), departure_time=datetime.timedelta(seconds=70800), stop_id='4493647475016865041', stop_sequence=16),\n",
       " GtfsStopTime(trip_id='11_U_3', arrival_time=datetime.timedelta(seconds=70870), departure_time=datetime.timedelta(seconds=70870), stop_id='-7416044751956061976', stop_sequence=17),\n",
       " GtfsStopTime(trip_id='11_U_3', arrival_time=datetime.timedelta(seconds=70940), departure_time=datetime.timedelta(seconds=70940), stop_id='6155560499219983615', stop_sequence=18),\n",
       " GtfsStopTime(trip_id='11_U_3', arrival_time=datetime.timedelta(seconds=71010), departure_time=datetime.timedelta(seconds=71010), stop_id='-2988706951121556919', stop_sequence=19),\n",
       " GtfsStopTime(trip_id='11_U_3', arrival_time=datetime.timedelta(seconds=71080), departure_time=datetime.timedelta(seconds=71080), stop_id='-2301726101652392779', stop_sequence=20),\n",
       " GtfsStopTime(trip_id='11_U_3', arrival_time=datetime.timedelta(seconds=71150), departure_time=datetime.timedelta(seconds=71150), stop_id='1296326338167383190', stop_sequence=21),\n",
       " GtfsStopTime(trip_id='11_U_3', arrival_time=datetime.timedelta(seconds=71220), departure_time=datetime.timedelta(seconds=71220), stop_id='-7978747450465050333', stop_sequence=22),\n",
       " GtfsStopTime(trip_id='11_U_4', arrival_time=datetime.timedelta(seconds=71700), departure_time=datetime.timedelta(seconds=71700), stop_id='-7978747450465050333', stop_sequence=1),\n",
       " GtfsStopTime(trip_id='11_U_4', arrival_time=datetime.timedelta(seconds=71760), departure_time=datetime.timedelta(seconds=71760), stop_id='3296271802036003081', stop_sequence=2),\n",
       " GtfsStopTime(trip_id='11_U_4', arrival_time=datetime.timedelta(seconds=71820), departure_time=datetime.timedelta(seconds=71820), stop_id='1049215841727389041', stop_sequence=3),\n",
       " GtfsStopTime(trip_id='11_U_4', arrival_time=datetime.timedelta(seconds=71880), departure_time=datetime.timedelta(seconds=71880), stop_id='-5726904257136342933', stop_sequence=4),\n",
       " GtfsStopTime(trip_id='11_U_4', arrival_time=datetime.timedelta(seconds=71940), departure_time=datetime.timedelta(seconds=71940), stop_id='3449979680681364563', stop_sequence=5),\n",
       " GtfsStopTime(trip_id='11_U_4', arrival_time=datetime.timedelta(seconds=72030), departure_time=datetime.timedelta(seconds=72030), stop_id='7365573631076063212', stop_sequence=6),\n",
       " GtfsStopTime(trip_id='11_U_4', arrival_time=datetime.timedelta(seconds=72120), departure_time=datetime.timedelta(seconds=72120), stop_id='-4437974693873153127', stop_sequence=7),\n",
       " GtfsStopTime(trip_id='11_U_4', arrival_time=datetime.timedelta(seconds=72150), departure_time=datetime.timedelta(seconds=72150), stop_id='1404690494610635814', stop_sequence=8),\n",
       " GtfsStopTime(trip_id='11_U_4', arrival_time=datetime.timedelta(seconds=72180), departure_time=datetime.timedelta(seconds=72180), stop_id='6648252636946330296', stop_sequence=9),\n",
       " GtfsStopTime(trip_id='11_U_4', arrival_time=datetime.timedelta(seconds=72210), departure_time=datetime.timedelta(seconds=72210), stop_id='157321904888292943', stop_sequence=10),\n",
       " GtfsStopTime(trip_id='11_U_4', arrival_time=datetime.timedelta(seconds=72240), departure_time=datetime.timedelta(seconds=72240), stop_id='3669347682309318554', stop_sequence=11),\n",
       " GtfsStopTime(trip_id='11_U_4', arrival_time=datetime.timedelta(seconds=72390), departure_time=datetime.timedelta(seconds=72390), stop_id='157321904888292943', stop_sequence=12),\n",
       " GtfsStopTime(trip_id='11_U_4', arrival_time=datetime.timedelta(seconds=72540), departure_time=datetime.timedelta(seconds=72540), stop_id='-2964692957099076441', stop_sequence=13),\n",
       " GtfsStopTime(trip_id='11_U_4', arrival_time=datetime.timedelta(seconds=72660), departure_time=datetime.timedelta(seconds=72660), stop_id='5163297973265390477', stop_sequence=14),\n",
       " GtfsStopTime(trip_id='11_U_4', arrival_time=datetime.timedelta(seconds=72780), departure_time=datetime.timedelta(seconds=72780), stop_id='-2437510910615000085', stop_sequence=15),\n",
       " GtfsStopTime(trip_id='11_U_4', arrival_time=datetime.timedelta(seconds=72900), departure_time=datetime.timedelta(seconds=72900), stop_id='4493647475016865041', stop_sequence=16),\n",
       " GtfsStopTime(trip_id='11_U_4', arrival_time=datetime.timedelta(seconds=72970), departure_time=datetime.timedelta(seconds=72970), stop_id='-7416044751956061976', stop_sequence=17),\n",
       " GtfsStopTime(trip_id='11_U_4', arrival_time=datetime.timedelta(seconds=73040), departure_time=datetime.timedelta(seconds=73040), stop_id='6155560499219983615', stop_sequence=18),\n",
       " GtfsStopTime(trip_id='11_U_4', arrival_time=datetime.timedelta(seconds=73110), departure_time=datetime.timedelta(seconds=73110), stop_id='-2988706951121556919', stop_sequence=19),\n",
       " GtfsStopTime(trip_id='11_U_4', arrival_time=datetime.timedelta(seconds=73180), departure_time=datetime.timedelta(seconds=73180), stop_id='-2301726101652392779', stop_sequence=20),\n",
       " GtfsStopTime(trip_id='11_U_4', arrival_time=datetime.timedelta(seconds=73250), departure_time=datetime.timedelta(seconds=73250), stop_id='1296326338167383190', stop_sequence=21),\n",
       " GtfsStopTime(trip_id='11_U_4', arrival_time=datetime.timedelta(seconds=73320), departure_time=datetime.timedelta(seconds=73320), stop_id='-7978747450465050333', stop_sequence=22),\n",
       " GtfsStopTime(trip_id='11_U_5', arrival_time=datetime.timedelta(seconds=73800), departure_time=datetime.timedelta(seconds=73800), stop_id='-7978747450465050333', stop_sequence=1),\n",
       " GtfsStopTime(trip_id='11_U_5', arrival_time=datetime.timedelta(seconds=73860), departure_time=datetime.timedelta(seconds=73860), stop_id='3296271802036003081', stop_sequence=2),\n",
       " GtfsStopTime(trip_id='11_U_5', arrival_time=datetime.timedelta(seconds=73920), departure_time=datetime.timedelta(seconds=73920), stop_id='1049215841727389041', stop_sequence=3),\n",
       " GtfsStopTime(trip_id='11_U_5', arrival_time=datetime.timedelta(seconds=73980), departure_time=datetime.timedelta(seconds=73980), stop_id='-5726904257136342933', stop_sequence=4),\n",
       " GtfsStopTime(trip_id='11_U_5', arrival_time=datetime.timedelta(seconds=74040), departure_time=datetime.timedelta(seconds=74040), stop_id='3449979680681364563', stop_sequence=5),\n",
       " GtfsStopTime(trip_id='11_U_5', arrival_time=datetime.timedelta(seconds=74130), departure_time=datetime.timedelta(seconds=74130), stop_id='7365573631076063212', stop_sequence=6),\n",
       " GtfsStopTime(trip_id='11_U_5', arrival_time=datetime.timedelta(seconds=74220), departure_time=datetime.timedelta(seconds=74220), stop_id='-4437974693873153127', stop_sequence=7),\n",
       " GtfsStopTime(trip_id='11_U_5', arrival_time=datetime.timedelta(seconds=74250), departure_time=datetime.timedelta(seconds=74250), stop_id='1404690494610635814', stop_sequence=8),\n",
       " GtfsStopTime(trip_id='11_U_5', arrival_time=datetime.timedelta(seconds=74280), departure_time=datetime.timedelta(seconds=74280), stop_id='6648252636946330296', stop_sequence=9),\n",
       " GtfsStopTime(trip_id='11_U_5', arrival_time=datetime.timedelta(seconds=74310), departure_time=datetime.timedelta(seconds=74310), stop_id='157321904888292943', stop_sequence=10),\n",
       " GtfsStopTime(trip_id='11_U_5', arrival_time=datetime.timedelta(seconds=74340), departure_time=datetime.timedelta(seconds=74340), stop_id='3669347682309318554', stop_sequence=11),\n",
       " GtfsStopTime(trip_id='11_U_5', arrival_time=datetime.timedelta(seconds=74490), departure_time=datetime.timedelta(seconds=74490), stop_id='157321904888292943', stop_sequence=12),\n",
       " GtfsStopTime(trip_id='11_U_5', arrival_time=datetime.timedelta(seconds=74640), departure_time=datetime.timedelta(seconds=74640), stop_id='-2964692957099076441', stop_sequence=13),\n",
       " GtfsStopTime(trip_id='11_U_5', arrival_time=datetime.timedelta(seconds=74760), departure_time=datetime.timedelta(seconds=74760), stop_id='5163297973265390477', stop_sequence=14),\n",
       " GtfsStopTime(trip_id='11_U_5', arrival_time=datetime.timedelta(seconds=74880), departure_time=datetime.timedelta(seconds=74880), stop_id='-2437510910615000085', stop_sequence=15),\n",
       " GtfsStopTime(trip_id='11_U_5', arrival_time=datetime.timedelta(seconds=75000), departure_time=datetime.timedelta(seconds=75000), stop_id='4493647475016865041', stop_sequence=16),\n",
       " GtfsStopTime(trip_id='11_U_5', arrival_time=datetime.timedelta(seconds=75070), departure_time=datetime.timedelta(seconds=75070), stop_id='-7416044751956061976', stop_sequence=17),\n",
       " GtfsStopTime(trip_id='11_U_5', arrival_time=datetime.timedelta(seconds=75140), departure_time=datetime.timedelta(seconds=75140), stop_id='6155560499219983615', stop_sequence=18),\n",
       " GtfsStopTime(trip_id='11_U_5', arrival_time=datetime.timedelta(seconds=75210), departure_time=datetime.timedelta(seconds=75210), stop_id='-2988706951121556919', stop_sequence=19),\n",
       " GtfsStopTime(trip_id='11_U_5', arrival_time=datetime.timedelta(seconds=75280), departure_time=datetime.timedelta(seconds=75280), stop_id='-2301726101652392779', stop_sequence=20),\n",
       " GtfsStopTime(trip_id='11_U_5', arrival_time=datetime.timedelta(seconds=75350), departure_time=datetime.timedelta(seconds=75350), stop_id='1296326338167383190', stop_sequence=21),\n",
       " GtfsStopTime(trip_id='11_U_5', arrival_time=datetime.timedelta(seconds=75420), departure_time=datetime.timedelta(seconds=75420), stop_id='-7978747450465050333', stop_sequence=22),\n",
       " GtfsStopTime(trip_id='11_U_6', arrival_time=datetime.timedelta(seconds=75600), departure_time=datetime.timedelta(seconds=75600), stop_id='-7978747450465050333', stop_sequence=1),\n",
       " GtfsStopTime(trip_id='11_U_6', arrival_time=datetime.timedelta(seconds=75660), departure_time=datetime.timedelta(seconds=75660), stop_id='3296271802036003081', stop_sequence=2),\n",
       " GtfsStopTime(trip_id='11_U_6', arrival_time=datetime.timedelta(seconds=75720), departure_time=datetime.timedelta(seconds=75720), stop_id='1049215841727389041', stop_sequence=3),\n",
       " GtfsStopTime(trip_id='11_U_6', arrival_time=datetime.timedelta(seconds=75780), departure_time=datetime.timedelta(seconds=75780), stop_id='-5726904257136342933', stop_sequence=4),\n",
       " GtfsStopTime(trip_id='11_U_6', arrival_time=datetime.timedelta(seconds=75840), departure_time=datetime.timedelta(seconds=75840), stop_id='3449979680681364563', stop_sequence=5),\n",
       " GtfsStopTime(trip_id='11_U_6', arrival_time=datetime.timedelta(seconds=75930), departure_time=datetime.timedelta(seconds=75930), stop_id='7365573631076063212', stop_sequence=6),\n",
       " GtfsStopTime(trip_id='11_U_6', arrival_time=datetime.timedelta(seconds=76020), departure_time=datetime.timedelta(seconds=76020), stop_id='-4437974693873153127', stop_sequence=7),\n",
       " GtfsStopTime(trip_id='11_U_6', arrival_time=datetime.timedelta(seconds=76050), departure_time=datetime.timedelta(seconds=76050), stop_id='1404690494610635814', stop_sequence=8),\n",
       " GtfsStopTime(trip_id='11_U_6', arrival_time=datetime.timedelta(seconds=76080), departure_time=datetime.timedelta(seconds=76080), stop_id='6648252636946330296', stop_sequence=9),\n",
       " GtfsStopTime(trip_id='11_U_6', arrival_time=datetime.timedelta(seconds=76110), departure_time=datetime.timedelta(seconds=76110), stop_id='157321904888292943', stop_sequence=10),\n",
       " GtfsStopTime(trip_id='11_U_6', arrival_time=datetime.timedelta(seconds=76140), departure_time=datetime.timedelta(seconds=76140), stop_id='3669347682309318554', stop_sequence=11),\n",
       " GtfsStopTime(trip_id='11_U_6', arrival_time=datetime.timedelta(seconds=76290), departure_time=datetime.timedelta(seconds=76290), stop_id='157321904888292943', stop_sequence=12),\n",
       " GtfsStopTime(trip_id='11_U_6', arrival_time=datetime.timedelta(seconds=76440), departure_time=datetime.timedelta(seconds=76440), stop_id='-2964692957099076441', stop_sequence=13),\n",
       " GtfsStopTime(trip_id='11_U_6', arrival_time=datetime.timedelta(seconds=76560), departure_time=datetime.timedelta(seconds=76560), stop_id='5163297973265390477', stop_sequence=14),\n",
       " GtfsStopTime(trip_id='11_U_6', arrival_time=datetime.timedelta(seconds=76680), departure_time=datetime.timedelta(seconds=76680), stop_id='-2437510910615000085', stop_sequence=15),\n",
       " GtfsStopTime(trip_id='11_U_6', arrival_time=datetime.timedelta(seconds=76800), departure_time=datetime.timedelta(seconds=76800), stop_id='4493647475016865041', stop_sequence=16),\n",
       " GtfsStopTime(trip_id='11_U_6', arrival_time=datetime.timedelta(seconds=76870), departure_time=datetime.timedelta(seconds=76870), stop_id='-7416044751956061976', stop_sequence=17),\n",
       " GtfsStopTime(trip_id='11_U_6', arrival_time=datetime.timedelta(seconds=76940), departure_time=datetime.timedelta(seconds=76940), stop_id='6155560499219983615', stop_sequence=18),\n",
       " GtfsStopTime(trip_id='11_U_6', arrival_time=datetime.timedelta(seconds=77010), departure_time=datetime.timedelta(seconds=77010), stop_id='-2988706951121556919', stop_sequence=19),\n",
       " GtfsStopTime(trip_id='11_U_6', arrival_time=datetime.timedelta(seconds=77080), departure_time=datetime.timedelta(seconds=77080), stop_id='-2301726101652392779', stop_sequence=20),\n",
       " GtfsStopTime(trip_id='11_U_6', arrival_time=datetime.timedelta(seconds=77150), departure_time=datetime.timedelta(seconds=77150), stop_id='1296326338167383190', stop_sequence=21),\n",
       " GtfsStopTime(trip_id='11_U_6', arrival_time=datetime.timedelta(seconds=77220), departure_time=datetime.timedelta(seconds=77220), stop_id='-7978747450465050333', stop_sequence=22),\n",
       " GtfsStopTime(trip_id='11_U_7', arrival_time=datetime.timedelta(seconds=77400), departure_time=datetime.timedelta(seconds=77400), stop_id='-7978747450465050333', stop_sequence=1),\n",
       " GtfsStopTime(trip_id='11_U_7', arrival_time=datetime.timedelta(seconds=77460), departure_time=datetime.timedelta(seconds=77460), stop_id='3296271802036003081', stop_sequence=2),\n",
       " GtfsStopTime(trip_id='11_U_7', arrival_time=datetime.timedelta(seconds=77520), departure_time=datetime.timedelta(seconds=77520), stop_id='1049215841727389041', stop_sequence=3),\n",
       " GtfsStopTime(trip_id='11_U_7', arrival_time=datetime.timedelta(seconds=77580), departure_time=datetime.timedelta(seconds=77580), stop_id='-5726904257136342933', stop_sequence=4),\n",
       " GtfsStopTime(trip_id='11_U_7', arrival_time=datetime.timedelta(seconds=77640), departure_time=datetime.timedelta(seconds=77640), stop_id='3449979680681364563', stop_sequence=5),\n",
       " GtfsStopTime(trip_id='11_U_7', arrival_time=datetime.timedelta(seconds=77730), departure_time=datetime.timedelta(seconds=77730), stop_id='7365573631076063212', stop_sequence=6),\n",
       " GtfsStopTime(trip_id='11_U_7', arrival_time=datetime.timedelta(seconds=77820), departure_time=datetime.timedelta(seconds=77820), stop_id='-4437974693873153127', stop_sequence=7),\n",
       " GtfsStopTime(trip_id='11_U_7', arrival_time=datetime.timedelta(seconds=77850), departure_time=datetime.timedelta(seconds=77850), stop_id='1404690494610635814', stop_sequence=8),\n",
       " GtfsStopTime(trip_id='11_U_7', arrival_time=datetime.timedelta(seconds=77880), departure_time=datetime.timedelta(seconds=77880), stop_id='6648252636946330296', stop_sequence=9),\n",
       " GtfsStopTime(trip_id='11_U_7', arrival_time=datetime.timedelta(seconds=77910), departure_time=datetime.timedelta(seconds=77910), stop_id='157321904888292943', stop_sequence=10),\n",
       " GtfsStopTime(trip_id='11_U_7', arrival_time=datetime.timedelta(seconds=77940), departure_time=datetime.timedelta(seconds=77940), stop_id='3669347682309318554', stop_sequence=11),\n",
       " GtfsStopTime(trip_id='11_U_7', arrival_time=datetime.timedelta(seconds=78090), departure_time=datetime.timedelta(seconds=78090), stop_id='157321904888292943', stop_sequence=12),\n",
       " GtfsStopTime(trip_id='11_U_7', arrival_time=datetime.timedelta(seconds=78240), departure_time=datetime.timedelta(seconds=78240), stop_id='-2964692957099076441', stop_sequence=13),\n",
       " GtfsStopTime(trip_id='11_U_7', arrival_time=datetime.timedelta(seconds=78360), departure_time=datetime.timedelta(seconds=78360), stop_id='5163297973265390477', stop_sequence=14),\n",
       " GtfsStopTime(trip_id='11_U_7', arrival_time=datetime.timedelta(seconds=78480), departure_time=datetime.timedelta(seconds=78480), stop_id='-2437510910615000085', stop_sequence=15),\n",
       " GtfsStopTime(trip_id='11_U_7', arrival_time=datetime.timedelta(seconds=78600), departure_time=datetime.timedelta(seconds=78600), stop_id='4493647475016865041', stop_sequence=16),\n",
       " GtfsStopTime(trip_id='11_U_7', arrival_time=datetime.timedelta(seconds=78670), departure_time=datetime.timedelta(seconds=78670), stop_id='-7416044751956061976', stop_sequence=17),\n",
       " GtfsStopTime(trip_id='11_U_7', arrival_time=datetime.timedelta(seconds=78740), departure_time=datetime.timedelta(seconds=78740), stop_id='6155560499219983615', stop_sequence=18),\n",
       " GtfsStopTime(trip_id='11_U_7', arrival_time=datetime.timedelta(seconds=78810), departure_time=datetime.timedelta(seconds=78810), stop_id='-2988706951121556919', stop_sequence=19),\n",
       " GtfsStopTime(trip_id='11_U_7', arrival_time=datetime.timedelta(seconds=78880), departure_time=datetime.timedelta(seconds=78880), stop_id='-2301726101652392779', stop_sequence=20),\n",
       " GtfsStopTime(trip_id='11_U_7', arrival_time=datetime.timedelta(seconds=78950), departure_time=datetime.timedelta(seconds=78950), stop_id='1296326338167383190', stop_sequence=21),\n",
       " GtfsStopTime(trip_id='11_U_7', arrival_time=datetime.timedelta(seconds=79020), departure_time=datetime.timedelta(seconds=79020), stop_id='-7978747450465050333', stop_sequence=22),\n",
       " GtfsStopTime(trip_id='11_U_8', arrival_time=datetime.timedelta(seconds=80400), departure_time=datetime.timedelta(seconds=80400), stop_id='-7978747450465050333', stop_sequence=1),\n",
       " GtfsStopTime(trip_id='11_U_8', arrival_time=datetime.timedelta(seconds=80460), departure_time=datetime.timedelta(seconds=80460), stop_id='3296271802036003081', stop_sequence=2),\n",
       " GtfsStopTime(trip_id='11_U_8', arrival_time=datetime.timedelta(seconds=80520), departure_time=datetime.timedelta(seconds=80520), stop_id='1049215841727389041', stop_sequence=3),\n",
       " GtfsStopTime(trip_id='11_U_8', arrival_time=datetime.timedelta(seconds=80580), departure_time=datetime.timedelta(seconds=80580), stop_id='-5726904257136342933', stop_sequence=4),\n",
       " GtfsStopTime(trip_id='11_U_8', arrival_time=datetime.timedelta(seconds=80640), departure_time=datetime.timedelta(seconds=80640), stop_id='3449979680681364563', stop_sequence=5),\n",
       " GtfsStopTime(trip_id='11_U_8', arrival_time=datetime.timedelta(seconds=80730), departure_time=datetime.timedelta(seconds=80730), stop_id='7365573631076063212', stop_sequence=6),\n",
       " GtfsStopTime(trip_id='11_U_8', arrival_time=datetime.timedelta(seconds=80820), departure_time=datetime.timedelta(seconds=80820), stop_id='-4437974693873153127', stop_sequence=7),\n",
       " GtfsStopTime(trip_id='11_U_8', arrival_time=datetime.timedelta(seconds=80850), departure_time=datetime.timedelta(seconds=80850), stop_id='1404690494610635814', stop_sequence=8),\n",
       " GtfsStopTime(trip_id='11_U_8', arrival_time=datetime.timedelta(seconds=80880), departure_time=datetime.timedelta(seconds=80880), stop_id='6648252636946330296', stop_sequence=9),\n",
       " GtfsStopTime(trip_id='11_U_8', arrival_time=datetime.timedelta(seconds=80910), departure_time=datetime.timedelta(seconds=80910), stop_id='157321904888292943', stop_sequence=10),\n",
       " GtfsStopTime(trip_id='11_U_8', arrival_time=datetime.timedelta(seconds=80940), departure_time=datetime.timedelta(seconds=80940), stop_id='3669347682309318554', stop_sequence=11),\n",
       " GtfsStopTime(trip_id='11_U_8', arrival_time=datetime.timedelta(seconds=81090), departure_time=datetime.timedelta(seconds=81090), stop_id='157321904888292943', stop_sequence=12),\n",
       " GtfsStopTime(trip_id='11_U_8', arrival_time=datetime.timedelta(seconds=81240), departure_time=datetime.timedelta(seconds=81240), stop_id='-2964692957099076441', stop_sequence=13),\n",
       " GtfsStopTime(trip_id='11_U_8', arrival_time=datetime.timedelta(seconds=81360), departure_time=datetime.timedelta(seconds=81360), stop_id='5163297973265390477', stop_sequence=14),\n",
       " GtfsStopTime(trip_id='11_U_8', arrival_time=datetime.timedelta(seconds=81480), departure_time=datetime.timedelta(seconds=81480), stop_id='-2437510910615000085', stop_sequence=15),\n",
       " GtfsStopTime(trip_id='11_U_8', arrival_time=datetime.timedelta(seconds=81600), departure_time=datetime.timedelta(seconds=81600), stop_id='4493647475016865041', stop_sequence=16),\n",
       " GtfsStopTime(trip_id='11_U_8', arrival_time=datetime.timedelta(seconds=81670), departure_time=datetime.timedelta(seconds=81670), stop_id='-7416044751956061976', stop_sequence=17),\n",
       " GtfsStopTime(trip_id='11_U_8', arrival_time=datetime.timedelta(seconds=81740), departure_time=datetime.timedelta(seconds=81740), stop_id='6155560499219983615', stop_sequence=18),\n",
       " GtfsStopTime(trip_id='11_U_8', arrival_time=datetime.timedelta(seconds=81810), departure_time=datetime.timedelta(seconds=81810), stop_id='-2988706951121556919', stop_sequence=19),\n",
       " GtfsStopTime(trip_id='11_U_8', arrival_time=datetime.timedelta(seconds=81880), departure_time=datetime.timedelta(seconds=81880), stop_id='-2301726101652392779', stop_sequence=20),\n",
       " GtfsStopTime(trip_id='11_U_8', arrival_time=datetime.timedelta(seconds=81950), departure_time=datetime.timedelta(seconds=81950), stop_id='1296326338167383190', stop_sequence=21),\n",
       " GtfsStopTime(trip_id='11_U_8', arrival_time=datetime.timedelta(seconds=82020), departure_time=datetime.timedelta(seconds=82020), stop_id='-7978747450465050333', stop_sequence=22),\n",
       " GtfsStopTime(trip_id='11_U_9', arrival_time=datetime.timedelta(seconds=84000), departure_time=datetime.timedelta(seconds=84000), stop_id='-7978747450465050333', stop_sequence=1),\n",
       " GtfsStopTime(trip_id='11_U_9', arrival_time=datetime.timedelta(seconds=84060), departure_time=datetime.timedelta(seconds=84060), stop_id='3296271802036003081', stop_sequence=2),\n",
       " GtfsStopTime(trip_id='11_U_9', arrival_time=datetime.timedelta(seconds=84120), departure_time=datetime.timedelta(seconds=84120), stop_id='1049215841727389041', stop_sequence=3),\n",
       " GtfsStopTime(trip_id='11_U_9', arrival_time=datetime.timedelta(seconds=84180), departure_time=datetime.timedelta(seconds=84180), stop_id='-5726904257136342933', stop_sequence=4),\n",
       " GtfsStopTime(trip_id='11_U_9', arrival_time=datetime.timedelta(seconds=84240), departure_time=datetime.timedelta(seconds=84240), stop_id='3449979680681364563', stop_sequence=5),\n",
       " GtfsStopTime(trip_id='11_U_9', arrival_time=datetime.timedelta(seconds=84330), departure_time=datetime.timedelta(seconds=84330), stop_id='7365573631076063212', stop_sequence=6),\n",
       " GtfsStopTime(trip_id='11_U_9', arrival_time=datetime.timedelta(seconds=84420), departure_time=datetime.timedelta(seconds=84420), stop_id='-4437974693873153127', stop_sequence=7),\n",
       " GtfsStopTime(trip_id='11_U_9', arrival_time=datetime.timedelta(seconds=84450), departure_time=datetime.timedelta(seconds=84450), stop_id='1404690494610635814', stop_sequence=8),\n",
       " GtfsStopTime(trip_id='11_U_9', arrival_time=datetime.timedelta(seconds=84480), departure_time=datetime.timedelta(seconds=84480), stop_id='6648252636946330296', stop_sequence=9),\n",
       " GtfsStopTime(trip_id='11_U_9', arrival_time=datetime.timedelta(seconds=84510), departure_time=datetime.timedelta(seconds=84510), stop_id='157321904888292943', stop_sequence=10),\n",
       " GtfsStopTime(trip_id='11_U_9', arrival_time=datetime.timedelta(seconds=84540), departure_time=datetime.timedelta(seconds=84540), stop_id='3669347682309318554', stop_sequence=11),\n",
       " GtfsStopTime(trip_id='11_U_9', arrival_time=datetime.timedelta(seconds=84690), departure_time=datetime.timedelta(seconds=84690), stop_id='157321904888292943', stop_sequence=12),\n",
       " GtfsStopTime(trip_id='11_U_9', arrival_time=datetime.timedelta(seconds=84840), departure_time=datetime.timedelta(seconds=84840), stop_id='-2964692957099076441', stop_sequence=13),\n",
       " GtfsStopTime(trip_id='11_U_9', arrival_time=datetime.timedelta(seconds=84960), departure_time=datetime.timedelta(seconds=84960), stop_id='5163297973265390477', stop_sequence=14),\n",
       " GtfsStopTime(trip_id='11_U_9', arrival_time=datetime.timedelta(seconds=85080), departure_time=datetime.timedelta(seconds=85080), stop_id='-2437510910615000085', stop_sequence=15),\n",
       " GtfsStopTime(trip_id='11_U_9', arrival_time=datetime.timedelta(seconds=85200), departure_time=datetime.timedelta(seconds=85200), stop_id='4493647475016865041', stop_sequence=16),\n",
       " GtfsStopTime(trip_id='11_U_9', arrival_time=datetime.timedelta(seconds=85270), departure_time=datetime.timedelta(seconds=85270), stop_id='-7416044751956061976', stop_sequence=17),\n",
       " GtfsStopTime(trip_id='11_U_9', arrival_time=datetime.timedelta(seconds=85340), departure_time=datetime.timedelta(seconds=85340), stop_id='6155560499219983615', stop_sequence=18),\n",
       " GtfsStopTime(trip_id='11_U_9', arrival_time=datetime.timedelta(seconds=85410), departure_time=datetime.timedelta(seconds=85410), stop_id='-2988706951121556919', stop_sequence=19),\n",
       " GtfsStopTime(trip_id='11_U_9', arrival_time=datetime.timedelta(seconds=85480), departure_time=datetime.timedelta(seconds=85480), stop_id='-2301726101652392779', stop_sequence=20),\n",
       " GtfsStopTime(trip_id='11_U_9', arrival_time=datetime.timedelta(seconds=85550), departure_time=datetime.timedelta(seconds=85550), stop_id='1296326338167383190', stop_sequence=21),\n",
       " GtfsStopTime(trip_id='11_U_9', arrival_time=datetime.timedelta(seconds=85620), departure_time=datetime.timedelta(seconds=85620), stop_id='-7978747450465050333', stop_sequence=22)]"
      ]
     },
     "execution_count": 28,
     "metadata": {},
     "output_type": "execute_result"
    }
   ],
   "source": [
    "gtfs_stop_times = []\n",
    "gtfs_stop_times += get_gtfs_stop_times(n_trips_uteis, all_stop_names_uteis, scheduled_stop_names_uteis, 0)\n",
    "gtfs_stop_times += get_gtfs_stop_times(n_trips_domingos, all_stop_names_domingos, scheduled_stop_names_domingos, 1)\n",
    "gtfs_stop_times"
   ]
  },
  {
   "cell_type": "markdown",
   "metadata": {},
   "source": [
    "### Save GTFS Schedule feed to disk"
   ]
  },
  {
   "cell_type": "markdown",
   "metadata": {},
   "source": [
    "1. Write all entities in CSV format"
   ]
  },
  {
   "cell_type": "code",
   "execution_count": 29,
   "metadata": {},
   "outputs": [],
   "source": [
    "csv_writer = GtfsCsvWriter(directory_path='../resources/aveiro-bus.gtfs')\n",
    "csv_writer.write(gtfs_agency)\n",
    "csv_writer.write(*gtfs_stops)\n",
    "csv_writer.write(*gtfs_routes)\n",
    "csv_writer.write(*gtfs_calendars)\n",
    "csv_writer.write(*gtfs_calendar_dates)\n",
    "csv_writer.write(*gtfs_trips)\n",
    "csv_writer.write(*gtfs_stop_times)"
   ]
  },
  {
   "cell_type": "markdown",
   "metadata": {},
   "source": [
    "2. Zip all CSV files into a single ZIP file"
   ]
  },
  {
   "cell_type": "code",
   "execution_count": 30,
   "metadata": {},
   "outputs": [],
   "source": [
    "with zipfile.ZipFile(csv_writer.directory_path.with_suffix('.gtfs.zip'), 'w') as zip_ref:\n",
    "    for file_name in os.listdir(csv_writer.directory_path):\n",
    "        zip_ref.write(csv_writer.directory_path / file_name, file_name)"
   ]
  },
  {
   "cell_type": "markdown",
   "metadata": {},
   "source": [
    "## 4. Validate the GTFS feed using the Canonical GTFS Feed Validator."
   ]
  },
  {
   "cell_type": "code",
   "execution_count": 31,
   "metadata": {},
   "outputs": [
    {
     "name": "stdout",
     "output_type": "stream",
     "text": [
      "Feb 04, 2025 2:03:33 AM org.mobilitydata.gtfsvalidator.util.VersionResolver resolveLatestReleaseVersion\n",
      "INFO: resolved release version=6.0.0\n",
      "Feb 04, 2025 2:03:33 AM org.mobilitydata.gtfsvalidator.runner.ValidationRunner run\n",
      "INFO: VersionInfo: VersionInfo{currentVersion=Optional[6.0.0], latestReleaseVersion=Optional[6.0.0]}\n",
      "Feb 04, 2025 2:03:34 AM org.mobilitydata.gtfsvalidator.runner.ValidationRunner run\n",
      "INFO: validation config:\n",
      "ValidationRunnerConfig{gtfsSource=file:///mnt/c/Users/joaoo/OneDrive%20-%20Universidade%20de%20Aveiro/Dissertation/Development/lines-gtfs-demo/src/../resources/aveiro-bus.gtfs.zip, outputDirectory=../resources/gtfs-validator-output, storageDirectory=Optional.empty, validationReportFileName=report.json, htmlReportFileName=report.html, systemErrorsReportFileName=system_errors.json, numThreads=1, countryCode=ZZ, dateForValidation=2025-02-04, prettyJson=false, skipValidatorUpdate=false}\n",
      "Feb 04, 2025 2:03:34 AM org.mobilitydata.gtfsvalidator.runner.ValidationRunner run\n",
      "INFO: validators:\n",
      "Single-entity validators\n",
      "\tGtfsShape: GtfsShapeLatLonValidator \n",
      "\tGtfsLevel: GtfsLevelMixedCaseValidator \n",
      "\tGtfsAttribution: AttributionWithoutRoleValidator \n",
      "\tGtfsFareProduct: GtfsFareProductCurrencyAmountValidator \n",
      "\tGtfsAgency: GtfsAgencyMixedCaseValidator \n",
      "\tGtfsFareMedia: FareMediaNameValidator \n",
      "\tGtfsRoute: GtfsRouteMixedCaseValidator RouteColorContrastValidator RouteNameValidator \n",
      "\tGtfsTimeframe: GtfsTimeframeEndRangeValidator TimeframeStartAndEndTimeValidator \n",
      "\tGtfsStop: GtfsStopLatLonValidator GtfsStopMixedCaseValidator LocationTypeSingleEntityValidator StopNameValidator StopRequiredLocationValidator \n",
      "\tGtfsFareTransferRule: FareTransferRuleDurationLimitTypeValidator FareTransferRuleTransferCountValidator \n",
      "\tGtfsPathway: BidirectionalExitGateValidator GtfsPathwayMixedCaseValidator PathwayLoopValidator \n",
      "\tGtfsFeedInfo: FeedContactValidator FeedExpirationDateValidator FeedServiceDateValidator GtfsFeedInfoEndRangeValidator \n",
      "\tGtfsStopTime: GtfsStopTimeEndRangeValidator StopTimesGeographyIdPresenceValidator StopTimesShapeDistTraveledPresenceValidator \n",
      "\tGtfsTrip: GtfsTripMixedCaseValidator \n",
      "\tGtfsNetwork: GtfsNetworkMixedCaseValidator \n",
      "\tGtfsBookingRules: BookingRulesEntityValidator GtfsBookingRulesMixedCaseValidator \n",
      "\tGtfsCalendar: GtfsCalendarEndRangeValidator \n",
      "\tGtfsFrequency: GtfsFrequencyEndRangeValidator \n",
      "\tGtfsLocationGroups: GtfsLocationGroupsMixedCaseValidator \n",
      "Single-file validators\n",
      "\tGtfsAgencyTableContainer: AgencyConsistencyValidator \n",
      "\tGtfsRouteTableContainer: DuplicateRouteNameValidator \n",
      "\tGtfsTimeframeTableContainer: TimeframeOverlapValidator \n",
      "\tGtfsStopTimeTableContainer: MissingTripEdgeValidator StopTimeArrivalAndDepartureTimeValidator StopTimeIncreasingDistanceValidator TimepointTimeValidator \n",
      "\tGtfsFrequencyTableContainer: OverlappingFrequencyValidator \n",
      "\tGtfsStopTableContainer: ParentStationValidator \n",
      "\tGtfsTransferTableContainer: TransferStopIdsConditionalValidator \n",
      "\tGtfsFareMediaTableContainer: DuplicateFareMediaValidator \n",
      "\tGtfsShapeTableContainer: ShapeIncreasingDistanceValidator SingleShapePointValidator \n",
      "Multi-file validators\n",
      "\tBikesAllowanceValidator BlockTripsWithOverlappingStopTimesValidator DateTripsValidator ExpiredCalendarValidator FareAttributeAgencyIdValidator GtfsAttributionAgencyIdForeignKeyValidator GtfsAttributionRouteIdForeignKeyValidator GtfsAttributionTripIdForeignKeyValidator GtfsFareAttributeAgencyIdForeignKeyValidator GtfsFareLegRuleFareProductIdForeignKeyValidator GtfsFareLegRuleFromAreaIdForeignKeyValidator GtfsFareLegRuleFromTimeframeGroupIdForeignKeyValidator GtfsFareLegRuleNetworkIdForeignKeyValidator GtfsFareLegRuleToAreaIdForeignKeyValidator GtfsFareLegRuleToTimeframeGroupIdForeignKeyValidator GtfsFareProductFareMediaIdForeignKeyValidator GtfsFareRuleContainsIdForeignKeyValidator GtfsFareRuleDestinationIdForeignKeyValidator GtfsFareRuleFareIdForeignKeyValidator GtfsFareRuleOriginIdForeignKeyValidator GtfsFareRuleRouteIdForeignKeyValidator GtfsFareTransferRuleFareProductIdForeignKeyValidator GtfsFareTransferRuleFromLegGroupIdForeignKeyValidator GtfsFareTransferRuleToLegGroupIdForeignKeyValidator GtfsFrequencyTripIdForeignKeyValidator GtfsPathwayFromStopIdForeignKeyValidator GtfsPathwayToStopIdForeignKeyValidator GtfsRouteAgencyIdForeignKeyValidator GtfsRouteNetworkNetworkIdForeignKeyValidator GtfsRouteNetworkRouteIdForeignKeyValidator GtfsStopAreaAreaIdForeignKeyValidator GtfsStopAreaStopIdForeignKeyValidator GtfsStopLevelIdForeignKeyValidator GtfsStopParentStationForeignKeyValidator GtfsStopTimeDropOffBookingRuleIdForeignKeyValidator GtfsStopTimeLocationGroupIdForeignKeyValidator GtfsStopTimePickupBookingRuleIdForeignKeyValidator GtfsStopTimeStopIdForeignKeyValidator GtfsStopTimeTripIdForeignKeyValidator GtfsTransferFromRouteIdForeignKeyValidator GtfsTransferFromStopIdForeignKeyValidator GtfsTransferFromTripIdForeignKeyValidator GtfsTransferToRouteIdForeignKeyValidator GtfsTransferToStopIdForeignKeyValidator GtfsTransferToTripIdForeignKeyValidator GtfsTripRouteIdForeignKeyValidator GtfsTripServiceIdForeignKeyValidator GtfsTripShapeIdForeignKeyValidator LocationHasStopTimesValidator MatchingFeedAndAgencyLangValidator MissingCalendarAndCalendarDateValidator MissingFeedInfoValidator MissingLevelIdValidator MissingStopsFileValidator NetworkIdConsistencyValidator PathwayDanglingGenericNodeValidator PathwayEndpointTypeValidator PathwayReachableLocationValidator RouteAgencyIdValidator ShapeToStopMatchingValidator ShapeUsageValidator StopTimeTravelSpeedValidator StopZoneIdValidator TimeframeServiceIdForeignKeyValidator TransfersInSeatTransferTypeValidator TransfersStopTypeValidator TransfersTripReferenceValidator TranslationFieldAndReferenceValidator TripAndShapeDistanceValidator TripUsabilityValidator TripUsageValidator UrlConsistencyValidator \n",
      "\n",
      "Feb 04, 2025 2:03:34 AM org.mobilitydata.gtfsvalidator.table.GtfsFeedLoader loadAndValidate_aroundBody0\n",
      "INFO: Loading in 1 threads\n",
      "Feb 04, 2025 2:03:34 AM org.mobilitydata.gtfsvalidator.table.CsvFileLoader logFieldCacheStats\n",
      "INFO: Cache for agency.txt agency_lang: size = 1, lookup count = 1, hits = 0.00%, misses = 100.00%\n",
      "Feb 04, 2025 2:03:34 AM org.mobilitydata.gtfsvalidator.table.CsvFileLoader logFieldCacheStats\n",
      "INFO: Cache for calendar.txt start_date: size = 1, lookup count = 2, hits = 50.00%, misses = 50.00%\n",
      "Feb 04, 2025 2:03:34 AM org.mobilitydata.gtfsvalidator.table.CsvFileLoader logFieldCacheStats\n",
      "INFO: Cache for calendar.txt end_date: size = 1, lookup count = 2, hits = 50.00%, misses = 50.00%\n",
      "Feb 04, 2025 2:03:34 AM org.mobilitydata.gtfsvalidator.table.CsvFileLoader logFieldCacheStats\n",
      "INFO: Cache for calendar_dates.txt service_id: size = 3, lookup count = 93, hits = 96.77%, misses = 3.23%\n",
      "Feb 04, 2025 2:03:34 AM org.mobilitydata.gtfsvalidator.table.CsvFileLoader logFieldCacheStats\n",
      "INFO: Cache for calendar_dates.txt date: size = 62, lookup count = 93, hits = 33.33%, misses = 66.67%\n",
      "Feb 04, 2025 2:03:34 AM org.mobilitydata.gtfsvalidator.table.CsvFileLoader logFieldCacheStats\n",
      "INFO: Cache for routes.txt agency_id: size = 1, lookup count = 2, hits = 50.00%, misses = 50.00%\n",
      "Feb 04, 2025 2:03:34 AM org.mobilitydata.gtfsvalidator.table.CsvFileLoader logFieldCacheStats\n",
      "INFO: Cache for routes.txt route_color: size = 0, lookup count = 2, hits = 100.00%, misses = 0.00%\n",
      "Feb 04, 2025 2:03:34 AM org.mobilitydata.gtfsvalidator.table.CsvFileLoader logFieldCacheStats\n",
      "INFO: Cache for routes.txt route_text_color: size = 0, lookup count = 2, hits = 100.00%, misses = 0.00%\n",
      "Feb 04, 2025 2:03:34 AM org.mobilitydata.gtfsvalidator.table.CsvFileLoader logFieldCacheStats\n",
      "INFO: Cache for routes.txt network_id: size = 0, lookup count = 2, hits = 100.00%, misses = 0.00%\n",
      "Feb 04, 2025 2:03:34 AM org.mobilitydata.gtfsvalidator.table.CsvFileLoader logFieldCacheStats\n",
      "INFO: Cache for stops.txt zone_id: size = 0, lookup count = 22, hits = 100.00%, misses = 0.00%\n",
      "Feb 04, 2025 2:03:34 AM org.mobilitydata.gtfsvalidator.table.CsvFileLoader logFieldCacheStats\n",
      "INFO: Cache for stops.txt parent_station: size = 0, lookup count = 22, hits = 100.00%, misses = 0.00%\n",
      "Feb 04, 2025 2:03:34 AM org.mobilitydata.gtfsvalidator.table.CsvFileLoader logFieldCacheStats\n",
      "INFO: Cache for stops.txt level_id: size = 0, lookup count = 22, hits = 100.00%, misses = 0.00%\n",
      "Feb 04, 2025 2:03:34 AM org.mobilitydata.gtfsvalidator.table.CsvFileLoader logFieldCacheStats\n",
      "INFO: Cache for stop_times.txt trip_id: size = 15, lookup count = 483, hits = 96.89%, misses = 3.11%\n",
      "Feb 04, 2025 2:03:34 AM org.mobilitydata.gtfsvalidator.table.CsvFileLoader logFieldCacheStats\n",
      "INFO: Cache for stop_times.txt arrival_time: size = 465, lookup count = 483, hits = 3.73%, misses = 96.27%\n",
      "Feb 04, 2025 2:03:34 AM org.mobilitydata.gtfsvalidator.table.CsvFileLoader logFieldCacheStats\n",
      "INFO: Cache for stop_times.txt departure_time: size = 465, lookup count = 483, hits = 3.73%, misses = 96.27%\n",
      "Feb 04, 2025 2:03:34 AM org.mobilitydata.gtfsvalidator.table.CsvFileLoader logFieldCacheStats\n",
      "INFO: Cache for stop_times.txt stop_id: size = 22, lookup count = 483, hits = 95.45%, misses = 4.55%\n",
      "Feb 04, 2025 2:03:34 AM org.mobilitydata.gtfsvalidator.table.CsvFileLoader logFieldCacheStats\n",
      "INFO: Cache for stop_times.txt location_group_id: size = 0, lookup count = 483, hits = 100.00%, misses = 0.00%\n",
      "Feb 04, 2025 2:03:34 AM org.mobilitydata.gtfsvalidator.table.CsvFileLoader logFieldCacheStats\n",
      "INFO: Cache for stop_times.txt location_id: size = 0, lookup count = 483, hits = 100.00%, misses = 0.00%\n",
      "Feb 04, 2025 2:03:34 AM org.mobilitydata.gtfsvalidator.table.CsvFileLoader logFieldCacheStats\n",
      "INFO: Cache for stop_times.txt stop_headsign: size = 0, lookup count = 483, hits = 100.00%, misses = 0.00%\n",
      "Feb 04, 2025 2:03:34 AM org.mobilitydata.gtfsvalidator.table.CsvFileLoader logFieldCacheStats\n",
      "INFO: Cache for stop_times.txt start_pickup_drop_off_window: size = 0, lookup count = 483, hits = 100.00%, misses = 0.00%\n",
      "Feb 04, 2025 2:03:34 AM org.mobilitydata.gtfsvalidator.table.CsvFileLoader logFieldCacheStats\n",
      "INFO: Cache for stop_times.txt end_pickup_drop_off_window: size = 0, lookup count = 483, hits = 100.00%, misses = 0.00%\n",
      "Feb 04, 2025 2:03:34 AM org.mobilitydata.gtfsvalidator.table.CsvFileLoader logFieldCacheStats\n",
      "INFO: Cache for stop_times.txt pickup_booking_rule_id: size = 0, lookup count = 483, hits = 100.00%, misses = 0.00%\n",
      "Feb 04, 2025 2:03:34 AM org.mobilitydata.gtfsvalidator.table.CsvFileLoader logFieldCacheStats\n",
      "INFO: Cache for stop_times.txt drop_off_booking_rule_id: size = 0, lookup count = 483, hits = 100.00%, misses = 0.00%\n",
      "Feb 04, 2025 2:03:35 AM org.mobilitydata.gtfsvalidator.table.CsvFileLoader logFieldCacheStats\n",
      "INFO: Cache for trips.txt route_id: size = 2, lookup count = 24, hits = 91.67%, misses = 8.33%\n",
      "Feb 04, 2025 2:03:35 AM org.mobilitydata.gtfsvalidator.table.CsvFileLoader logFieldCacheStats\n",
      "INFO: Cache for trips.txt service_id: size = 2, lookup count = 24, hits = 91.67%, misses = 8.33%\n",
      "Feb 04, 2025 2:03:35 AM org.mobilitydata.gtfsvalidator.table.CsvFileLoader logFieldCacheStats\n",
      "INFO: Cache for trips.txt block_id: size = 0, lookup count = 24, hits = 100.00%, misses = 0.00%\n",
      "Feb 04, 2025 2:03:35 AM org.mobilitydata.gtfsvalidator.table.CsvFileLoader logFieldCacheStats\n",
      "INFO: Cache for trips.txt shape_id: size = 0, lookup count = 24, hits = 100.00%, misses = 0.00%\n",
      "Feb 04, 2025 2:03:35 AM org.mobilitydata.gtfsvalidator.performance.MemoryUsageRegister registerMemoryUsage\n",
      "INFO: Memory usage registered for key: GtfsFeedLoader.loadTables Max: 1.84 GiB Total: 120.00 MiB Free: 80.86 MiB Used: 39.14 MiB Diff: 31.81 MiB\n",
      "Feb 04, 2025 2:03:35 AM org.mobilitydata.gtfsvalidator.performance.MemoryUsageRegister registerMemoryUsage\n",
      "INFO: Memory usage registered for key: GtfsFeedLoader.executeMultiFileValidators Max: 1.84 GiB Total: 120.00 MiB Free: 79.16 MiB Used: 40.84 MiB Diff: -1.71 MiB\n",
      "Feb 04, 2025 2:03:35 AM org.mobilitydata.gtfsvalidator.performance.MemoryUsageRegister registerMemoryUsage\n",
      "INFO: Memory usage registered for key: org.mobilitydata.gtfsvalidator.table.GtfsFeedLoader.loadAndValidate Max: 1.84 GiB Total: 120.00 MiB Free: 79.16 MiB Used: 40.84 MiB Diff: 29.70 MiB\n",
      "Feb 04, 2025 2:03:35 AM org.mobilitydata.gtfsvalidator.performance.MemoryUsageRegister registerMemoryUsage\n",
      "INFO: Memory usage registered for key: ValidationRunner.run Max: 1.84 GiB Total: 120.00 MiB Free: 77.91 MiB Used: 42.09 MiB Diff: -29.11 MiB\n",
      "SLF4J: Failed to load class \"org.slf4j.impl.StaticLoggerBinder\".\n",
      "SLF4J: Defaulting to no-operation (NOP) logger implementation\n",
      "SLF4J: See http://www.slf4j.org/codes.html#StaticLoggerBinder for further details.\n",
      "Feb 04, 2025 2:03:36 AM org.mobilitydata.gtfsvalidator.runner.ValidationRunner printSummary\n",
      "SEVERE: \n",
      "----------------------------------------------------------------------------------------\n",
      "| Validators that were skipped because the data used by the validator is absent.       |\n",
      "----------------------------------------------------------------------------------------\n",
      "   StopTimesShapeDistTraveledPresenceValidator\n",
      "   StopTimeIncreasingDistanceValidator\n",
      "   GtfsTripMixedCaseValidator\n",
      "   GtfsAttributionAgencyIdForeignKeyValidator\n",
      "   GtfsAttributionRouteIdForeignKeyValidator\n",
      "   GtfsAttributionTripIdForeignKeyValidator\n",
      "   GtfsFareAttributeAgencyIdForeignKeyValidator\n",
      "   GtfsFareLegRuleFareProductIdForeignKeyValidator\n",
      "   GtfsFareLegRuleFromAreaIdForeignKeyValidator\n",
      "   GtfsFareLegRuleFromTimeframeGroupIdForeignKeyValidator\n",
      "   GtfsFareLegRuleToAreaIdForeignKeyValidator\n",
      "   GtfsFareLegRuleToTimeframeGroupIdForeignKeyValidator\n",
      "   GtfsFareProductFareMediaIdForeignKeyValidator\n",
      "   GtfsFareRuleContainsIdForeignKeyValidator\n",
      "   GtfsFareRuleDestinationIdForeignKeyValidator\n",
      "   GtfsFareRuleFareIdForeignKeyValidator\n",
      "   GtfsFareRuleOriginIdForeignKeyValidator\n",
      "   GtfsFareRuleRouteIdForeignKeyValidator\n",
      "   GtfsFareTransferRuleFareProductIdForeignKeyValidator\n",
      "   GtfsFareTransferRuleFromLegGroupIdForeignKeyValidator\n",
      "   GtfsFareTransferRuleToLegGroupIdForeignKeyValidator\n",
      "   GtfsFrequencyTripIdForeignKeyValidator\n",
      "   GtfsPathwayFromStopIdForeignKeyValidator\n",
      "   GtfsPathwayToStopIdForeignKeyValidator\n",
      "   GtfsRouteNetworkNetworkIdForeignKeyValidator\n",
      "   GtfsRouteNetworkRouteIdForeignKeyValidator\n",
      "   GtfsStopAreaAreaIdForeignKeyValidator\n",
      "   GtfsStopAreaStopIdForeignKeyValidator\n",
      "   GtfsStopLevelIdForeignKeyValidator\n",
      "   GtfsStopParentStationForeignKeyValidator\n",
      "   GtfsStopTimeDropOffBookingRuleIdForeignKeyValidator\n",
      "   GtfsStopTimeLocationGroupIdForeignKeyValidator\n",
      "   GtfsStopTimePickupBookingRuleIdForeignKeyValidator\n",
      "   GtfsTransferFromRouteIdForeignKeyValidator\n",
      "   GtfsTransferFromStopIdForeignKeyValidator\n",
      "   GtfsTransferFromTripIdForeignKeyValidator\n",
      "   GtfsTransferToRouteIdForeignKeyValidator\n",
      "   GtfsTransferToStopIdForeignKeyValidator\n",
      "   GtfsTransferToTripIdForeignKeyValidator\n",
      "   GtfsTripShapeIdForeignKeyValidator\n",
      "Feb 04, 2025 2:03:36 AM org.mobilitydata.gtfsvalidator.runner.ValidationRunner printSummary\n",
      "INFO: Validation took 0.674 seconds\n",
      "\n",
      "Feb 04, 2025 2:03:36 AM org.mobilitydata.gtfsvalidator.runner.ValidationRunner printSummary\n",
      "INFO: agency.txt\t1\n",
      "calendar.txt\t2\n",
      "calendar_dates.txt\t93\n",
      "routes.txt\t2\n",
      "stop_times.txt\t483\n",
      "stops.txt\t22\n",
      "trips.txt\t24\n"
     ]
    }
   ],
   "source": [
    "!java -jar ../resources/gtfs-validator.jar -i ../resources/aveiro-bus.gtfs.zip -o ../resources/gtfs-validator-output"
   ]
  }
 ],
 "metadata": {
  "kernelspec": {
   "display_name": ".venv",
   "language": "python",
   "name": "python3"
  },
  "language_info": {
   "codemirror_mode": {
    "name": "ipython",
    "version": 3
   },
   "file_extension": ".py",
   "mimetype": "text/x-python",
   "name": "python",
   "nbconvert_exporter": "python",
   "pygments_lexer": "ipython3",
   "version": "3.10.12"
  }
 },
 "nbformat": 4,
 "nbformat_minor": 2
}
